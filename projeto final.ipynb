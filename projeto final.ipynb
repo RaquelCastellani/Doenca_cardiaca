{
 "cells": [
  {
   "cell_type": "markdown",
   "id": "639dfd8c",
   "metadata": {},
   "source": [
    "# Projeto Final"
   ]
  },
  {
   "cell_type": "markdown",
   "id": "fe0d43a7",
   "metadata": {},
   "source": [
    "## Importação de bibliotecas e leitura de arquivo "
   ]
  },
  {
   "cell_type": "code",
   "execution_count": 1,
   "id": "ece75510",
   "metadata": {
    "ExecuteTime": {
     "end_time": "2022-05-19T15:11:16.975111Z",
     "start_time": "2022-05-19T15:11:13.565620Z"
    }
   },
   "outputs": [],
   "source": [
    "import pandas as pd\n",
    "import numpy as np \n",
    "import seaborn as sns\n",
    "import matplotlib.pyplot as plt\n",
    "import warnings\n",
    "warnings.filterwarnings('ignore')\n",
    "from sklearn.linear_model import LogisticRegression\n",
    "from sklearn.preprocessing import StandardScaler\n",
    "from sklearn.model_selection import train_test_split\n",
    "from pycaret.classification import *\n",
    "from sklearn.decomposition import PCA\n",
    "from sklearn.ensemble import AdaBoostClassifier\n",
    "from sklearn.model_selection import learning_curve\n",
    "from sklearn.metrics import roc_curve, roc_auc_score, plot_roc_curve\n",
    "from sklearn.tree import DecisionTreeClassifier"
   ]
  },
  {
   "cell_type": "code",
   "execution_count": 21,
   "id": "77e4dc36",
   "metadata": {
    "ExecuteTime": {
     "end_time": "2022-05-19T15:29:07.396892Z",
     "start_time": "2022-05-19T15:29:07.366506Z"
    }
   },
   "outputs": [],
   "source": [
    "df = pd.read_csv('heart.csv') #carregando o dataset"
   ]
  },
  {
   "cell_type": "markdown",
   "id": "e88f8620",
   "metadata": {},
   "source": [
    "## Informações "
   ]
  },
  {
   "cell_type": "markdown",
   "id": "3e4e1232",
   "metadata": {},
   "source": [
    "* **Idade**: em anos\n",
    "* **Sexo**: o sexo da pessoa\n",
    "    - **1**: masculino\n",
    "    - **0**: feminino\n",
    "* **Tipo**: tipo de dor torácica\n",
    " - **0**: assintomático\n",
    " - **1**: angina atípica\n",
    " - **2**: dor não anginosa\n",
    " - **3**: angina típica\n",
    "* **Pa repouso**: A pressão arterial em repouso da pessoa (mm Hg na admissão ao hospital)\n",
    "* **Colesterol**: a medição de colesterol da pessoa em mg/dl\n",
    "* **Glicemia**: glicemia em jejum da pessoa > 120 mg/dl\n",
    "    - **1** = verdadeiro\n",
    "    - **0** = falso\n",
    "* **Ecg repouso**: resultados eletrocardiográficos de repouso\n",
    "    - **0**: mostrando provável ou definitiva hipertrofia ventricular esquerda\n",
    "    - **1**: normal\n",
    "    - **2**: com anormalidade da onda ST-T (inversões da onda T e/ou elevação ou depressão de ST > 0,05 mV )\n",
    "* **Fc max**: A frequência cardíaca máxima da pessoa alcançada\n",
    "* **Exercicio**: angina foi induzida pelo exercício\n",
    "    - **1**: sim\n",
    "    - **0**: não\n",
    "* **Oldpeak**: depressão de ST induzida pelo exercício em relação ao repouso ('ST' refere-se a posições no gráfico de ECG.)\n",
    "* **Inclinacao**: a inclinação do segmento ST do exercício de pico \n",
    "    - **0**: inclinação descendente\n",
    "    - **1**: plano\n",
    "    - **2**: ascendente\n",
    "* **Veias**: o numero de veias\n",
    "* **Talessemia**: Um distúrbio do sangue chamado talassemia \n",
    "    - **0**: sem informação\n",
    "    - **1**: defeito fixo (sem fluxo sanguíneo em alguma parte do coração)\n",
    "    - **2**: fluxo sanguíneo normal\n",
    "    - **3**: defeito reversível (é observado um fluxo sanguíneo mas não é normal)\n",
    "* **Output**: Ataque cardiaco\n",
    "    - **1**: não\n",
    "    - **0**: sim"
   ]
  },
  {
   "cell_type": "markdown",
   "id": "a5d46700",
   "metadata": {},
   "source": [
    "## Limpeza de dados"
   ]
  },
  {
   "cell_type": "code",
   "execution_count": 22,
   "id": "ba1be2a4",
   "metadata": {
    "ExecuteTime": {
     "end_time": "2022-05-19T15:29:10.517769Z",
     "start_time": "2022-05-19T15:29:10.493886Z"
    }
   },
   "outputs": [],
   "source": [
    "df = df.rename(columns={'age':'idade', 'sex':'sexo', 'cp':'tipo', 'trtbps':'pa repouso', 'chol':'colesterol', 'fbs':'glicemia', 'restecg':'ecg repouso', 'thalachh':'fc max',\n",
    "       'exng':'exercicio', 'oldpeak':'oldpeak', 'slp':'inclinacao', 'caa':'veias', 'thall':'talessemia', 'output':'output'}) #renomeando colunas"
   ]
  },
  {
   "cell_type": "code",
   "execution_count": 23,
   "id": "7397bcab",
   "metadata": {
    "ExecuteTime": {
     "end_time": "2022-05-19T15:29:12.430834Z",
     "start_time": "2022-05-19T15:29:12.418682Z"
    }
   },
   "outputs": [],
   "source": [
    "df = df.drop(['inclinacao'], axis=1)"
   ]
  },
  {
   "cell_type": "markdown",
   "id": "27c84961",
   "metadata": {},
   "source": [
    "## Analise exploratoria"
   ]
  },
  {
   "cell_type": "code",
   "execution_count": 41,
   "id": "20caca7c",
   "metadata": {
    "ExecuteTime": {
     "end_time": "2022-05-19T15:36:24.932976Z",
     "start_time": "2022-05-19T15:36:24.903812Z"
    }
   },
   "outputs": [
    {
     "data": {
      "text/html": [
       "<div>\n",
       "<style scoped>\n",
       "    .dataframe tbody tr th:only-of-type {\n",
       "        vertical-align: middle;\n",
       "    }\n",
       "\n",
       "    .dataframe tbody tr th {\n",
       "        vertical-align: top;\n",
       "    }\n",
       "\n",
       "    .dataframe thead th {\n",
       "        text-align: right;\n",
       "    }\n",
       "</style>\n",
       "<table border=\"1\" class=\"dataframe\">\n",
       "  <thead>\n",
       "    <tr style=\"text-align: right;\">\n",
       "      <th></th>\n",
       "      <th>idade</th>\n",
       "      <th>sexo</th>\n",
       "      <th>tipo</th>\n",
       "      <th>pa repouso</th>\n",
       "      <th>colesterol</th>\n",
       "      <th>glicemia</th>\n",
       "      <th>ecg repouso</th>\n",
       "      <th>fc max</th>\n",
       "      <th>exercicio</th>\n",
       "      <th>oldpeak</th>\n",
       "      <th>veias</th>\n",
       "      <th>talessemia</th>\n",
       "      <th>output</th>\n",
       "    </tr>\n",
       "  </thead>\n",
       "  <tbody>\n",
       "    <tr>\n",
       "      <th>0</th>\n",
       "      <td>63</td>\n",
       "      <td>1</td>\n",
       "      <td>3</td>\n",
       "      <td>145</td>\n",
       "      <td>233</td>\n",
       "      <td>1</td>\n",
       "      <td>0</td>\n",
       "      <td>150</td>\n",
       "      <td>0</td>\n",
       "      <td>2.3</td>\n",
       "      <td>0</td>\n",
       "      <td>1</td>\n",
       "      <td>1</td>\n",
       "    </tr>\n",
       "    <tr>\n",
       "      <th>1</th>\n",
       "      <td>37</td>\n",
       "      <td>1</td>\n",
       "      <td>2</td>\n",
       "      <td>130</td>\n",
       "      <td>250</td>\n",
       "      <td>0</td>\n",
       "      <td>1</td>\n",
       "      <td>187</td>\n",
       "      <td>0</td>\n",
       "      <td>3.5</td>\n",
       "      <td>0</td>\n",
       "      <td>2</td>\n",
       "      <td>1</td>\n",
       "    </tr>\n",
       "    <tr>\n",
       "      <th>2</th>\n",
       "      <td>41</td>\n",
       "      <td>0</td>\n",
       "      <td>1</td>\n",
       "      <td>130</td>\n",
       "      <td>204</td>\n",
       "      <td>0</td>\n",
       "      <td>0</td>\n",
       "      <td>172</td>\n",
       "      <td>0</td>\n",
       "      <td>1.4</td>\n",
       "      <td>0</td>\n",
       "      <td>2</td>\n",
       "      <td>1</td>\n",
       "    </tr>\n",
       "    <tr>\n",
       "      <th>3</th>\n",
       "      <td>56</td>\n",
       "      <td>1</td>\n",
       "      <td>1</td>\n",
       "      <td>120</td>\n",
       "      <td>236</td>\n",
       "      <td>0</td>\n",
       "      <td>1</td>\n",
       "      <td>178</td>\n",
       "      <td>0</td>\n",
       "      <td>0.8</td>\n",
       "      <td>0</td>\n",
       "      <td>2</td>\n",
       "      <td>1</td>\n",
       "    </tr>\n",
       "    <tr>\n",
       "      <th>4</th>\n",
       "      <td>57</td>\n",
       "      <td>0</td>\n",
       "      <td>0</td>\n",
       "      <td>120</td>\n",
       "      <td>354</td>\n",
       "      <td>0</td>\n",
       "      <td>1</td>\n",
       "      <td>163</td>\n",
       "      <td>1</td>\n",
       "      <td>0.6</td>\n",
       "      <td>0</td>\n",
       "      <td>2</td>\n",
       "      <td>1</td>\n",
       "    </tr>\n",
       "  </tbody>\n",
       "</table>\n",
       "</div>"
      ],
      "text/plain": [
       "   idade  sexo  tipo  pa repouso  colesterol  glicemia  ecg repouso  fc max  \\\n",
       "0     63     1     3         145         233         1            0     150   \n",
       "1     37     1     2         130         250         0            1     187   \n",
       "2     41     0     1         130         204         0            0     172   \n",
       "3     56     1     1         120         236         0            1     178   \n",
       "4     57     0     0         120         354         0            1     163   \n",
       "\n",
       "   exercicio  oldpeak  veias  talessemia  output  \n",
       "0          0      2.3      0           1       1  \n",
       "1          0      3.5      0           2       1  \n",
       "2          0      1.4      0           2       1  \n",
       "3          0      0.8      0           2       1  \n",
       "4          1      0.6      0           2       1  "
      ]
     },
     "execution_count": 41,
     "metadata": {},
     "output_type": "execute_result"
    }
   ],
   "source": [
    "df.head() #visualiza o dataset"
   ]
  },
  {
   "cell_type": "code",
   "execution_count": 42,
   "id": "5f8b042c",
   "metadata": {
    "ExecuteTime": {
     "end_time": "2022-05-19T15:36:32.061223Z",
     "start_time": "2022-05-19T15:36:32.040094Z"
    }
   },
   "outputs": [
    {
     "data": {
      "text/plain": [
       "idade         -0.225439\n",
       "sexo          -0.280937\n",
       "tipo           0.433798\n",
       "pa repouso    -0.144931\n",
       "colesterol    -0.085239\n",
       "glicemia      -0.028046\n",
       "ecg repouso    0.137230\n",
       "fc max         0.421741\n",
       "exercicio     -0.436757\n",
       "oldpeak       -0.430696\n",
       "veias         -0.391724\n",
       "talessemia    -0.344029\n",
       "output         1.000000\n",
       "Name: output, dtype: float64"
      ]
     },
     "execution_count": 42,
     "metadata": {},
     "output_type": "execute_result"
    }
   ],
   "source": [
    "df.corr()['output'] #verificando correlação das colunas com o output"
   ]
  },
  {
   "cell_type": "code",
   "execution_count": 43,
   "id": "751c954b",
   "metadata": {
    "ExecuteTime": {
     "end_time": "2022-05-19T15:36:41.666056Z",
     "start_time": "2022-05-19T15:36:41.646842Z"
    }
   },
   "outputs": [
    {
     "name": "stdout",
     "output_type": "stream",
     "text": [
      "<class 'pandas.core.frame.DataFrame'>\n",
      "RangeIndex: 303 entries, 0 to 302\n",
      "Data columns (total 13 columns):\n",
      " #   Column       Non-Null Count  Dtype  \n",
      "---  ------       --------------  -----  \n",
      " 0   idade        303 non-null    int64  \n",
      " 1   sexo         303 non-null    int64  \n",
      " 2   tipo         303 non-null    int64  \n",
      " 3   pa repouso   303 non-null    int64  \n",
      " 4   colesterol   303 non-null    int64  \n",
      " 5   glicemia     303 non-null    int64  \n",
      " 6   ecg repouso  303 non-null    int64  \n",
      " 7   fc max       303 non-null    int64  \n",
      " 8   exercicio    303 non-null    int64  \n",
      " 9   oldpeak      303 non-null    float64\n",
      " 10  veias        303 non-null    int64  \n",
      " 11  talessemia   303 non-null    int64  \n",
      " 12  output       303 non-null    int64  \n",
      "dtypes: float64(1), int64(12)\n",
      "memory usage: 30.9 KB\n"
     ]
    }
   ],
   "source": [
    "df.info() #Verificando os tipos de dados e se possue valores nulos"
   ]
  },
  {
   "cell_type": "code",
   "execution_count": 44,
   "id": "d22304a9",
   "metadata": {
    "ExecuteTime": {
     "end_time": "2022-05-19T15:36:45.371250Z",
     "start_time": "2022-05-19T15:36:45.299932Z"
    }
   },
   "outputs": [
    {
     "data": {
      "text/html": [
       "<div>\n",
       "<style scoped>\n",
       "    .dataframe tbody tr th:only-of-type {\n",
       "        vertical-align: middle;\n",
       "    }\n",
       "\n",
       "    .dataframe tbody tr th {\n",
       "        vertical-align: top;\n",
       "    }\n",
       "\n",
       "    .dataframe thead th {\n",
       "        text-align: right;\n",
       "    }\n",
       "</style>\n",
       "<table border=\"1\" class=\"dataframe\">\n",
       "  <thead>\n",
       "    <tr style=\"text-align: right;\">\n",
       "      <th></th>\n",
       "      <th>idade</th>\n",
       "      <th>sexo</th>\n",
       "      <th>tipo</th>\n",
       "      <th>pa repouso</th>\n",
       "      <th>colesterol</th>\n",
       "      <th>glicemia</th>\n",
       "      <th>ecg repouso</th>\n",
       "      <th>fc max</th>\n",
       "      <th>exercicio</th>\n",
       "      <th>oldpeak</th>\n",
       "      <th>veias</th>\n",
       "      <th>talessemia</th>\n",
       "      <th>output</th>\n",
       "    </tr>\n",
       "  </thead>\n",
       "  <tbody>\n",
       "    <tr>\n",
       "      <th>count</th>\n",
       "      <td>303.000000</td>\n",
       "      <td>303.000000</td>\n",
       "      <td>303.000000</td>\n",
       "      <td>303.000000</td>\n",
       "      <td>303.000000</td>\n",
       "      <td>303.000000</td>\n",
       "      <td>303.000000</td>\n",
       "      <td>303.000000</td>\n",
       "      <td>303.000000</td>\n",
       "      <td>303.000000</td>\n",
       "      <td>303.000000</td>\n",
       "      <td>303.000000</td>\n",
       "      <td>303.000000</td>\n",
       "    </tr>\n",
       "    <tr>\n",
       "      <th>mean</th>\n",
       "      <td>54.366337</td>\n",
       "      <td>0.683168</td>\n",
       "      <td>0.966997</td>\n",
       "      <td>131.623762</td>\n",
       "      <td>246.264026</td>\n",
       "      <td>0.148515</td>\n",
       "      <td>0.528053</td>\n",
       "      <td>149.646865</td>\n",
       "      <td>0.326733</td>\n",
       "      <td>1.039604</td>\n",
       "      <td>0.729373</td>\n",
       "      <td>2.313531</td>\n",
       "      <td>0.544554</td>\n",
       "    </tr>\n",
       "    <tr>\n",
       "      <th>std</th>\n",
       "      <td>9.082101</td>\n",
       "      <td>0.466011</td>\n",
       "      <td>1.032052</td>\n",
       "      <td>17.538143</td>\n",
       "      <td>51.830751</td>\n",
       "      <td>0.356198</td>\n",
       "      <td>0.525860</td>\n",
       "      <td>22.905161</td>\n",
       "      <td>0.469794</td>\n",
       "      <td>1.161075</td>\n",
       "      <td>1.022606</td>\n",
       "      <td>0.612277</td>\n",
       "      <td>0.498835</td>\n",
       "    </tr>\n",
       "    <tr>\n",
       "      <th>min</th>\n",
       "      <td>29.000000</td>\n",
       "      <td>0.000000</td>\n",
       "      <td>0.000000</td>\n",
       "      <td>94.000000</td>\n",
       "      <td>126.000000</td>\n",
       "      <td>0.000000</td>\n",
       "      <td>0.000000</td>\n",
       "      <td>71.000000</td>\n",
       "      <td>0.000000</td>\n",
       "      <td>0.000000</td>\n",
       "      <td>0.000000</td>\n",
       "      <td>0.000000</td>\n",
       "      <td>0.000000</td>\n",
       "    </tr>\n",
       "    <tr>\n",
       "      <th>25%</th>\n",
       "      <td>47.500000</td>\n",
       "      <td>0.000000</td>\n",
       "      <td>0.000000</td>\n",
       "      <td>120.000000</td>\n",
       "      <td>211.000000</td>\n",
       "      <td>0.000000</td>\n",
       "      <td>0.000000</td>\n",
       "      <td>133.500000</td>\n",
       "      <td>0.000000</td>\n",
       "      <td>0.000000</td>\n",
       "      <td>0.000000</td>\n",
       "      <td>2.000000</td>\n",
       "      <td>0.000000</td>\n",
       "    </tr>\n",
       "    <tr>\n",
       "      <th>50%</th>\n",
       "      <td>55.000000</td>\n",
       "      <td>1.000000</td>\n",
       "      <td>1.000000</td>\n",
       "      <td>130.000000</td>\n",
       "      <td>240.000000</td>\n",
       "      <td>0.000000</td>\n",
       "      <td>1.000000</td>\n",
       "      <td>153.000000</td>\n",
       "      <td>0.000000</td>\n",
       "      <td>0.800000</td>\n",
       "      <td>0.000000</td>\n",
       "      <td>2.000000</td>\n",
       "      <td>1.000000</td>\n",
       "    </tr>\n",
       "    <tr>\n",
       "      <th>75%</th>\n",
       "      <td>61.000000</td>\n",
       "      <td>1.000000</td>\n",
       "      <td>2.000000</td>\n",
       "      <td>140.000000</td>\n",
       "      <td>274.500000</td>\n",
       "      <td>0.000000</td>\n",
       "      <td>1.000000</td>\n",
       "      <td>166.000000</td>\n",
       "      <td>1.000000</td>\n",
       "      <td>1.600000</td>\n",
       "      <td>1.000000</td>\n",
       "      <td>3.000000</td>\n",
       "      <td>1.000000</td>\n",
       "    </tr>\n",
       "    <tr>\n",
       "      <th>max</th>\n",
       "      <td>77.000000</td>\n",
       "      <td>1.000000</td>\n",
       "      <td>3.000000</td>\n",
       "      <td>200.000000</td>\n",
       "      <td>564.000000</td>\n",
       "      <td>1.000000</td>\n",
       "      <td>2.000000</td>\n",
       "      <td>202.000000</td>\n",
       "      <td>1.000000</td>\n",
       "      <td>6.200000</td>\n",
       "      <td>4.000000</td>\n",
       "      <td>3.000000</td>\n",
       "      <td>1.000000</td>\n",
       "    </tr>\n",
       "  </tbody>\n",
       "</table>\n",
       "</div>"
      ],
      "text/plain": [
       "            idade        sexo        tipo  pa repouso  colesterol    glicemia  \\\n",
       "count  303.000000  303.000000  303.000000  303.000000  303.000000  303.000000   \n",
       "mean    54.366337    0.683168    0.966997  131.623762  246.264026    0.148515   \n",
       "std      9.082101    0.466011    1.032052   17.538143   51.830751    0.356198   \n",
       "min     29.000000    0.000000    0.000000   94.000000  126.000000    0.000000   \n",
       "25%     47.500000    0.000000    0.000000  120.000000  211.000000    0.000000   \n",
       "50%     55.000000    1.000000    1.000000  130.000000  240.000000    0.000000   \n",
       "75%     61.000000    1.000000    2.000000  140.000000  274.500000    0.000000   \n",
       "max     77.000000    1.000000    3.000000  200.000000  564.000000    1.000000   \n",
       "\n",
       "       ecg repouso      fc max   exercicio     oldpeak       veias  \\\n",
       "count   303.000000  303.000000  303.000000  303.000000  303.000000   \n",
       "mean      0.528053  149.646865    0.326733    1.039604    0.729373   \n",
       "std       0.525860   22.905161    0.469794    1.161075    1.022606   \n",
       "min       0.000000   71.000000    0.000000    0.000000    0.000000   \n",
       "25%       0.000000  133.500000    0.000000    0.000000    0.000000   \n",
       "50%       1.000000  153.000000    0.000000    0.800000    0.000000   \n",
       "75%       1.000000  166.000000    1.000000    1.600000    1.000000   \n",
       "max       2.000000  202.000000    1.000000    6.200000    4.000000   \n",
       "\n",
       "       talessemia      output  \n",
       "count  303.000000  303.000000  \n",
       "mean     2.313531    0.544554  \n",
       "std      0.612277    0.498835  \n",
       "min      0.000000    0.000000  \n",
       "25%      2.000000    0.000000  \n",
       "50%      2.000000    1.000000  \n",
       "75%      3.000000    1.000000  \n",
       "max      3.000000    1.000000  "
      ]
     },
     "execution_count": 44,
     "metadata": {},
     "output_type": "execute_result"
    }
   ],
   "source": [
    "df.describe() "
   ]
  },
  {
   "cell_type": "code",
   "execution_count": 45,
   "id": "1a2fa031",
   "metadata": {
    "ExecuteTime": {
     "end_time": "2022-05-19T15:36:50.604002Z",
     "start_time": "2022-05-19T15:36:48.563004Z"
    }
   },
   "outputs": [
    {
     "data": {
      "text/plain": [
       "<AxesSubplot:>"
      ]
     },
     "execution_count": 45,
     "metadata": {},
     "output_type": "execute_result"
    },
    {
     "data": {
      "image/png": "[encoded data removed]",
      "text/plain": [
       "<Figure size 864x720 with 2 Axes>"
      ]
     },
     "metadata": {
      "needs_background": "light"
     },
     "output_type": "display_data"
    }
   ],
   "source": [
    "plt.figure(figsize=(12,10))\n",
    "sns.heatmap(df.corr(),annot=True,cmap=\"YlGnBu\",linewidths=.5) #grafico de correlação das colunas "
   ]
  },
  {
   "cell_type": "code",
   "execution_count": 46,
   "id": "eebbc796",
   "metadata": {
    "ExecuteTime": {
     "end_time": "2022-05-19T15:37:04.877454Z",
     "start_time": "2022-05-19T15:37:02.535666Z"
    }
   },
   "outputs": [
    {
     "data": {
      "image/png": "[encoded data removed]",
      "text/plain": [
       "<Figure size 864x432 with 1 Axes>"
      ]
     },
     "metadata": {
      "needs_background": "light"
     },
     "output_type": "display_data"
    },
    {
     "data": {
      "image/png": "[encoded data removed]",
      "text/plain": [
       "<Figure size 864x432 with 1 Axes>"
      ]
     },
     "metadata": {
      "needs_background": "light"
     },
     "output_type": "display_data"
    },
    {
     "data": {
      "image/png": "[encoded data removed]",
      "text/plain": [
       "<Figure size 864x432 with 1 Axes>"
      ]
     },
     "metadata": {
      "needs_background": "light"
     },
     "output_type": "display_data"
    },
    {
     "data": {
      "image/png": "[encoded data removed]",
      "text/plain": [
       "<Figure size 864x432 with 1 Axes>"
      ]
     },
     "metadata": {
      "needs_background": "light"
     },
     "output_type": "display_data"
    },
    {
     "data": {
      "image/png": "[encoded data removed]",
      "text/plain": [
       "<Figure size 864x432 with 1 Axes>"
      ]
     },
     "metadata": {
      "needs_background": "light"
     },
     "output_type": "display_data"
    },
    {
     "data": {
      "image/png": "[encoded data removed]",
      "text/plain": [
       "<Figure size 864x432 with 1 Axes>"
      ]
     },
     "metadata": {
      "needs_background": "light"
     },
     "output_type": "display_data"
    },
    {
     "data": {
      "image/png": "[encoded data removed]",
      "text/plain": [
       "<Figure size 864x432 with 1 Axes>"
      ]
     },
     "metadata": {
      "needs_background": "light"
     },
     "output_type": "display_data"
    },
    {
     "data": {
      "image/png": "[encoded data removed]",
      "text/plain": [
       "<Figure size 864x432 with 1 Axes>"
      ]
     },
     "metadata": {
      "needs_background": "light"
     },
     "output_type": "display_data"
    }
   ],
   "source": [
    "colunas = ['sexo', 'tipo', 'glicemia','ecg repouso', 'veias','exercicio', 'talessemia','output']\n",
    "df2 = df.loc[:, colunas]\n",
    "\n",
    "for i in colunas:\n",
    "    plt.figure(figsize = (12, 6))\n",
    "    plot = sns.countplot(x = i, data = df2, hue = \"output\") #gerando os graficos.\n",
    "    plt.title(i)\n",
    "\n",
    "\n",
    "    for i in plot.patches:\n",
    "        plot.annotate(i.get_height(),\n",
    "                  (i.get_x() + i.get_width() / 2, i.get_height()),  #adicionando números nas colunas\n",
    "                  ha='center',\n",
    "                  va='baseline',\n",
    "                  fontsize=12,\n",
    "                  color='black',\n",
    "                  xytext=(0, 1),\n",
    "                  textcoords='offset points')\n",
    "    plt.show()\n",
    "    "
   ]
  },
  {
   "cell_type": "code",
   "execution_count": 47,
   "id": "a9587d76",
   "metadata": {
    "ExecuteTime": {
     "end_time": "2022-05-19T15:38:28.794198Z",
     "start_time": "2022-05-19T15:38:28.251354Z"
    }
   },
   "outputs": [
    {
     "data": {
      "text/plain": [
       "<seaborn.axisgrid.FacetGrid at 0x1ee1c1a98b0>"
      ]
     },
     "execution_count": 47,
     "metadata": {},
     "output_type": "execute_result"
    },
    {
     "data": {
      "image/png": "[encoded data removed]",
      "text/plain": [
       "<Figure size 581.625x360 with 1 Axes>"
      ]
     },
     "metadata": {
      "needs_background": "light"
     },
     "output_type": "display_data"
    }
   ],
   "source": [
    "sns.displot(df, x='colesterol', hue='output', kind=\"kde\",fill=True, palette='mako', aspect=1.5) #grafico de distribuição"
   ]
  },
  {
   "cell_type": "code",
   "execution_count": 52,
   "id": "8640b4d2",
   "metadata": {
    "ExecuteTime": {
     "end_time": "2022-05-19T15:39:31.263720Z",
     "start_time": "2022-05-19T15:39:30.723258Z"
    }
   },
   "outputs": [
    {
     "data": {
      "text/plain": [
       "<seaborn.axisgrid.FacetGrid at 0x1ee1c4d7130>"
      ]
     },
     "execution_count": 52,
     "metadata": {},
     "output_type": "execute_result"
    },
    {
     "data": {
      "image/png": "[encoded data removed]",
      "text/plain": [
       "<Figure size 581.625x360 with 1 Axes>"
      ]
     },
     "metadata": {
      "needs_background": "light"
     },
     "output_type": "display_data"
    }
   ],
   "source": [
    "sns.displot(df, x='idade', hue='output', kind=\"kde\",fill=True, palette='mako', aspect=1.5) #grafico de distribuição"
   ]
  },
  {
   "cell_type": "markdown",
   "id": "fb383a98",
   "metadata": {},
   "source": [
    "## Modelagem"
   ]
  },
  {
   "cell_type": "code",
   "execution_count": 53,
   "id": "bc1744d0",
   "metadata": {
    "ExecuteTime": {
     "end_time": "2022-05-19T15:39:38.758476Z",
     "start_time": "2022-05-19T15:39:38.744012Z"
    }
   },
   "outputs": [],
   "source": [
    "X = df.drop('output', axis=1) #separando X e Y\n",
    "y = df['output']"
   ]
  },
  {
   "cell_type": "code",
   "execution_count": 54,
   "id": "38dd6647",
   "metadata": {
    "ExecuteTime": {
     "end_time": "2022-05-19T15:39:43.496059Z",
     "start_time": "2022-05-19T15:39:43.473311Z"
    }
   },
   "outputs": [],
   "source": [
    "X_train, X_test, y_train, y_test = train_test_split(X, y, test_size=0.2, stratify=y, random_state=42) #separando x e y de teste"
   ]
  },
  {
   "cell_type": "code",
   "execution_count": 26,
   "id": "3bf6ee2e",
   "metadata": {
    "ExecuteTime": {
     "end_time": "2022-05-19T15:29:27.300106Z",
     "start_time": "2022-05-19T15:29:27.281718Z"
    }
   },
   "outputs": [],
   "source": [
    "scaler = StandardScaler()     #padroniza os dados                 \n",
    "scaler.fit(X_train) #treina\n",
    "X_train = scaler.transform(X_train) #transforma os dados de treino\n",
    "X_test = scaler.transform(X_test)  #transforma os dados de teste"
   ]
  },
  {
   "cell_type": "code",
   "execution_count": 27,
   "id": "34b47984",
   "metadata": {
    "ExecuteTime": {
     "end_time": "2022-05-19T15:29:27.874509Z",
     "start_time": "2022-05-19T15:29:27.839223Z"
    }
   },
   "outputs": [
    {
     "data": {
      "text/plain": [
       "LogisticRegression(C=1.0, class_weight=None, dual=False, fit_intercept=True,\n",
       "                   intercept_scaling=1, l1_ratio=None, max_iter=100,\n",
       "                   multi_class='auto', n_jobs=None, penalty='l2',\n",
       "                   random_state=None, solver='lbfgs', tol=0.0001, verbose=0,\n",
       "                   warm_start=False)"
      ]
     },
     "execution_count": 27,
     "metadata": {},
     "output_type": "execute_result"
    }
   ],
   "source": [
    "model = LogisticRegression() #escolhe o modelo que será utilizado\n",
    "model.fit(X_train, y_train) # treina ele"
   ]
  },
  {
   "cell_type": "code",
   "execution_count": 28,
   "id": "297255cb",
   "metadata": {
    "ExecuteTime": {
     "end_time": "2022-05-19T15:29:29.072262Z",
     "start_time": "2022-05-19T15:29:28.630977Z"
    }
   },
   "outputs": [
    {
     "data": {
      "image/png": "[encoded data removed]",
      "text/plain": [
       "<Figure size 432x288 with 1 Axes>"
      ]
     },
     "metadata": {
      "needs_background": "light"
     },
     "output_type": "display_data"
    }
   ],
   "source": [
    "fig, ax = plt.subplots()\n",
    "plot_roc_curve(model, X_train, y_train, ax=ax, name='Treino')\n",
    "plot_roc_curve(model, X_test, y_test, ax=ax, name='Teste')  #vizualiza a curva roc do treino e do teste\n",
    "fig = plt.gcf()  \n",
    "plt.show()  "
   ]
  },
  {
   "cell_type": "code",
   "execution_count": 29,
   "id": "0791752c",
   "metadata": {
    "ExecuteTime": {
     "end_time": "2022-05-19T15:29:32.465512Z",
     "start_time": "2022-05-19T15:29:32.453486Z"
    }
   },
   "outputs": [],
   "source": [
    "adaboost = AdaBoostClassifier(\n",
    "            base_estimator=DecisionTreeClassifier(max_depth=2), \n",
    "            n_estimators=100,\n",
    "            learning_rate=.03)"
   ]
  },
  {
   "cell_type": "code",
   "execution_count": 30,
   "id": "cbdc31e8",
   "metadata": {
    "ExecuteTime": {
     "end_time": "2022-05-19T15:29:34.495434Z",
     "start_time": "2022-05-19T15:29:34.088429Z"
    }
   },
   "outputs": [
    {
     "name": "stdout",
     "output_type": "stream",
     "text": [
      "0.9700068870523416\n",
      "0.9004329004329004\n"
     ]
    }
   ],
   "source": [
    "adaboost.fit(X_train,y_train)\n",
    "print(roc_auc_score(y_train, adaboost.predict_proba(X_train)[:, 1]))\n",
    "print(roc_auc_score(y_test, adaboost.predict_proba(X_test)[:, 1]))"
   ]
  },
  {
   "cell_type": "code",
   "execution_count": 27,
   "id": "87cb1a4d",
   "metadata": {
    "ExecuteTime": {
     "end_time": "2022-05-19T14:59:20.179473Z",
     "start_time": "2022-05-19T14:59:15.878298Z"
    }
   },
   "outputs": [
    {
     "data": {
      "image/png": "[encoded data removed]",
      "text/plain": [
       "<Figure size 432x288 with 1 Axes>"
      ]
     },
     "metadata": {
      "needs_background": "light"
     },
     "output_type": "display_data"
    }
   ],
   "source": [
    "curves = learning_curve(adaboost, X_train, y_train, scoring='roc_auc')\n",
    "train_sizes = curves[0]\n",
    "train_scores = curves[1]\n",
    "test_scores = curves[2]\n",
    "\n",
    "plt.plot(train_sizes, train_scores.mean(axis=1),'-o')\n",
    "plt.plot(train_sizes, test_scores.mean(axis=1),'-o');\n",
    "plt.ylim([0.5, 1])\n",
    "plt.grid()"
   ]
  },
  {
   "cell_type": "code",
   "execution_count": null,
   "id": "088c1472",
   "metadata": {},
   "outputs": [],
   "source": []
  },
  {
   "cell_type": "code",
   "execution_count": 31,
   "id": "521d9f5d",
   "metadata": {
    "ExecuteTime": {
     "end_time": "2022-05-19T15:29:40.866358Z",
     "start_time": "2022-05-19T15:29:40.853646Z"
    }
   },
   "outputs": [],
   "source": [
    "data_train,data_test = train_test_split(df, test_size = 0.2) #separando dados de treino e de teste"
   ]
  },
  {
   "cell_type": "code",
   "execution_count": 32,
   "id": "1e66a50d",
   "metadata": {
    "ExecuteTime": {
     "end_time": "2022-05-19T15:29:45.502225Z",
     "start_time": "2022-05-19T15:29:43.379900Z"
    }
   },
   "outputs": [
    {
     "data": {
      "text/html": [
       "<style type=\"text/css\">\n",
       "#T_32436_row44_col1 {\n",
       "  background-color: lightgreen;\n",
       "}\n",
       "</style>\n",
       "<table id=\"T_32436\">\n",
       "  <thead>\n",
       "    <tr>\n",
       "      <th class=\"blank level0\" >&nbsp;</th>\n",
       "      <th id=\"T_32436_level0_col0\" class=\"col_heading level0 col0\" >Description</th>\n",
       "      <th id=\"T_32436_level0_col1\" class=\"col_heading level0 col1\" >Value</th>\n",
       "    </tr>\n",
       "  </thead>\n",
       "  <tbody>\n",
       "    <tr>\n",
       "      <th id=\"T_32436_level0_row0\" class=\"row_heading level0 row0\" >0</th>\n",
       "      <td id=\"T_32436_row0_col0\" class=\"data row0 col0\" >session_id</td>\n",
       "      <td id=\"T_32436_row0_col1\" class=\"data row0 col1\" >42</td>\n",
       "    </tr>\n",
       "    <tr>\n",
       "      <th id=\"T_32436_level0_row1\" class=\"row_heading level0 row1\" >1</th>\n",
       "      <td id=\"T_32436_row1_col0\" class=\"data row1 col0\" >Target</td>\n",
       "      <td id=\"T_32436_row1_col1\" class=\"data row1 col1\" >output</td>\n",
       "    </tr>\n",
       "    <tr>\n",
       "      <th id=\"T_32436_level0_row2\" class=\"row_heading level0 row2\" >2</th>\n",
       "      <td id=\"T_32436_row2_col0\" class=\"data row2 col0\" >Target Type</td>\n",
       "      <td id=\"T_32436_row2_col1\" class=\"data row2 col1\" >Binary</td>\n",
       "    </tr>\n",
       "    <tr>\n",
       "      <th id=\"T_32436_level0_row3\" class=\"row_heading level0 row3\" >3</th>\n",
       "      <td id=\"T_32436_row3_col0\" class=\"data row3 col0\" >Label Encoded</td>\n",
       "      <td id=\"T_32436_row3_col1\" class=\"data row3 col1\" >None</td>\n",
       "    </tr>\n",
       "    <tr>\n",
       "      <th id=\"T_32436_level0_row4\" class=\"row_heading level0 row4\" >4</th>\n",
       "      <td id=\"T_32436_row4_col0\" class=\"data row4 col0\" >Original Data</td>\n",
       "      <td id=\"T_32436_row4_col1\" class=\"data row4 col1\" >(242, 13)</td>\n",
       "    </tr>\n",
       "    <tr>\n",
       "      <th id=\"T_32436_level0_row5\" class=\"row_heading level0 row5\" >5</th>\n",
       "      <td id=\"T_32436_row5_col0\" class=\"data row5 col0\" >Missing Values</td>\n",
       "      <td id=\"T_32436_row5_col1\" class=\"data row5 col1\" >False</td>\n",
       "    </tr>\n",
       "    <tr>\n",
       "      <th id=\"T_32436_level0_row6\" class=\"row_heading level0 row6\" >6</th>\n",
       "      <td id=\"T_32436_row6_col0\" class=\"data row6 col0\" >Numeric Features</td>\n",
       "      <td id=\"T_32436_row6_col1\" class=\"data row6 col1\" >5</td>\n",
       "    </tr>\n",
       "    <tr>\n",
       "      <th id=\"T_32436_level0_row7\" class=\"row_heading level0 row7\" >7</th>\n",
       "      <td id=\"T_32436_row7_col0\" class=\"data row7 col0\" >Categorical Features</td>\n",
       "      <td id=\"T_32436_row7_col1\" class=\"data row7 col1\" >7</td>\n",
       "    </tr>\n",
       "    <tr>\n",
       "      <th id=\"T_32436_level0_row8\" class=\"row_heading level0 row8\" >8</th>\n",
       "      <td id=\"T_32436_row8_col0\" class=\"data row8 col0\" >Ordinal Features</td>\n",
       "      <td id=\"T_32436_row8_col1\" class=\"data row8 col1\" >False</td>\n",
       "    </tr>\n",
       "    <tr>\n",
       "      <th id=\"T_32436_level0_row9\" class=\"row_heading level0 row9\" >9</th>\n",
       "      <td id=\"T_32436_row9_col0\" class=\"data row9 col0\" >High Cardinality Features</td>\n",
       "      <td id=\"T_32436_row9_col1\" class=\"data row9 col1\" >False</td>\n",
       "    </tr>\n",
       "    <tr>\n",
       "      <th id=\"T_32436_level0_row10\" class=\"row_heading level0 row10\" >10</th>\n",
       "      <td id=\"T_32436_row10_col0\" class=\"data row10 col0\" >High Cardinality Method</td>\n",
       "      <td id=\"T_32436_row10_col1\" class=\"data row10 col1\" >None</td>\n",
       "    </tr>\n",
       "    <tr>\n",
       "      <th id=\"T_32436_level0_row11\" class=\"row_heading level0 row11\" >11</th>\n",
       "      <td id=\"T_32436_row11_col0\" class=\"data row11 col0\" >Transformed Train Set</td>\n",
       "      <td id=\"T_32436_row11_col1\" class=\"data row11 col1\" >(169, 23)</td>\n",
       "    </tr>\n",
       "    <tr>\n",
       "      <th id=\"T_32436_level0_row12\" class=\"row_heading level0 row12\" >12</th>\n",
       "      <td id=\"T_32436_row12_col0\" class=\"data row12 col0\" >Transformed Test Set</td>\n",
       "      <td id=\"T_32436_row12_col1\" class=\"data row12 col1\" >(73, 23)</td>\n",
       "    </tr>\n",
       "    <tr>\n",
       "      <th id=\"T_32436_level0_row13\" class=\"row_heading level0 row13\" >13</th>\n",
       "      <td id=\"T_32436_row13_col0\" class=\"data row13 col0\" >Shuffle Train-Test</td>\n",
       "      <td id=\"T_32436_row13_col1\" class=\"data row13 col1\" >True</td>\n",
       "    </tr>\n",
       "    <tr>\n",
       "      <th id=\"T_32436_level0_row14\" class=\"row_heading level0 row14\" >14</th>\n",
       "      <td id=\"T_32436_row14_col0\" class=\"data row14 col0\" >Stratify Train-Test</td>\n",
       "      <td id=\"T_32436_row14_col1\" class=\"data row14 col1\" >False</td>\n",
       "    </tr>\n",
       "    <tr>\n",
       "      <th id=\"T_32436_level0_row15\" class=\"row_heading level0 row15\" >15</th>\n",
       "      <td id=\"T_32436_row15_col0\" class=\"data row15 col0\" >Fold Generator</td>\n",
       "      <td id=\"T_32436_row15_col1\" class=\"data row15 col1\" >StratifiedKFold</td>\n",
       "    </tr>\n",
       "    <tr>\n",
       "      <th id=\"T_32436_level0_row16\" class=\"row_heading level0 row16\" >16</th>\n",
       "      <td id=\"T_32436_row16_col0\" class=\"data row16 col0\" >Fold Number</td>\n",
       "      <td id=\"T_32436_row16_col1\" class=\"data row16 col1\" >10</td>\n",
       "    </tr>\n",
       "    <tr>\n",
       "      <th id=\"T_32436_level0_row17\" class=\"row_heading level0 row17\" >17</th>\n",
       "      <td id=\"T_32436_row17_col0\" class=\"data row17 col0\" >CPU Jobs</td>\n",
       "      <td id=\"T_32436_row17_col1\" class=\"data row17 col1\" >-1</td>\n",
       "    </tr>\n",
       "    <tr>\n",
       "      <th id=\"T_32436_level0_row18\" class=\"row_heading level0 row18\" >18</th>\n",
       "      <td id=\"T_32436_row18_col0\" class=\"data row18 col0\" >Use GPU</td>\n",
       "      <td id=\"T_32436_row18_col1\" class=\"data row18 col1\" >False</td>\n",
       "    </tr>\n",
       "    <tr>\n",
       "      <th id=\"T_32436_level0_row19\" class=\"row_heading level0 row19\" >19</th>\n",
       "      <td id=\"T_32436_row19_col0\" class=\"data row19 col0\" >Log Experiment</td>\n",
       "      <td id=\"T_32436_row19_col1\" class=\"data row19 col1\" >False</td>\n",
       "    </tr>\n",
       "    <tr>\n",
       "      <th id=\"T_32436_level0_row20\" class=\"row_heading level0 row20\" >20</th>\n",
       "      <td id=\"T_32436_row20_col0\" class=\"data row20 col0\" >Experiment Name</td>\n",
       "      <td id=\"T_32436_row20_col1\" class=\"data row20 col1\" >clf-default-name</td>\n",
       "    </tr>\n",
       "    <tr>\n",
       "      <th id=\"T_32436_level0_row21\" class=\"row_heading level0 row21\" >21</th>\n",
       "      <td id=\"T_32436_row21_col0\" class=\"data row21 col0\" >USI</td>\n",
       "      <td id=\"T_32436_row21_col1\" class=\"data row21 col1\" >dad8</td>\n",
       "    </tr>\n",
       "    <tr>\n",
       "      <th id=\"T_32436_level0_row22\" class=\"row_heading level0 row22\" >22</th>\n",
       "      <td id=\"T_32436_row22_col0\" class=\"data row22 col0\" >Imputation Type</td>\n",
       "      <td id=\"T_32436_row22_col1\" class=\"data row22 col1\" >simple</td>\n",
       "    </tr>\n",
       "    <tr>\n",
       "      <th id=\"T_32436_level0_row23\" class=\"row_heading level0 row23\" >23</th>\n",
       "      <td id=\"T_32436_row23_col0\" class=\"data row23 col0\" >Iterative Imputation Iteration</td>\n",
       "      <td id=\"T_32436_row23_col1\" class=\"data row23 col1\" >None</td>\n",
       "    </tr>\n",
       "    <tr>\n",
       "      <th id=\"T_32436_level0_row24\" class=\"row_heading level0 row24\" >24</th>\n",
       "      <td id=\"T_32436_row24_col0\" class=\"data row24 col0\" >Numeric Imputer</td>\n",
       "      <td id=\"T_32436_row24_col1\" class=\"data row24 col1\" >mean</td>\n",
       "    </tr>\n",
       "    <tr>\n",
       "      <th id=\"T_32436_level0_row25\" class=\"row_heading level0 row25\" >25</th>\n",
       "      <td id=\"T_32436_row25_col0\" class=\"data row25 col0\" >Iterative Imputation Numeric Model</td>\n",
       "      <td id=\"T_32436_row25_col1\" class=\"data row25 col1\" >None</td>\n",
       "    </tr>\n",
       "    <tr>\n",
       "      <th id=\"T_32436_level0_row26\" class=\"row_heading level0 row26\" >26</th>\n",
       "      <td id=\"T_32436_row26_col0\" class=\"data row26 col0\" >Categorical Imputer</td>\n",
       "      <td id=\"T_32436_row26_col1\" class=\"data row26 col1\" >constant</td>\n",
       "    </tr>\n",
       "    <tr>\n",
       "      <th id=\"T_32436_level0_row27\" class=\"row_heading level0 row27\" >27</th>\n",
       "      <td id=\"T_32436_row27_col0\" class=\"data row27 col0\" >Iterative Imputation Categorical Model</td>\n",
       "      <td id=\"T_32436_row27_col1\" class=\"data row27 col1\" >None</td>\n",
       "    </tr>\n",
       "    <tr>\n",
       "      <th id=\"T_32436_level0_row28\" class=\"row_heading level0 row28\" >28</th>\n",
       "      <td id=\"T_32436_row28_col0\" class=\"data row28 col0\" >Unknown Categoricals Handling</td>\n",
       "      <td id=\"T_32436_row28_col1\" class=\"data row28 col1\" >least_frequent</td>\n",
       "    </tr>\n",
       "    <tr>\n",
       "      <th id=\"T_32436_level0_row29\" class=\"row_heading level0 row29\" >29</th>\n",
       "      <td id=\"T_32436_row29_col0\" class=\"data row29 col0\" >Normalize</td>\n",
       "      <td id=\"T_32436_row29_col1\" class=\"data row29 col1\" >False</td>\n",
       "    </tr>\n",
       "    <tr>\n",
       "      <th id=\"T_32436_level0_row30\" class=\"row_heading level0 row30\" >30</th>\n",
       "      <td id=\"T_32436_row30_col0\" class=\"data row30 col0\" >Normalize Method</td>\n",
       "      <td id=\"T_32436_row30_col1\" class=\"data row30 col1\" >None</td>\n",
       "    </tr>\n",
       "    <tr>\n",
       "      <th id=\"T_32436_level0_row31\" class=\"row_heading level0 row31\" >31</th>\n",
       "      <td id=\"T_32436_row31_col0\" class=\"data row31 col0\" >Transformation</td>\n",
       "      <td id=\"T_32436_row31_col1\" class=\"data row31 col1\" >False</td>\n",
       "    </tr>\n",
       "    <tr>\n",
       "      <th id=\"T_32436_level0_row32\" class=\"row_heading level0 row32\" >32</th>\n",
       "      <td id=\"T_32436_row32_col0\" class=\"data row32 col0\" >Transformation Method</td>\n",
       "      <td id=\"T_32436_row32_col1\" class=\"data row32 col1\" >None</td>\n",
       "    </tr>\n",
       "    <tr>\n",
       "      <th id=\"T_32436_level0_row33\" class=\"row_heading level0 row33\" >33</th>\n",
       "      <td id=\"T_32436_row33_col0\" class=\"data row33 col0\" >PCA</td>\n",
       "      <td id=\"T_32436_row33_col1\" class=\"data row33 col1\" >False</td>\n",
       "    </tr>\n",
       "    <tr>\n",
       "      <th id=\"T_32436_level0_row34\" class=\"row_heading level0 row34\" >34</th>\n",
       "      <td id=\"T_32436_row34_col0\" class=\"data row34 col0\" >PCA Method</td>\n",
       "      <td id=\"T_32436_row34_col1\" class=\"data row34 col1\" >None</td>\n",
       "    </tr>\n",
       "    <tr>\n",
       "      <th id=\"T_32436_level0_row35\" class=\"row_heading level0 row35\" >35</th>\n",
       "      <td id=\"T_32436_row35_col0\" class=\"data row35 col0\" >PCA Components</td>\n",
       "      <td id=\"T_32436_row35_col1\" class=\"data row35 col1\" >None</td>\n",
       "    </tr>\n",
       "    <tr>\n",
       "      <th id=\"T_32436_level0_row36\" class=\"row_heading level0 row36\" >36</th>\n",
       "      <td id=\"T_32436_row36_col0\" class=\"data row36 col0\" >Ignore Low Variance</td>\n",
       "      <td id=\"T_32436_row36_col1\" class=\"data row36 col1\" >False</td>\n",
       "    </tr>\n",
       "    <tr>\n",
       "      <th id=\"T_32436_level0_row37\" class=\"row_heading level0 row37\" >37</th>\n",
       "      <td id=\"T_32436_row37_col0\" class=\"data row37 col0\" >Combine Rare Levels</td>\n",
       "      <td id=\"T_32436_row37_col1\" class=\"data row37 col1\" >False</td>\n",
       "    </tr>\n",
       "    <tr>\n",
       "      <th id=\"T_32436_level0_row38\" class=\"row_heading level0 row38\" >38</th>\n",
       "      <td id=\"T_32436_row38_col0\" class=\"data row38 col0\" >Rare Level Threshold</td>\n",
       "      <td id=\"T_32436_row38_col1\" class=\"data row38 col1\" >None</td>\n",
       "    </tr>\n",
       "    <tr>\n",
       "      <th id=\"T_32436_level0_row39\" class=\"row_heading level0 row39\" >39</th>\n",
       "      <td id=\"T_32436_row39_col0\" class=\"data row39 col0\" >Numeric Binning</td>\n",
       "      <td id=\"T_32436_row39_col1\" class=\"data row39 col1\" >False</td>\n",
       "    </tr>\n",
       "    <tr>\n",
       "      <th id=\"T_32436_level0_row40\" class=\"row_heading level0 row40\" >40</th>\n",
       "      <td id=\"T_32436_row40_col0\" class=\"data row40 col0\" >Remove Outliers</td>\n",
       "      <td id=\"T_32436_row40_col1\" class=\"data row40 col1\" >False</td>\n",
       "    </tr>\n",
       "    <tr>\n",
       "      <th id=\"T_32436_level0_row41\" class=\"row_heading level0 row41\" >41</th>\n",
       "      <td id=\"T_32436_row41_col0\" class=\"data row41 col0\" >Outliers Threshold</td>\n",
       "      <td id=\"T_32436_row41_col1\" class=\"data row41 col1\" >None</td>\n",
       "    </tr>\n",
       "    <tr>\n",
       "      <th id=\"T_32436_level0_row42\" class=\"row_heading level0 row42\" >42</th>\n",
       "      <td id=\"T_32436_row42_col0\" class=\"data row42 col0\" >Remove Multicollinearity</td>\n",
       "      <td id=\"T_32436_row42_col1\" class=\"data row42 col1\" >False</td>\n",
       "    </tr>\n",
       "    <tr>\n",
       "      <th id=\"T_32436_level0_row43\" class=\"row_heading level0 row43\" >43</th>\n",
       "      <td id=\"T_32436_row43_col0\" class=\"data row43 col0\" >Multicollinearity Threshold</td>\n",
       "      <td id=\"T_32436_row43_col1\" class=\"data row43 col1\" >None</td>\n",
       "    </tr>\n",
       "    <tr>\n",
       "      <th id=\"T_32436_level0_row44\" class=\"row_heading level0 row44\" >44</th>\n",
       "      <td id=\"T_32436_row44_col0\" class=\"data row44 col0\" >Remove Perfect Collinearity</td>\n",
       "      <td id=\"T_32436_row44_col1\" class=\"data row44 col1\" >True</td>\n",
       "    </tr>\n",
       "    <tr>\n",
       "      <th id=\"T_32436_level0_row45\" class=\"row_heading level0 row45\" >45</th>\n",
       "      <td id=\"T_32436_row45_col0\" class=\"data row45 col0\" >Clustering</td>\n",
       "      <td id=\"T_32436_row45_col1\" class=\"data row45 col1\" >False</td>\n",
       "    </tr>\n",
       "    <tr>\n",
       "      <th id=\"T_32436_level0_row46\" class=\"row_heading level0 row46\" >46</th>\n",
       "      <td id=\"T_32436_row46_col0\" class=\"data row46 col0\" >Clustering Iteration</td>\n",
       "      <td id=\"T_32436_row46_col1\" class=\"data row46 col1\" >None</td>\n",
       "    </tr>\n",
       "    <tr>\n",
       "      <th id=\"T_32436_level0_row47\" class=\"row_heading level0 row47\" >47</th>\n",
       "      <td id=\"T_32436_row47_col0\" class=\"data row47 col0\" >Polynomial Features</td>\n",
       "      <td id=\"T_32436_row47_col1\" class=\"data row47 col1\" >False</td>\n",
       "    </tr>\n",
       "    <tr>\n",
       "      <th id=\"T_32436_level0_row48\" class=\"row_heading level0 row48\" >48</th>\n",
       "      <td id=\"T_32436_row48_col0\" class=\"data row48 col0\" >Polynomial Degree</td>\n",
       "      <td id=\"T_32436_row48_col1\" class=\"data row48 col1\" >None</td>\n",
       "    </tr>\n",
       "    <tr>\n",
       "      <th id=\"T_32436_level0_row49\" class=\"row_heading level0 row49\" >49</th>\n",
       "      <td id=\"T_32436_row49_col0\" class=\"data row49 col0\" >Trignometry Features</td>\n",
       "      <td id=\"T_32436_row49_col1\" class=\"data row49 col1\" >False</td>\n",
       "    </tr>\n",
       "    <tr>\n",
       "      <th id=\"T_32436_level0_row50\" class=\"row_heading level0 row50\" >50</th>\n",
       "      <td id=\"T_32436_row50_col0\" class=\"data row50 col0\" >Polynomial Threshold</td>\n",
       "      <td id=\"T_32436_row50_col1\" class=\"data row50 col1\" >None</td>\n",
       "    </tr>\n",
       "    <tr>\n",
       "      <th id=\"T_32436_level0_row51\" class=\"row_heading level0 row51\" >51</th>\n",
       "      <td id=\"T_32436_row51_col0\" class=\"data row51 col0\" >Group Features</td>\n",
       "      <td id=\"T_32436_row51_col1\" class=\"data row51 col1\" >False</td>\n",
       "    </tr>\n",
       "    <tr>\n",
       "      <th id=\"T_32436_level0_row52\" class=\"row_heading level0 row52\" >52</th>\n",
       "      <td id=\"T_32436_row52_col0\" class=\"data row52 col0\" >Feature Selection</td>\n",
       "      <td id=\"T_32436_row52_col1\" class=\"data row52 col1\" >False</td>\n",
       "    </tr>\n",
       "    <tr>\n",
       "      <th id=\"T_32436_level0_row53\" class=\"row_heading level0 row53\" >53</th>\n",
       "      <td id=\"T_32436_row53_col0\" class=\"data row53 col0\" >Feature Selection Method</td>\n",
       "      <td id=\"T_32436_row53_col1\" class=\"data row53 col1\" >classic</td>\n",
       "    </tr>\n",
       "    <tr>\n",
       "      <th id=\"T_32436_level0_row54\" class=\"row_heading level0 row54\" >54</th>\n",
       "      <td id=\"T_32436_row54_col0\" class=\"data row54 col0\" >Features Selection Threshold</td>\n",
       "      <td id=\"T_32436_row54_col1\" class=\"data row54 col1\" >None</td>\n",
       "    </tr>\n",
       "    <tr>\n",
       "      <th id=\"T_32436_level0_row55\" class=\"row_heading level0 row55\" >55</th>\n",
       "      <td id=\"T_32436_row55_col0\" class=\"data row55 col0\" >Feature Interaction</td>\n",
       "      <td id=\"T_32436_row55_col1\" class=\"data row55 col1\" >False</td>\n",
       "    </tr>\n",
       "    <tr>\n",
       "      <th id=\"T_32436_level0_row56\" class=\"row_heading level0 row56\" >56</th>\n",
       "      <td id=\"T_32436_row56_col0\" class=\"data row56 col0\" >Feature Ratio</td>\n",
       "      <td id=\"T_32436_row56_col1\" class=\"data row56 col1\" >False</td>\n",
       "    </tr>\n",
       "    <tr>\n",
       "      <th id=\"T_32436_level0_row57\" class=\"row_heading level0 row57\" >57</th>\n",
       "      <td id=\"T_32436_row57_col0\" class=\"data row57 col0\" >Interaction Threshold</td>\n",
       "      <td id=\"T_32436_row57_col1\" class=\"data row57 col1\" >None</td>\n",
       "    </tr>\n",
       "    <tr>\n",
       "      <th id=\"T_32436_level0_row58\" class=\"row_heading level0 row58\" >58</th>\n",
       "      <td id=\"T_32436_row58_col0\" class=\"data row58 col0\" >Fix Imbalance</td>\n",
       "      <td id=\"T_32436_row58_col1\" class=\"data row58 col1\" >False</td>\n",
       "    </tr>\n",
       "    <tr>\n",
       "      <th id=\"T_32436_level0_row59\" class=\"row_heading level0 row59\" >59</th>\n",
       "      <td id=\"T_32436_row59_col0\" class=\"data row59 col0\" >Fix Imbalance Method</td>\n",
       "      <td id=\"T_32436_row59_col1\" class=\"data row59 col1\" >SMOTE</td>\n",
       "    </tr>\n",
       "  </tbody>\n",
       "</table>\n"
      ],
      "text/plain": [
       "<pandas.io.formats.style.Styler at 0x1ee1b9e32e0>"
      ]
     },
     "metadata": {},
     "output_type": "display_data"
    }
   ],
   "source": [
    "classification = setup(data = data_train, target = 'output', session_id=42) #escolhendo a target de treino"
   ]
  },
  {
   "cell_type": "code",
   "execution_count": 33,
   "id": "a8a8b664",
   "metadata": {
    "ExecuteTime": {
     "end_time": "2022-05-19T15:29:52.408865Z",
     "start_time": "2022-05-19T15:29:51.092537Z"
    }
   },
   "outputs": [
    {
     "data": {
      "text/html": [
       "<style type=\"text/css\">\n",
       "#T_05415_row10_col0, #T_05415_row10_col1, #T_05415_row10_col2, #T_05415_row10_col3, #T_05415_row10_col4, #T_05415_row10_col5, #T_05415_row10_col6 {\n",
       "  background: yellow;\n",
       "}\n",
       "</style>\n",
       "<table id=\"T_05415\">\n",
       "  <thead>\n",
       "    <tr>\n",
       "      <th class=\"blank level0\" >&nbsp;</th>\n",
       "      <th id=\"T_05415_level0_col0\" class=\"col_heading level0 col0\" >Accuracy</th>\n",
       "      <th id=\"T_05415_level0_col1\" class=\"col_heading level0 col1\" >AUC</th>\n",
       "      <th id=\"T_05415_level0_col2\" class=\"col_heading level0 col2\" >Recall</th>\n",
       "      <th id=\"T_05415_level0_col3\" class=\"col_heading level0 col3\" >Prec.</th>\n",
       "      <th id=\"T_05415_level0_col4\" class=\"col_heading level0 col4\" >F1</th>\n",
       "      <th id=\"T_05415_level0_col5\" class=\"col_heading level0 col5\" >Kappa</th>\n",
       "      <th id=\"T_05415_level0_col6\" class=\"col_heading level0 col6\" >MCC</th>\n",
       "    </tr>\n",
       "    <tr>\n",
       "      <th class=\"index_name level0\" >Fold</th>\n",
       "      <th class=\"blank col0\" >&nbsp;</th>\n",
       "      <th class=\"blank col1\" >&nbsp;</th>\n",
       "      <th class=\"blank col2\" >&nbsp;</th>\n",
       "      <th class=\"blank col3\" >&nbsp;</th>\n",
       "      <th class=\"blank col4\" >&nbsp;</th>\n",
       "      <th class=\"blank col5\" >&nbsp;</th>\n",
       "      <th class=\"blank col6\" >&nbsp;</th>\n",
       "    </tr>\n",
       "  </thead>\n",
       "  <tbody>\n",
       "    <tr>\n",
       "      <th id=\"T_05415_level0_row0\" class=\"row_heading level0 row0\" >0</th>\n",
       "      <td id=\"T_05415_row0_col0\" class=\"data row0 col0\" >0.7647</td>\n",
       "      <td id=\"T_05415_row0_col1\" class=\"data row0 col1\" >0.6250</td>\n",
       "      <td id=\"T_05415_row0_col2\" class=\"data row0 col2\" >0.7500</td>\n",
       "      <td id=\"T_05415_row0_col3\" class=\"data row0 col3\" >0.7500</td>\n",
       "      <td id=\"T_05415_row0_col4\" class=\"data row0 col4\" >0.7500</td>\n",
       "      <td id=\"T_05415_row0_col5\" class=\"data row0 col5\" >0.5278</td>\n",
       "      <td id=\"T_05415_row0_col6\" class=\"data row0 col6\" >0.5278</td>\n",
       "    </tr>\n",
       "    <tr>\n",
       "      <th id=\"T_05415_level0_row1\" class=\"row_heading level0 row1\" >1</th>\n",
       "      <td id=\"T_05415_row1_col0\" class=\"data row1 col0\" >0.8235</td>\n",
       "      <td id=\"T_05415_row1_col1\" class=\"data row1 col1\" >0.8194</td>\n",
       "      <td id=\"T_05415_row1_col2\" class=\"data row1 col2\" >0.7500</td>\n",
       "      <td id=\"T_05415_row1_col3\" class=\"data row1 col3\" >0.8571</td>\n",
       "      <td id=\"T_05415_row1_col4\" class=\"data row1 col4\" >0.8000</td>\n",
       "      <td id=\"T_05415_row1_col5\" class=\"data row1 col5\" >0.6434</td>\n",
       "      <td id=\"T_05415_row1_col6\" class=\"data row1 col6\" >0.6480</td>\n",
       "    </tr>\n",
       "    <tr>\n",
       "      <th id=\"T_05415_level0_row2\" class=\"row_heading level0 row2\" >2</th>\n",
       "      <td id=\"T_05415_row2_col0\" class=\"data row2 col0\" >0.7647</td>\n",
       "      <td id=\"T_05415_row2_col1\" class=\"data row2 col1\" >0.9306</td>\n",
       "      <td id=\"T_05415_row2_col2\" class=\"data row2 col2\" >0.6667</td>\n",
       "      <td id=\"T_05415_row2_col3\" class=\"data row2 col3\" >0.8571</td>\n",
       "      <td id=\"T_05415_row2_col4\" class=\"data row2 col4\" >0.7500</td>\n",
       "      <td id=\"T_05415_row2_col5\" class=\"data row2 col5\" >0.5342</td>\n",
       "      <td id=\"T_05415_row2_col6\" class=\"data row2 col6\" >0.5494</td>\n",
       "    </tr>\n",
       "    <tr>\n",
       "      <th id=\"T_05415_level0_row3\" class=\"row_heading level0 row3\" >3</th>\n",
       "      <td id=\"T_05415_row3_col0\" class=\"data row3 col0\" >0.7059</td>\n",
       "      <td id=\"T_05415_row3_col1\" class=\"data row3 col1\" >0.8333</td>\n",
       "      <td id=\"T_05415_row3_col2\" class=\"data row3 col2\" >0.8889</td>\n",
       "      <td id=\"T_05415_row3_col3\" class=\"data row3 col3\" >0.6667</td>\n",
       "      <td id=\"T_05415_row3_col4\" class=\"data row3 col4\" >0.7619</td>\n",
       "      <td id=\"T_05415_row3_col5\" class=\"data row3 col5\" >0.3972</td>\n",
       "      <td id=\"T_05415_row3_col6\" class=\"data row3 col6\" >0.4260</td>\n",
       "    </tr>\n",
       "    <tr>\n",
       "      <th id=\"T_05415_level0_row4\" class=\"row_heading level0 row4\" >4</th>\n",
       "      <td id=\"T_05415_row4_col0\" class=\"data row4 col0\" >0.7647</td>\n",
       "      <td id=\"T_05415_row4_col1\" class=\"data row4 col1\" >0.8333</td>\n",
       "      <td id=\"T_05415_row4_col2\" class=\"data row4 col2\" >0.5556</td>\n",
       "      <td id=\"T_05415_row4_col3\" class=\"data row4 col3\" >1.0000</td>\n",
       "      <td id=\"T_05415_row4_col4\" class=\"data row4 col4\" >0.7143</td>\n",
       "      <td id=\"T_05415_row4_col5\" class=\"data row4 col5\" >0.5405</td>\n",
       "      <td id=\"T_05415_row4_col6\" class=\"data row4 col6\" >0.6086</td>\n",
       "    </tr>\n",
       "    <tr>\n",
       "      <th id=\"T_05415_level0_row5\" class=\"row_heading level0 row5\" >5</th>\n",
       "      <td id=\"T_05415_row5_col0\" class=\"data row5 col0\" >0.8235</td>\n",
       "      <td id=\"T_05415_row5_col1\" class=\"data row5 col1\" >0.7639</td>\n",
       "      <td id=\"T_05415_row5_col2\" class=\"data row5 col2\" >0.7778</td>\n",
       "      <td id=\"T_05415_row5_col3\" class=\"data row5 col3\" >0.8750</td>\n",
       "      <td id=\"T_05415_row5_col4\" class=\"data row5 col4\" >0.8235</td>\n",
       "      <td id=\"T_05415_row5_col5\" class=\"data row5 col5\" >0.6483</td>\n",
       "      <td id=\"T_05415_row5_col6\" class=\"data row5 col6\" >0.6528</td>\n",
       "    </tr>\n",
       "    <tr>\n",
       "      <th id=\"T_05415_level0_row6\" class=\"row_heading level0 row6\" >6</th>\n",
       "      <td id=\"T_05415_row6_col0\" class=\"data row6 col0\" >0.7647</td>\n",
       "      <td id=\"T_05415_row6_col1\" class=\"data row6 col1\" >0.8472</td>\n",
       "      <td id=\"T_05415_row6_col2\" class=\"data row6 col2\" >0.6667</td>\n",
       "      <td id=\"T_05415_row6_col3\" class=\"data row6 col3\" >0.8571</td>\n",
       "      <td id=\"T_05415_row6_col4\" class=\"data row6 col4\" >0.7500</td>\n",
       "      <td id=\"T_05415_row6_col5\" class=\"data row6 col5\" >0.5342</td>\n",
       "      <td id=\"T_05415_row6_col6\" class=\"data row6 col6\" >0.5494</td>\n",
       "    </tr>\n",
       "    <tr>\n",
       "      <th id=\"T_05415_level0_row7\" class=\"row_heading level0 row7\" >7</th>\n",
       "      <td id=\"T_05415_row7_col0\" class=\"data row7 col0\" >0.5882</td>\n",
       "      <td id=\"T_05415_row7_col1\" class=\"data row7 col1\" >0.7500</td>\n",
       "      <td id=\"T_05415_row7_col2\" class=\"data row7 col2\" >0.7778</td>\n",
       "      <td id=\"T_05415_row7_col3\" class=\"data row7 col3\" >0.5833</td>\n",
       "      <td id=\"T_05415_row7_col4\" class=\"data row7 col4\" >0.6667</td>\n",
       "      <td id=\"T_05415_row7_col5\" class=\"data row7 col5\" >0.1560</td>\n",
       "      <td id=\"T_05415_row7_col6\" class=\"data row7 col6\" >0.1674</td>\n",
       "    </tr>\n",
       "    <tr>\n",
       "      <th id=\"T_05415_level0_row8\" class=\"row_heading level0 row8\" >8</th>\n",
       "      <td id=\"T_05415_row8_col0\" class=\"data row8 col0\" >0.8235</td>\n",
       "      <td id=\"T_05415_row8_col1\" class=\"data row8 col1\" >0.8472</td>\n",
       "      <td id=\"T_05415_row8_col2\" class=\"data row8 col2\" >0.7778</td>\n",
       "      <td id=\"T_05415_row8_col3\" class=\"data row8 col3\" >0.8750</td>\n",
       "      <td id=\"T_05415_row8_col4\" class=\"data row8 col4\" >0.8235</td>\n",
       "      <td id=\"T_05415_row8_col5\" class=\"data row8 col5\" >0.6483</td>\n",
       "      <td id=\"T_05415_row8_col6\" class=\"data row8 col6\" >0.6528</td>\n",
       "    </tr>\n",
       "    <tr>\n",
       "      <th id=\"T_05415_level0_row9\" class=\"row_heading level0 row9\" >9</th>\n",
       "      <td id=\"T_05415_row9_col0\" class=\"data row9 col0\" >0.7500</td>\n",
       "      <td id=\"T_05415_row9_col1\" class=\"data row9 col1\" >0.8281</td>\n",
       "      <td id=\"T_05415_row9_col2\" class=\"data row9 col2\" >0.7500</td>\n",
       "      <td id=\"T_05415_row9_col3\" class=\"data row9 col3\" >0.7500</td>\n",
       "      <td id=\"T_05415_row9_col4\" class=\"data row9 col4\" >0.7500</td>\n",
       "      <td id=\"T_05415_row9_col5\" class=\"data row9 col5\" >0.5000</td>\n",
       "      <td id=\"T_05415_row9_col6\" class=\"data row9 col6\" >0.5000</td>\n",
       "    </tr>\n",
       "    <tr>\n",
       "      <th id=\"T_05415_level0_row10\" class=\"row_heading level0 row10\" >Mean</th>\n",
       "      <td id=\"T_05415_row10_col0\" class=\"data row10 col0\" >0.7574</td>\n",
       "      <td id=\"T_05415_row10_col1\" class=\"data row10 col1\" >0.8078</td>\n",
       "      <td id=\"T_05415_row10_col2\" class=\"data row10 col2\" >0.7361</td>\n",
       "      <td id=\"T_05415_row10_col3\" class=\"data row10 col3\" >0.8071</td>\n",
       "      <td id=\"T_05415_row10_col4\" class=\"data row10 col4\" >0.7590</td>\n",
       "      <td id=\"T_05415_row10_col5\" class=\"data row10 col5\" >0.5130</td>\n",
       "      <td id=\"T_05415_row10_col6\" class=\"data row10 col6\" >0.5282</td>\n",
       "    </tr>\n",
       "    <tr>\n",
       "      <th id=\"T_05415_level0_row11\" class=\"row_heading level0 row11\" >Std</th>\n",
       "      <td id=\"T_05415_row11_col0\" class=\"data row11 col0\" >0.0668</td>\n",
       "      <td id=\"T_05415_row11_col1\" class=\"data row11 col1\" >0.0766</td>\n",
       "      <td id=\"T_05415_row11_col2\" class=\"data row11 col2\" >0.0845</td>\n",
       "      <td id=\"T_05415_row11_col3\" class=\"data row11 col3\" >0.1141</td>\n",
       "      <td id=\"T_05415_row11_col4\" class=\"data row11 col4\" >0.0457</td>\n",
       "      <td id=\"T_05415_row11_col5\" class=\"data row11 col5\" >0.1402</td>\n",
       "      <td id=\"T_05415_row11_col6\" class=\"data row11 col6\" >0.1393</td>\n",
       "    </tr>\n",
       "  </tbody>\n",
       "</table>\n"
      ],
      "text/plain": [
       "<pandas.io.formats.style.Styler at 0x1ee1b50fd90>"
      ]
     },
     "metadata": {},
     "output_type": "display_data"
    }
   ],
   "source": [
    "ada = create_model('ada') #escolhendo um modelo"
   ]
  },
  {
   "cell_type": "code",
   "execution_count": 34,
   "id": "093beb08",
   "metadata": {
    "ExecuteTime": {
     "end_time": "2022-05-19T15:29:58.849797Z",
     "start_time": "2022-05-19T15:29:56.542223Z"
    }
   },
   "outputs": [
    {
     "data": {
      "text/html": [
       "<style type=\"text/css\">\n",
       "#T_77292_row10_col0, #T_77292_row10_col1, #T_77292_row10_col2, #T_77292_row10_col3, #T_77292_row10_col4, #T_77292_row10_col5, #T_77292_row10_col6 {\n",
       "  background: yellow;\n",
       "}\n",
       "</style>\n",
       "<table id=\"T_77292\">\n",
       "  <thead>\n",
       "    <tr>\n",
       "      <th class=\"blank level0\" >&nbsp;</th>\n",
       "      <th id=\"T_77292_level0_col0\" class=\"col_heading level0 col0\" >Accuracy</th>\n",
       "      <th id=\"T_77292_level0_col1\" class=\"col_heading level0 col1\" >AUC</th>\n",
       "      <th id=\"T_77292_level0_col2\" class=\"col_heading level0 col2\" >Recall</th>\n",
       "      <th id=\"T_77292_level0_col3\" class=\"col_heading level0 col3\" >Prec.</th>\n",
       "      <th id=\"T_77292_level0_col4\" class=\"col_heading level0 col4\" >F1</th>\n",
       "      <th id=\"T_77292_level0_col5\" class=\"col_heading level0 col5\" >Kappa</th>\n",
       "      <th id=\"T_77292_level0_col6\" class=\"col_heading level0 col6\" >MCC</th>\n",
       "    </tr>\n",
       "    <tr>\n",
       "      <th class=\"index_name level0\" >Fold</th>\n",
       "      <th class=\"blank col0\" >&nbsp;</th>\n",
       "      <th class=\"blank col1\" >&nbsp;</th>\n",
       "      <th class=\"blank col2\" >&nbsp;</th>\n",
       "      <th class=\"blank col3\" >&nbsp;</th>\n",
       "      <th class=\"blank col4\" >&nbsp;</th>\n",
       "      <th class=\"blank col5\" >&nbsp;</th>\n",
       "      <th class=\"blank col6\" >&nbsp;</th>\n",
       "    </tr>\n",
       "  </thead>\n",
       "  <tbody>\n",
       "    <tr>\n",
       "      <th id=\"T_77292_level0_row0\" class=\"row_heading level0 row0\" >0</th>\n",
       "      <td id=\"T_77292_row0_col0\" class=\"data row0 col0\" >0.7647</td>\n",
       "      <td id=\"T_77292_row0_col1\" class=\"data row0 col1\" >0.7847</td>\n",
       "      <td id=\"T_77292_row0_col2\" class=\"data row0 col2\" >0.7500</td>\n",
       "      <td id=\"T_77292_row0_col3\" class=\"data row0 col3\" >0.7500</td>\n",
       "      <td id=\"T_77292_row0_col4\" class=\"data row0 col4\" >0.7500</td>\n",
       "      <td id=\"T_77292_row0_col5\" class=\"data row0 col5\" >0.5278</td>\n",
       "      <td id=\"T_77292_row0_col6\" class=\"data row0 col6\" >0.5278</td>\n",
       "    </tr>\n",
       "    <tr>\n",
       "      <th id=\"T_77292_level0_row1\" class=\"row_heading level0 row1\" >1</th>\n",
       "      <td id=\"T_77292_row1_col0\" class=\"data row1 col0\" >0.8824</td>\n",
       "      <td id=\"T_77292_row1_col1\" class=\"data row1 col1\" >0.9167</td>\n",
       "      <td id=\"T_77292_row1_col2\" class=\"data row1 col2\" >0.8750</td>\n",
       "      <td id=\"T_77292_row1_col3\" class=\"data row1 col3\" >0.8750</td>\n",
       "      <td id=\"T_77292_row1_col4\" class=\"data row1 col4\" >0.8750</td>\n",
       "      <td id=\"T_77292_row1_col5\" class=\"data row1 col5\" >0.7639</td>\n",
       "      <td id=\"T_77292_row1_col6\" class=\"data row1 col6\" >0.7639</td>\n",
       "    </tr>\n",
       "    <tr>\n",
       "      <th id=\"T_77292_level0_row2\" class=\"row_heading level0 row2\" >2</th>\n",
       "      <td id=\"T_77292_row2_col0\" class=\"data row2 col0\" >0.6471</td>\n",
       "      <td id=\"T_77292_row2_col1\" class=\"data row2 col1\" >0.8681</td>\n",
       "      <td id=\"T_77292_row2_col2\" class=\"data row2 col2\" >0.5556</td>\n",
       "      <td id=\"T_77292_row2_col3\" class=\"data row2 col3\" >0.7143</td>\n",
       "      <td id=\"T_77292_row2_col4\" class=\"data row2 col4\" >0.6250</td>\n",
       "      <td id=\"T_77292_row2_col5\" class=\"data row2 col5\" >0.3014</td>\n",
       "      <td id=\"T_77292_row2_col6\" class=\"data row2 col6\" >0.3099</td>\n",
       "    </tr>\n",
       "    <tr>\n",
       "      <th id=\"T_77292_level0_row3\" class=\"row_heading level0 row3\" >3</th>\n",
       "      <td id=\"T_77292_row3_col0\" class=\"data row3 col0\" >0.7647</td>\n",
       "      <td id=\"T_77292_row3_col1\" class=\"data row3 col1\" >0.8472</td>\n",
       "      <td id=\"T_77292_row3_col2\" class=\"data row3 col2\" >0.8889</td>\n",
       "      <td id=\"T_77292_row3_col3\" class=\"data row3 col3\" >0.7273</td>\n",
       "      <td id=\"T_77292_row3_col4\" class=\"data row3 col4\" >0.8000</td>\n",
       "      <td id=\"T_77292_row3_col5\" class=\"data row3 col5\" >0.5211</td>\n",
       "      <td id=\"T_77292_row3_col6\" class=\"data row3 col6\" >0.5367</td>\n",
       "    </tr>\n",
       "    <tr>\n",
       "      <th id=\"T_77292_level0_row4\" class=\"row_heading level0 row4\" >4</th>\n",
       "      <td id=\"T_77292_row4_col0\" class=\"data row4 col0\" >0.8235</td>\n",
       "      <td id=\"T_77292_row4_col1\" class=\"data row4 col1\" >0.8472</td>\n",
       "      <td id=\"T_77292_row4_col2\" class=\"data row4 col2\" >0.7778</td>\n",
       "      <td id=\"T_77292_row4_col3\" class=\"data row4 col3\" >0.8750</td>\n",
       "      <td id=\"T_77292_row4_col4\" class=\"data row4 col4\" >0.8235</td>\n",
       "      <td id=\"T_77292_row4_col5\" class=\"data row4 col5\" >0.6483</td>\n",
       "      <td id=\"T_77292_row4_col6\" class=\"data row4 col6\" >0.6528</td>\n",
       "    </tr>\n",
       "    <tr>\n",
       "      <th id=\"T_77292_level0_row5\" class=\"row_heading level0 row5\" >5</th>\n",
       "      <td id=\"T_77292_row5_col0\" class=\"data row5 col0\" >0.8235</td>\n",
       "      <td id=\"T_77292_row5_col1\" class=\"data row5 col1\" >0.8889</td>\n",
       "      <td id=\"T_77292_row5_col2\" class=\"data row5 col2\" >0.7778</td>\n",
       "      <td id=\"T_77292_row5_col3\" class=\"data row5 col3\" >0.8750</td>\n",
       "      <td id=\"T_77292_row5_col4\" class=\"data row5 col4\" >0.8235</td>\n",
       "      <td id=\"T_77292_row5_col5\" class=\"data row5 col5\" >0.6483</td>\n",
       "      <td id=\"T_77292_row5_col6\" class=\"data row5 col6\" >0.6528</td>\n",
       "    </tr>\n",
       "    <tr>\n",
       "      <th id=\"T_77292_level0_row6\" class=\"row_heading level0 row6\" >6</th>\n",
       "      <td id=\"T_77292_row6_col0\" class=\"data row6 col0\" >0.8235</td>\n",
       "      <td id=\"T_77292_row6_col1\" class=\"data row6 col1\" >0.9097</td>\n",
       "      <td id=\"T_77292_row6_col2\" class=\"data row6 col2\" >1.0000</td>\n",
       "      <td id=\"T_77292_row6_col3\" class=\"data row6 col3\" >0.7500</td>\n",
       "      <td id=\"T_77292_row6_col4\" class=\"data row6 col4\" >0.8571</td>\n",
       "      <td id=\"T_77292_row6_col5\" class=\"data row6 col5\" >0.6383</td>\n",
       "      <td id=\"T_77292_row6_col6\" class=\"data row6 col6\" >0.6847</td>\n",
       "    </tr>\n",
       "    <tr>\n",
       "      <th id=\"T_77292_level0_row7\" class=\"row_heading level0 row7\" >7</th>\n",
       "      <td id=\"T_77292_row7_col0\" class=\"data row7 col0\" >0.6471</td>\n",
       "      <td id=\"T_77292_row7_col1\" class=\"data row7 col1\" >0.8056</td>\n",
       "      <td id=\"T_77292_row7_col2\" class=\"data row7 col2\" >0.7778</td>\n",
       "      <td id=\"T_77292_row7_col3\" class=\"data row7 col3\" >0.6364</td>\n",
       "      <td id=\"T_77292_row7_col4\" class=\"data row7 col4\" >0.7000</td>\n",
       "      <td id=\"T_77292_row7_col5\" class=\"data row7 col5\" >0.2817</td>\n",
       "      <td id=\"T_77292_row7_col6\" class=\"data row7 col6\" >0.2901</td>\n",
       "    </tr>\n",
       "    <tr>\n",
       "      <th id=\"T_77292_level0_row8\" class=\"row_heading level0 row8\" >8</th>\n",
       "      <td id=\"T_77292_row8_col0\" class=\"data row8 col0\" >0.9412</td>\n",
       "      <td id=\"T_77292_row8_col1\" class=\"data row8 col1\" >0.9444</td>\n",
       "      <td id=\"T_77292_row8_col2\" class=\"data row8 col2\" >1.0000</td>\n",
       "      <td id=\"T_77292_row8_col3\" class=\"data row8 col3\" >0.9000</td>\n",
       "      <td id=\"T_77292_row8_col4\" class=\"data row8 col4\" >0.9474</td>\n",
       "      <td id=\"T_77292_row8_col5\" class=\"data row8 col5\" >0.8811</td>\n",
       "      <td id=\"T_77292_row8_col6\" class=\"data row8 col6\" >0.8874</td>\n",
       "    </tr>\n",
       "    <tr>\n",
       "      <th id=\"T_77292_level0_row9\" class=\"row_heading level0 row9\" >9</th>\n",
       "      <td id=\"T_77292_row9_col0\" class=\"data row9 col0\" >0.7500</td>\n",
       "      <td id=\"T_77292_row9_col1\" class=\"data row9 col1\" >0.8906</td>\n",
       "      <td id=\"T_77292_row9_col2\" class=\"data row9 col2\" >0.7500</td>\n",
       "      <td id=\"T_77292_row9_col3\" class=\"data row9 col3\" >0.7500</td>\n",
       "      <td id=\"T_77292_row9_col4\" class=\"data row9 col4\" >0.7500</td>\n",
       "      <td id=\"T_77292_row9_col5\" class=\"data row9 col5\" >0.5000</td>\n",
       "      <td id=\"T_77292_row9_col6\" class=\"data row9 col6\" >0.5000</td>\n",
       "    </tr>\n",
       "    <tr>\n",
       "      <th id=\"T_77292_level0_row10\" class=\"row_heading level0 row10\" >Mean</th>\n",
       "      <td id=\"T_77292_row10_col0\" class=\"data row10 col0\" >0.7868</td>\n",
       "      <td id=\"T_77292_row10_col1\" class=\"data row10 col1\" >0.8703</td>\n",
       "      <td id=\"T_77292_row10_col2\" class=\"data row10 col2\" >0.8153</td>\n",
       "      <td id=\"T_77292_row10_col3\" class=\"data row10 col3\" >0.7853</td>\n",
       "      <td id=\"T_77292_row10_col4\" class=\"data row10 col4\" >0.7952</td>\n",
       "      <td id=\"T_77292_row10_col5\" class=\"data row10 col5\" >0.5712</td>\n",
       "      <td id=\"T_77292_row10_col6\" class=\"data row10 col6\" >0.5806</td>\n",
       "    </tr>\n",
       "    <tr>\n",
       "      <th id=\"T_77292_level0_row11\" class=\"row_heading level0 row11\" >Std</th>\n",
       "      <td id=\"T_77292_row11_col0\" class=\"data row11 col0\" >0.0885</td>\n",
       "      <td id=\"T_77292_row11_col1\" class=\"data row11 col1\" >0.0475</td>\n",
       "      <td id=\"T_77292_row11_col2\" class=\"data row11 col2\" >0.1255</td>\n",
       "      <td id=\"T_77292_row11_col3\" class=\"data row11 col3\" >0.0846</td>\n",
       "      <td id=\"T_77292_row11_col4\" class=\"data row11 col4\" >0.0878</td>\n",
       "      <td id=\"T_77292_row11_col5\" class=\"data row11 col5\" >0.1777</td>\n",
       "      <td id=\"T_77292_row11_col6\" class=\"data row11 col6\" >0.1783</td>\n",
       "    </tr>\n",
       "  </tbody>\n",
       "</table>\n"
      ],
      "text/plain": [
       "<pandas.io.formats.style.Styler at 0x1ee1667a790>"
      ]
     },
     "metadata": {},
     "output_type": "display_data"
    }
   ],
   "source": [
    "model = tune_model(ada, n_iter=1000,custom_grid ={'learning_rate':[0.05],'n_estimators':[50]}) #tunando o modelo "
   ]
  },
  {
   "cell_type": "code",
   "execution_count": 35,
   "id": "1b328b0b",
   "metadata": {
    "ExecuteTime": {
     "end_time": "2022-05-19T15:30:03.340143Z",
     "start_time": "2022-05-19T15:30:03.328143Z"
    }
   },
   "outputs": [
    {
     "name": "stdout",
     "output_type": "stream",
     "text": [
      "AdaBoostClassifier(algorithm='SAMME.R', base_estimator=None, learning_rate=0.05,\n",
      "                   n_estimators=50, random_state=42)\n"
     ]
    }
   ],
   "source": [
    "print(model) #verificando os parametros utilizados"
   ]
  },
  {
   "cell_type": "code",
   "execution_count": 36,
   "id": "5bb00758",
   "metadata": {
    "ExecuteTime": {
     "end_time": "2022-05-19T15:30:04.616733Z",
     "start_time": "2022-05-19T15:30:04.027513Z"
    }
   },
   "outputs": [
    {
     "data": {
      "image/png": "[encoded data removed]",
      "text/plain": [
       "<Figure size 432x288 with 1 Axes>"
      ]
     },
     "metadata": {
      "needs_background": "light"
     },
     "output_type": "display_data"
    }
   ],
   "source": [
    "plot_model(ada, plot = 'confusion_matrix') #vizualizando a matriz de confusâo "
   ]
  },
  {
   "cell_type": "code",
   "execution_count": 37,
   "id": "703eaac8",
   "metadata": {
    "ExecuteTime": {
     "end_time": "2022-05-19T15:30:06.137607Z",
     "start_time": "2022-05-19T15:30:05.453176Z"
    }
   },
   "outputs": [
    {
     "data": {
      "image/png": "[encoded data removed]",
      "text/plain": [
       "<Figure size 432x288 with 1 Axes>"
      ]
     },
     "metadata": {
      "needs_background": "light"
     },
     "output_type": "display_data"
    }
   ],
   "source": [
    "plot_model(model, plot = 'auc') #verificando a acuracia do modelo"
   ]
  },
  {
   "cell_type": "code",
   "execution_count": 38,
   "id": "396de687",
   "metadata": {
    "ExecuteTime": {
     "end_time": "2022-05-19T15:30:08.171567Z",
     "start_time": "2022-05-19T15:30:07.610670Z"
    }
   },
   "outputs": [
    {
     "data": {
      "image/png": "[encoded data removed]",
      "text/plain": [
       "<Figure size 800x500 with 1 Axes>"
      ]
     },
     "metadata": {
      "needs_background": "light"
     },
     "output_type": "display_data"
    }
   ],
   "source": [
    "plot_model(model, plot='feature') #verificando quais foram as colunas de mais relevancia"
   ]
  },
  {
   "cell_type": "code",
   "execution_count": 39,
   "id": "5f49c694",
   "metadata": {
    "ExecuteTime": {
     "end_time": "2022-05-19T15:30:13.301660Z",
     "start_time": "2022-05-19T15:30:11.958717Z"
    }
   },
   "outputs": [],
   "source": [
    "final = finalize_model(model) #finalizando o modelo"
   ]
  },
  {
   "cell_type": "code",
   "execution_count": 40,
   "id": "aa05f261",
   "metadata": {
    "ExecuteTime": {
     "end_time": "2022-05-19T15:30:13.951405Z",
     "start_time": "2022-05-19T15:30:13.307713Z"
    }
   },
   "outputs": [
    {
     "data": {
      "text/html": [
       "<style type=\"text/css\">\n",
       "</style>\n",
       "<table id=\"T_4fef1\">\n",
       "  <thead>\n",
       "    <tr>\n",
       "      <th class=\"blank level0\" >&nbsp;</th>\n",
       "      <th id=\"T_4fef1_level0_col0\" class=\"col_heading level0 col0\" >Model</th>\n",
       "      <th id=\"T_4fef1_level0_col1\" class=\"col_heading level0 col1\" >Accuracy</th>\n",
       "      <th id=\"T_4fef1_level0_col2\" class=\"col_heading level0 col2\" >AUC</th>\n",
       "      <th id=\"T_4fef1_level0_col3\" class=\"col_heading level0 col3\" >Recall</th>\n",
       "      <th id=\"T_4fef1_level0_col4\" class=\"col_heading level0 col4\" >Prec.</th>\n",
       "      <th id=\"T_4fef1_level0_col5\" class=\"col_heading level0 col5\" >F1</th>\n",
       "      <th id=\"T_4fef1_level0_col6\" class=\"col_heading level0 col6\" >Kappa</th>\n",
       "      <th id=\"T_4fef1_level0_col7\" class=\"col_heading level0 col7\" >MCC</th>\n",
       "    </tr>\n",
       "  </thead>\n",
       "  <tbody>\n",
       "    <tr>\n",
       "      <th id=\"T_4fef1_level0_row0\" class=\"row_heading level0 row0\" >0</th>\n",
       "      <td id=\"T_4fef1_row0_col0\" class=\"data row0 col0\" >Ada Boost Classifier</td>\n",
       "      <td id=\"T_4fef1_row0_col1\" class=\"data row0 col1\" >0.8525</td>\n",
       "      <td id=\"T_4fef1_row0_col2\" class=\"data row0 col2\" >0.9093</td>\n",
       "      <td id=\"T_4fef1_row0_col3\" class=\"data row0 col3\" >0.8919</td>\n",
       "      <td id=\"T_4fef1_row0_col4\" class=\"data row0 col4\" >0.8684</td>\n",
       "      <td id=\"T_4fef1_row0_col5\" class=\"data row0 col5\" >0.8800</td>\n",
       "      <td id=\"T_4fef1_row0_col6\" class=\"data row0 col6\" >0.6886</td>\n",
       "      <td id=\"T_4fef1_row0_col7\" class=\"data row0 col7\" >0.6890</td>\n",
       "    </tr>\n",
       "  </tbody>\n",
       "</table>\n"
      ],
      "text/plain": [
       "<pandas.io.formats.style.Styler at 0x1ee165a14f0>"
      ]
     },
     "metadata": {},
     "output_type": "display_data"
    },
    {
     "data": {
      "text/html": [
       "<div>\n",
       "<style scoped>\n",
       "    .dataframe tbody tr th:only-of-type {\n",
       "        vertical-align: middle;\n",
       "    }\n",
       "\n",
       "    .dataframe tbody tr th {\n",
       "        vertical-align: top;\n",
       "    }\n",
       "\n",
       "    .dataframe thead th {\n",
       "        text-align: right;\n",
       "    }\n",
       "</style>\n",
       "<table border=\"1\" class=\"dataframe\">\n",
       "  <thead>\n",
       "    <tr style=\"text-align: right;\">\n",
       "      <th></th>\n",
       "      <th>idade</th>\n",
       "      <th>sexo</th>\n",
       "      <th>tipo</th>\n",
       "      <th>pa repouso</th>\n",
       "      <th>colesterol</th>\n",
       "      <th>glicemia</th>\n",
       "      <th>ecg repouso</th>\n",
       "      <th>fc max</th>\n",
       "      <th>exercicio</th>\n",
       "      <th>oldpeak</th>\n",
       "      <th>veias</th>\n",
       "      <th>talessemia</th>\n",
       "      <th>output</th>\n",
       "      <th>Label</th>\n",
       "      <th>Score</th>\n",
       "    </tr>\n",
       "  </thead>\n",
       "  <tbody>\n",
       "    <tr>\n",
       "      <th>163</th>\n",
       "      <td>38</td>\n",
       "      <td>1</td>\n",
       "      <td>2</td>\n",
       "      <td>138</td>\n",
       "      <td>175</td>\n",
       "      <td>0</td>\n",
       "      <td>1</td>\n",
       "      <td>173</td>\n",
       "      <td>0</td>\n",
       "      <td>0.0</td>\n",
       "      <td>4</td>\n",
       "      <td>2</td>\n",
       "      <td>1</td>\n",
       "      <td>1</td>\n",
       "      <td>0.5650</td>\n",
       "    </tr>\n",
       "    <tr>\n",
       "      <th>33</th>\n",
       "      <td>54</td>\n",
       "      <td>1</td>\n",
       "      <td>2</td>\n",
       "      <td>125</td>\n",
       "      <td>273</td>\n",
       "      <td>0</td>\n",
       "      <td>0</td>\n",
       "      <td>152</td>\n",
       "      <td>0</td>\n",
       "      <td>0.5</td>\n",
       "      <td>1</td>\n",
       "      <td>2</td>\n",
       "      <td>1</td>\n",
       "      <td>1</td>\n",
       "      <td>0.5529</td>\n",
       "    </tr>\n",
       "    <tr>\n",
       "      <th>15</th>\n",
       "      <td>50</td>\n",
       "      <td>0</td>\n",
       "      <td>2</td>\n",
       "      <td>120</td>\n",
       "      <td>219</td>\n",
       "      <td>0</td>\n",
       "      <td>1</td>\n",
       "      <td>158</td>\n",
       "      <td>0</td>\n",
       "      <td>1.6</td>\n",
       "      <td>0</td>\n",
       "      <td>2</td>\n",
       "      <td>1</td>\n",
       "      <td>1</td>\n",
       "      <td>0.6634</td>\n",
       "    </tr>\n",
       "    <tr>\n",
       "      <th>49</th>\n",
       "      <td>53</td>\n",
       "      <td>0</td>\n",
       "      <td>0</td>\n",
       "      <td>138</td>\n",
       "      <td>234</td>\n",
       "      <td>0</td>\n",
       "      <td>0</td>\n",
       "      <td>160</td>\n",
       "      <td>0</td>\n",
       "      <td>0.0</td>\n",
       "      <td>0</td>\n",
       "      <td>2</td>\n",
       "      <td>1</td>\n",
       "      <td>1</td>\n",
       "      <td>0.5840</td>\n",
       "    </tr>\n",
       "    <tr>\n",
       "      <th>57</th>\n",
       "      <td>45</td>\n",
       "      <td>1</td>\n",
       "      <td>0</td>\n",
       "      <td>115</td>\n",
       "      <td>260</td>\n",
       "      <td>0</td>\n",
       "      <td>0</td>\n",
       "      <td>185</td>\n",
       "      <td>0</td>\n",
       "      <td>0.0</td>\n",
       "      <td>0</td>\n",
       "      <td>2</td>\n",
       "      <td>1</td>\n",
       "      <td>1</td>\n",
       "      <td>0.5837</td>\n",
       "    </tr>\n",
       "    <tr>\n",
       "      <th>...</th>\n",
       "      <td>...</td>\n",
       "      <td>...</td>\n",
       "      <td>...</td>\n",
       "      <td>...</td>\n",
       "      <td>...</td>\n",
       "      <td>...</td>\n",
       "      <td>...</td>\n",
       "      <td>...</td>\n",
       "      <td>...</td>\n",
       "      <td>...</td>\n",
       "      <td>...</td>\n",
       "      <td>...</td>\n",
       "      <td>...</td>\n",
       "      <td>...</td>\n",
       "      <td>...</td>\n",
       "    </tr>\n",
       "    <tr>\n",
       "      <th>93</th>\n",
       "      <td>54</td>\n",
       "      <td>0</td>\n",
       "      <td>1</td>\n",
       "      <td>132</td>\n",
       "      <td>288</td>\n",
       "      <td>1</td>\n",
       "      <td>0</td>\n",
       "      <td>159</td>\n",
       "      <td>1</td>\n",
       "      <td>0.0</td>\n",
       "      <td>1</td>\n",
       "      <td>2</td>\n",
       "      <td>1</td>\n",
       "      <td>1</td>\n",
       "      <td>0.5451</td>\n",
       "    </tr>\n",
       "    <tr>\n",
       "      <th>3</th>\n",
       "      <td>56</td>\n",
       "      <td>1</td>\n",
       "      <td>1</td>\n",
       "      <td>120</td>\n",
       "      <td>236</td>\n",
       "      <td>0</td>\n",
       "      <td>1</td>\n",
       "      <td>178</td>\n",
       "      <td>0</td>\n",
       "      <td>0.8</td>\n",
       "      <td>0</td>\n",
       "      <td>2</td>\n",
       "      <td>1</td>\n",
       "      <td>1</td>\n",
       "      <td>0.6631</td>\n",
       "    </tr>\n",
       "    <tr>\n",
       "      <th>285</th>\n",
       "      <td>46</td>\n",
       "      <td>1</td>\n",
       "      <td>0</td>\n",
       "      <td>140</td>\n",
       "      <td>311</td>\n",
       "      <td>0</td>\n",
       "      <td>1</td>\n",
       "      <td>120</td>\n",
       "      <td>1</td>\n",
       "      <td>1.8</td>\n",
       "      <td>2</td>\n",
       "      <td>3</td>\n",
       "      <td>0</td>\n",
       "      <td>0</td>\n",
       "      <td>0.6603</td>\n",
       "    </tr>\n",
       "    <tr>\n",
       "      <th>77</th>\n",
       "      <td>59</td>\n",
       "      <td>1</td>\n",
       "      <td>1</td>\n",
       "      <td>140</td>\n",
       "      <td>221</td>\n",
       "      <td>0</td>\n",
       "      <td>1</td>\n",
       "      <td>164</td>\n",
       "      <td>1</td>\n",
       "      <td>0.0</td>\n",
       "      <td>0</td>\n",
       "      <td>2</td>\n",
       "      <td>1</td>\n",
       "      <td>1</td>\n",
       "      <td>0.6446</td>\n",
       "    </tr>\n",
       "    <tr>\n",
       "      <th>235</th>\n",
       "      <td>51</td>\n",
       "      <td>1</td>\n",
       "      <td>0</td>\n",
       "      <td>140</td>\n",
       "      <td>299</td>\n",
       "      <td>0</td>\n",
       "      <td>1</td>\n",
       "      <td>173</td>\n",
       "      <td>1</td>\n",
       "      <td>1.6</td>\n",
       "      <td>0</td>\n",
       "      <td>3</td>\n",
       "      <td>0</td>\n",
       "      <td>0</td>\n",
       "      <td>0.5297</td>\n",
       "    </tr>\n",
       "  </tbody>\n",
       "</table>\n",
       "<p>61 rows × 15 columns</p>\n",
       "</div>"
      ],
      "text/plain": [
       "     idade  sexo  tipo  pa repouso  colesterol  glicemia  ecg repouso  fc max  \\\n",
       "163     38     1     2         138         175         0            1     173   \n",
       "33      54     1     2         125         273         0            0     152   \n",
       "15      50     0     2         120         219         0            1     158   \n",
       "49      53     0     0         138         234         0            0     160   \n",
       "57      45     1     0         115         260         0            0     185   \n",
       "..     ...   ...   ...         ...         ...       ...          ...     ...   \n",
       "93      54     0     1         132         288         1            0     159   \n",
       "3       56     1     1         120         236         0            1     178   \n",
       "285     46     1     0         140         311         0            1     120   \n",
       "77      59     1     1         140         221         0            1     164   \n",
       "235     51     1     0         140         299         0            1     173   \n",
       "\n",
       "     exercicio  oldpeak  veias  talessemia  output  Label   Score  \n",
       "163          0      0.0      4           2       1      1  0.5650  \n",
       "33           0      0.5      1           2       1      1  0.5529  \n",
       "15           0      1.6      0           2       1      1  0.6634  \n",
       "49           0      0.0      0           2       1      1  0.5840  \n",
       "57           0      0.0      0           2       1      1  0.5837  \n",
       "..         ...      ...    ...         ...     ...    ...     ...  \n",
       "93           1      0.0      1           2       1      1  0.5451  \n",
       "3            0      0.8      0           2       1      1  0.6631  \n",
       "285          1      1.8      2           3       0      0  0.6603  \n",
       "77           1      0.0      0           2       1      1  0.6446  \n",
       "235          1      1.6      0           3       0      0  0.5297  \n",
       "\n",
       "[61 rows x 15 columns]"
      ]
     },
     "execution_count": 40,
     "metadata": {},
     "output_type": "execute_result"
    }
   ],
   "source": [
    "predict_model(final, data=data_test)  #testando o modelo nos dados de teste"
   ]
  },
  {
   "cell_type": "code",
   "execution_count": null,
   "id": "fd3c9740",
   "metadata": {},
   "outputs": [],
   "source": []
  }
 ],
 "metadata": {
  "kernelspec": {
   "display_name": "pycaret",
   "language": "python",
   "name": "pycaret"
  },
  "language_info": {
   "codemirror_mode": {
    "name": "ipython",
    "version": 3
   },
   "file_extension": ".py",
   "mimetype": "text/x-python",
   "name": "python",
   "nbconvert_exporter": "python",
   "pygments_lexer": "ipython3",
   "version": "3.8.13"
  },
  "toc": {
   "base_numbering": 1,
   "nav_menu": {},
   "number_sections": true,
   "sideBar": true,
   "skip_h1_title": false,
   "title_cell": "Table of Contents",
   "title_sidebar": "Contents",
   "toc_cell": false,
   "toc_position": {},
   "toc_section_display": true,
   "toc_window_display": false
  }
 },
 "nbformat": 4,
 "nbformat_minor": 5
}
