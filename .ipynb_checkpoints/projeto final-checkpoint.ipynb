{
 "cells": [
  {
   "cell_type": "markdown",
   "id": "639dfd8c",
   "metadata": {},
   "source": [
    "# Projeto Final"
   ]
  },
  {
   "cell_type": "markdown",
   "id": "fe0d43a7",
   "metadata": {},
   "source": [
    "## Importação de bibliotecas e leitura de arquivo "
   ]
  },
  {
   "cell_type": "code",
   "execution_count": 50,
   "id": "ece75510",
   "metadata": {
    "ExecuteTime": {
     "end_time": "2022-05-17T01:22:24.339799Z",
     "start_time": "2022-05-17T01:22:24.312610Z"
    }
   },
   "outputs": [],
   "source": [
    "import pandas as pd\n",
    "import numpy as np \n",
    "import seaborn as sns\n",
    "import matplotlib.pyplot as plt\n",
    "from plotly.offline import iplot\n",
    "import plotly.graph_objs as go\n",
    "plt.style.use('seaborn-talk')\n",
    "import warnings\n",
    "warnings.filterwarnings('ignore')\n",
    "import colorsys\n",
    "from sklearn.linear_model import LinearRegression\n",
    "from sklearn.metrics import mean_squared_error\n",
    "from sklearn.metrics import r2_score\n",
    "from sklearn.preprocessing import StandardScaler\n",
    "import tensorflow as tf\n",
    "from tensorflow import keras\n",
    "from tensorflow.keras import layers\n",
    "from sklearn.model_selection import train_test_split\n",
    "from pycaret.classification import *\n",
    "from sklearn.decomposition import PCA"
   ]
  },
  {
   "cell_type": "code",
   "execution_count": 4,
   "id": "77e4dc36",
   "metadata": {
    "ExecuteTime": {
     "end_time": "2022-05-17T01:06:23.317661Z",
     "start_time": "2022-05-17T01:06:23.298556Z"
    }
   },
   "outputs": [],
   "source": [
    "df = pd.read_csv('heart.csv') #carregando o dataset"
   ]
  },
  {
   "cell_type": "markdown",
   "id": "a5d46700",
   "metadata": {},
   "source": [
    "## Limpeza de dados"
   ]
  },
  {
   "cell_type": "code",
   "execution_count": 5,
   "id": "ba1be2a4",
   "metadata": {
    "ExecuteTime": {
     "end_time": "2022-05-17T01:06:24.911479Z",
     "start_time": "2022-05-17T01:06:24.892360Z"
    }
   },
   "outputs": [],
   "source": [
    "df = df.rename(columns={'age':'idade', 'sex':'sexo', 'cp':'tipo', 'trtbps':'pa repouso', 'chol':'colesterol', 'fbs':'glicemia', 'restecg':'ecg repouso', 'thalachh':'fc max',\n",
    "       'exng':'exercicio', 'oldpeak':'oldpeak', 'slp':'slp', 'caa':'veias', 'thall':'talessemia', 'output':'output'}) #renomeando colunas"
   ]
  },
  {
   "cell_type": "code",
   "execution_count": 6,
   "id": "d6d89506",
   "metadata": {
    "ExecuteTime": {
     "end_time": "2022-05-17T01:06:58.152079Z",
     "start_time": "2022-05-17T01:06:58.133934Z"
    }
   },
   "outputs": [],
   "source": [
    "df = df.drop(['slp'],axis=1)"
   ]
  },
  {
   "cell_type": "markdown",
   "id": "27c84961",
   "metadata": {},
   "source": [
    "## Analise exploratoria"
   ]
  },
  {
   "cell_type": "code",
   "execution_count": 7,
   "id": "20caca7c",
   "metadata": {
    "ExecuteTime": {
     "end_time": "2022-05-17T01:07:01.436429Z",
     "start_time": "2022-05-17T01:07:01.403370Z"
    }
   },
   "outputs": [
    {
     "data": {
      "text/html": [
       "<div>\n",
       "<style scoped>\n",
       "    .dataframe tbody tr th:only-of-type {\n",
       "        vertical-align: middle;\n",
       "    }\n",
       "\n",
       "    .dataframe tbody tr th {\n",
       "        vertical-align: top;\n",
       "    }\n",
       "\n",
       "    .dataframe thead th {\n",
       "        text-align: right;\n",
       "    }\n",
       "</style>\n",
       "<table border=\"1\" class=\"dataframe\">\n",
       "  <thead>\n",
       "    <tr style=\"text-align: right;\">\n",
       "      <th></th>\n",
       "      <th>idade</th>\n",
       "      <th>sexo</th>\n",
       "      <th>tipo</th>\n",
       "      <th>pa repouso</th>\n",
       "      <th>colesterol</th>\n",
       "      <th>glicemia</th>\n",
       "      <th>ecg repouso</th>\n",
       "      <th>fc max</th>\n",
       "      <th>exercicio</th>\n",
       "      <th>oldpeak</th>\n",
       "      <th>veias</th>\n",
       "      <th>talessemia</th>\n",
       "      <th>output</th>\n",
       "    </tr>\n",
       "  </thead>\n",
       "  <tbody>\n",
       "    <tr>\n",
       "      <th>0</th>\n",
       "      <td>63</td>\n",
       "      <td>1</td>\n",
       "      <td>3</td>\n",
       "      <td>145</td>\n",
       "      <td>233</td>\n",
       "      <td>1</td>\n",
       "      <td>0</td>\n",
       "      <td>150</td>\n",
       "      <td>0</td>\n",
       "      <td>2.3</td>\n",
       "      <td>0</td>\n",
       "      <td>1</td>\n",
       "      <td>1</td>\n",
       "    </tr>\n",
       "    <tr>\n",
       "      <th>1</th>\n",
       "      <td>37</td>\n",
       "      <td>1</td>\n",
       "      <td>2</td>\n",
       "      <td>130</td>\n",
       "      <td>250</td>\n",
       "      <td>0</td>\n",
       "      <td>1</td>\n",
       "      <td>187</td>\n",
       "      <td>0</td>\n",
       "      <td>3.5</td>\n",
       "      <td>0</td>\n",
       "      <td>2</td>\n",
       "      <td>1</td>\n",
       "    </tr>\n",
       "    <tr>\n",
       "      <th>2</th>\n",
       "      <td>41</td>\n",
       "      <td>0</td>\n",
       "      <td>1</td>\n",
       "      <td>130</td>\n",
       "      <td>204</td>\n",
       "      <td>0</td>\n",
       "      <td>0</td>\n",
       "      <td>172</td>\n",
       "      <td>0</td>\n",
       "      <td>1.4</td>\n",
       "      <td>0</td>\n",
       "      <td>2</td>\n",
       "      <td>1</td>\n",
       "    </tr>\n",
       "    <tr>\n",
       "      <th>3</th>\n",
       "      <td>56</td>\n",
       "      <td>1</td>\n",
       "      <td>1</td>\n",
       "      <td>120</td>\n",
       "      <td>236</td>\n",
       "      <td>0</td>\n",
       "      <td>1</td>\n",
       "      <td>178</td>\n",
       "      <td>0</td>\n",
       "      <td>0.8</td>\n",
       "      <td>0</td>\n",
       "      <td>2</td>\n",
       "      <td>1</td>\n",
       "    </tr>\n",
       "    <tr>\n",
       "      <th>4</th>\n",
       "      <td>57</td>\n",
       "      <td>0</td>\n",
       "      <td>0</td>\n",
       "      <td>120</td>\n",
       "      <td>354</td>\n",
       "      <td>0</td>\n",
       "      <td>1</td>\n",
       "      <td>163</td>\n",
       "      <td>1</td>\n",
       "      <td>0.6</td>\n",
       "      <td>0</td>\n",
       "      <td>2</td>\n",
       "      <td>1</td>\n",
       "    </tr>\n",
       "  </tbody>\n",
       "</table>\n",
       "</div>"
      ],
      "text/plain": [
       "   idade  sexo  tipo  pa repouso  colesterol  glicemia  ecg repouso  fc max  \\\n",
       "0     63     1     3         145         233         1            0     150   \n",
       "1     37     1     2         130         250         0            1     187   \n",
       "2     41     0     1         130         204         0            0     172   \n",
       "3     56     1     1         120         236         0            1     178   \n",
       "4     57     0     0         120         354         0            1     163   \n",
       "\n",
       "   exercicio  oldpeak  veias  talessemia  output  \n",
       "0          0      2.3      0           1       1  \n",
       "1          0      3.5      0           2       1  \n",
       "2          0      1.4      0           2       1  \n",
       "3          0      0.8      0           2       1  \n",
       "4          1      0.6      0           2       1  "
      ]
     },
     "execution_count": 7,
     "metadata": {},
     "output_type": "execute_result"
    }
   ],
   "source": [
    "df.head() #visualiza o dataset"
   ]
  },
  {
   "cell_type": "code",
   "execution_count": 8,
   "id": "5f8b042c",
   "metadata": {
    "ExecuteTime": {
     "end_time": "2022-05-17T01:07:03.660900Z",
     "start_time": "2022-05-17T01:07:03.642439Z"
    }
   },
   "outputs": [
    {
     "data": {
      "text/plain": [
       "idade         -0.225439\n",
       "sexo          -0.280937\n",
       "tipo           0.433798\n",
       "pa repouso    -0.144931\n",
       "colesterol    -0.085239\n",
       "glicemia      -0.028046\n",
       "ecg repouso    0.137230\n",
       "fc max         0.421741\n",
       "exercicio     -0.436757\n",
       "oldpeak       -0.430696\n",
       "veias         -0.391724\n",
       "talessemia    -0.344029\n",
       "output         1.000000\n",
       "Name: output, dtype: float64"
      ]
     },
     "execution_count": 8,
     "metadata": {},
     "output_type": "execute_result"
    }
   ],
   "source": [
    "df.corr()['output'] #verificando correlação das colunas com o output"
   ]
  },
  {
   "cell_type": "code",
   "execution_count": 9,
   "id": "751c954b",
   "metadata": {
    "ExecuteTime": {
     "end_time": "2022-05-17T01:07:11.470291Z",
     "start_time": "2022-05-17T01:07:11.435522Z"
    }
   },
   "outputs": [
    {
     "name": "stdout",
     "output_type": "stream",
     "text": [
      "<class 'pandas.core.frame.DataFrame'>\n",
      "RangeIndex: 303 entries, 0 to 302\n",
      "Data columns (total 13 columns):\n",
      " #   Column       Non-Null Count  Dtype  \n",
      "---  ------       --------------  -----  \n",
      " 0   idade        303 non-null    int64  \n",
      " 1   sexo         303 non-null    int64  \n",
      " 2   tipo         303 non-null    int64  \n",
      " 3   pa repouso   303 non-null    int64  \n",
      " 4   colesterol   303 non-null    int64  \n",
      " 5   glicemia     303 non-null    int64  \n",
      " 6   ecg repouso  303 non-null    int64  \n",
      " 7   fc max       303 non-null    int64  \n",
      " 8   exercicio    303 non-null    int64  \n",
      " 9   oldpeak      303 non-null    float64\n",
      " 10  veias        303 non-null    int64  \n",
      " 11  talessemia   303 non-null    int64  \n",
      " 12  output       303 non-null    int64  \n",
      "dtypes: float64(1), int64(12)\n",
      "memory usage: 30.9 KB\n"
     ]
    }
   ],
   "source": [
    "df.info() #Verificando os tipos de dados e se possue valores nulos"
   ]
  },
  {
   "cell_type": "code",
   "execution_count": 10,
   "id": "58352318",
   "metadata": {
    "ExecuteTime": {
     "end_time": "2022-05-17T01:07:14.760291Z",
     "start_time": "2022-05-17T01:07:14.739897Z"
    }
   },
   "outputs": [
    {
     "data": {
      "text/html": [
       "<div>\n",
       "<style scoped>\n",
       "    .dataframe tbody tr th:only-of-type {\n",
       "        vertical-align: middle;\n",
       "    }\n",
       "\n",
       "    .dataframe tbody tr th {\n",
       "        vertical-align: top;\n",
       "    }\n",
       "\n",
       "    .dataframe thead th {\n",
       "        text-align: right;\n",
       "    }\n",
       "</style>\n",
       "<table border=\"1\" class=\"dataframe\">\n",
       "  <thead>\n",
       "    <tr style=\"text-align: right;\">\n",
       "      <th></th>\n",
       "      <th>idade</th>\n",
       "      <th>sexo</th>\n",
       "      <th>tipo</th>\n",
       "      <th>pa repouso</th>\n",
       "      <th>colesterol</th>\n",
       "      <th>glicemia</th>\n",
       "      <th>ecg repouso</th>\n",
       "      <th>fc max</th>\n",
       "      <th>exercicio</th>\n",
       "      <th>oldpeak</th>\n",
       "      <th>veias</th>\n",
       "      <th>output</th>\n",
       "    </tr>\n",
       "    <tr>\n",
       "      <th>talessemia</th>\n",
       "      <th></th>\n",
       "      <th></th>\n",
       "      <th></th>\n",
       "      <th></th>\n",
       "      <th></th>\n",
       "      <th></th>\n",
       "      <th></th>\n",
       "      <th></th>\n",
       "      <th></th>\n",
       "      <th></th>\n",
       "      <th></th>\n",
       "      <th></th>\n",
       "    </tr>\n",
       "  </thead>\n",
       "  <tbody>\n",
       "    <tr>\n",
       "      <th>0</th>\n",
       "      <td>2</td>\n",
       "      <td>2</td>\n",
       "      <td>2</td>\n",
       "      <td>2</td>\n",
       "      <td>2</td>\n",
       "      <td>2</td>\n",
       "      <td>2</td>\n",
       "      <td>2</td>\n",
       "      <td>2</td>\n",
       "      <td>2</td>\n",
       "      <td>2</td>\n",
       "      <td>2</td>\n",
       "    </tr>\n",
       "    <tr>\n",
       "      <th>1</th>\n",
       "      <td>18</td>\n",
       "      <td>18</td>\n",
       "      <td>18</td>\n",
       "      <td>18</td>\n",
       "      <td>18</td>\n",
       "      <td>18</td>\n",
       "      <td>18</td>\n",
       "      <td>18</td>\n",
       "      <td>18</td>\n",
       "      <td>18</td>\n",
       "      <td>18</td>\n",
       "      <td>18</td>\n",
       "    </tr>\n",
       "    <tr>\n",
       "      <th>2</th>\n",
       "      <td>166</td>\n",
       "      <td>166</td>\n",
       "      <td>166</td>\n",
       "      <td>166</td>\n",
       "      <td>166</td>\n",
       "      <td>166</td>\n",
       "      <td>166</td>\n",
       "      <td>166</td>\n",
       "      <td>166</td>\n",
       "      <td>166</td>\n",
       "      <td>166</td>\n",
       "      <td>166</td>\n",
       "    </tr>\n",
       "    <tr>\n",
       "      <th>3</th>\n",
       "      <td>117</td>\n",
       "      <td>117</td>\n",
       "      <td>117</td>\n",
       "      <td>117</td>\n",
       "      <td>117</td>\n",
       "      <td>117</td>\n",
       "      <td>117</td>\n",
       "      <td>117</td>\n",
       "      <td>117</td>\n",
       "      <td>117</td>\n",
       "      <td>117</td>\n",
       "      <td>117</td>\n",
       "    </tr>\n",
       "  </tbody>\n",
       "</table>\n",
       "</div>"
      ],
      "text/plain": [
       "            idade  sexo  tipo  pa repouso  colesterol  glicemia  ecg repouso  \\\n",
       "talessemia                                                                     \n",
       "0               2     2     2           2           2         2            2   \n",
       "1              18    18    18          18          18        18           18   \n",
       "2             166   166   166         166         166       166          166   \n",
       "3             117   117   117         117         117       117          117   \n",
       "\n",
       "            fc max  exercicio  oldpeak  veias  output  \n",
       "talessemia                                             \n",
       "0                2          2        2      2       2  \n",
       "1               18         18       18     18      18  \n",
       "2              166        166      166    166     166  \n",
       "3              117        117      117    117     117  "
      ]
     },
     "execution_count": 10,
     "metadata": {},
     "output_type": "execute_result"
    }
   ],
   "source": [
    "df.groupby([\"talessemia\"]).count()"
   ]
  },
  {
   "cell_type": "code",
   "execution_count": 11,
   "id": "d22304a9",
   "metadata": {
    "ExecuteTime": {
     "end_time": "2022-05-17T01:07:48.069132Z",
     "start_time": "2022-05-17T01:07:47.989146Z"
    }
   },
   "outputs": [
    {
     "data": {
      "text/html": [
       "<div>\n",
       "<style scoped>\n",
       "    .dataframe tbody tr th:only-of-type {\n",
       "        vertical-align: middle;\n",
       "    }\n",
       "\n",
       "    .dataframe tbody tr th {\n",
       "        vertical-align: top;\n",
       "    }\n",
       "\n",
       "    .dataframe thead th {\n",
       "        text-align: right;\n",
       "    }\n",
       "</style>\n",
       "<table border=\"1\" class=\"dataframe\">\n",
       "  <thead>\n",
       "    <tr style=\"text-align: right;\">\n",
       "      <th></th>\n",
       "      <th>idade</th>\n",
       "      <th>sexo</th>\n",
       "      <th>tipo</th>\n",
       "      <th>pa repouso</th>\n",
       "      <th>colesterol</th>\n",
       "      <th>glicemia</th>\n",
       "      <th>ecg repouso</th>\n",
       "      <th>fc max</th>\n",
       "      <th>exercicio</th>\n",
       "      <th>oldpeak</th>\n",
       "      <th>veias</th>\n",
       "      <th>talessemia</th>\n",
       "      <th>output</th>\n",
       "    </tr>\n",
       "  </thead>\n",
       "  <tbody>\n",
       "    <tr>\n",
       "      <th>count</th>\n",
       "      <td>303.000000</td>\n",
       "      <td>303.000000</td>\n",
       "      <td>303.000000</td>\n",
       "      <td>303.000000</td>\n",
       "      <td>303.000000</td>\n",
       "      <td>303.000000</td>\n",
       "      <td>303.000000</td>\n",
       "      <td>303.000000</td>\n",
       "      <td>303.000000</td>\n",
       "      <td>303.000000</td>\n",
       "      <td>303.000000</td>\n",
       "      <td>303.000000</td>\n",
       "      <td>303.000000</td>\n",
       "    </tr>\n",
       "    <tr>\n",
       "      <th>mean</th>\n",
       "      <td>54.366337</td>\n",
       "      <td>0.683168</td>\n",
       "      <td>0.966997</td>\n",
       "      <td>131.623762</td>\n",
       "      <td>246.264026</td>\n",
       "      <td>0.148515</td>\n",
       "      <td>0.528053</td>\n",
       "      <td>149.646865</td>\n",
       "      <td>0.326733</td>\n",
       "      <td>1.039604</td>\n",
       "      <td>0.729373</td>\n",
       "      <td>2.313531</td>\n",
       "      <td>0.544554</td>\n",
       "    </tr>\n",
       "    <tr>\n",
       "      <th>std</th>\n",
       "      <td>9.082101</td>\n",
       "      <td>0.466011</td>\n",
       "      <td>1.032052</td>\n",
       "      <td>17.538143</td>\n",
       "      <td>51.830751</td>\n",
       "      <td>0.356198</td>\n",
       "      <td>0.525860</td>\n",
       "      <td>22.905161</td>\n",
       "      <td>0.469794</td>\n",
       "      <td>1.161075</td>\n",
       "      <td>1.022606</td>\n",
       "      <td>0.612277</td>\n",
       "      <td>0.498835</td>\n",
       "    </tr>\n",
       "    <tr>\n",
       "      <th>min</th>\n",
       "      <td>29.000000</td>\n",
       "      <td>0.000000</td>\n",
       "      <td>0.000000</td>\n",
       "      <td>94.000000</td>\n",
       "      <td>126.000000</td>\n",
       "      <td>0.000000</td>\n",
       "      <td>0.000000</td>\n",
       "      <td>71.000000</td>\n",
       "      <td>0.000000</td>\n",
       "      <td>0.000000</td>\n",
       "      <td>0.000000</td>\n",
       "      <td>0.000000</td>\n",
       "      <td>0.000000</td>\n",
       "    </tr>\n",
       "    <tr>\n",
       "      <th>25%</th>\n",
       "      <td>47.500000</td>\n",
       "      <td>0.000000</td>\n",
       "      <td>0.000000</td>\n",
       "      <td>120.000000</td>\n",
       "      <td>211.000000</td>\n",
       "      <td>0.000000</td>\n",
       "      <td>0.000000</td>\n",
       "      <td>133.500000</td>\n",
       "      <td>0.000000</td>\n",
       "      <td>0.000000</td>\n",
       "      <td>0.000000</td>\n",
       "      <td>2.000000</td>\n",
       "      <td>0.000000</td>\n",
       "    </tr>\n",
       "    <tr>\n",
       "      <th>50%</th>\n",
       "      <td>55.000000</td>\n",
       "      <td>1.000000</td>\n",
       "      <td>1.000000</td>\n",
       "      <td>130.000000</td>\n",
       "      <td>240.000000</td>\n",
       "      <td>0.000000</td>\n",
       "      <td>1.000000</td>\n",
       "      <td>153.000000</td>\n",
       "      <td>0.000000</td>\n",
       "      <td>0.800000</td>\n",
       "      <td>0.000000</td>\n",
       "      <td>2.000000</td>\n",
       "      <td>1.000000</td>\n",
       "    </tr>\n",
       "    <tr>\n",
       "      <th>75%</th>\n",
       "      <td>61.000000</td>\n",
       "      <td>1.000000</td>\n",
       "      <td>2.000000</td>\n",
       "      <td>140.000000</td>\n",
       "      <td>274.500000</td>\n",
       "      <td>0.000000</td>\n",
       "      <td>1.000000</td>\n",
       "      <td>166.000000</td>\n",
       "      <td>1.000000</td>\n",
       "      <td>1.600000</td>\n",
       "      <td>1.000000</td>\n",
       "      <td>3.000000</td>\n",
       "      <td>1.000000</td>\n",
       "    </tr>\n",
       "    <tr>\n",
       "      <th>max</th>\n",
       "      <td>77.000000</td>\n",
       "      <td>1.000000</td>\n",
       "      <td>3.000000</td>\n",
       "      <td>200.000000</td>\n",
       "      <td>564.000000</td>\n",
       "      <td>1.000000</td>\n",
       "      <td>2.000000</td>\n",
       "      <td>202.000000</td>\n",
       "      <td>1.000000</td>\n",
       "      <td>6.200000</td>\n",
       "      <td>4.000000</td>\n",
       "      <td>3.000000</td>\n",
       "      <td>1.000000</td>\n",
       "    </tr>\n",
       "  </tbody>\n",
       "</table>\n",
       "</div>"
      ],
      "text/plain": [
       "            idade        sexo        tipo  pa repouso  colesterol    glicemia  \\\n",
       "count  303.000000  303.000000  303.000000  303.000000  303.000000  303.000000   \n",
       "mean    54.366337    0.683168    0.966997  131.623762  246.264026    0.148515   \n",
       "std      9.082101    0.466011    1.032052   17.538143   51.830751    0.356198   \n",
       "min     29.000000    0.000000    0.000000   94.000000  126.000000    0.000000   \n",
       "25%     47.500000    0.000000    0.000000  120.000000  211.000000    0.000000   \n",
       "50%     55.000000    1.000000    1.000000  130.000000  240.000000    0.000000   \n",
       "75%     61.000000    1.000000    2.000000  140.000000  274.500000    0.000000   \n",
       "max     77.000000    1.000000    3.000000  200.000000  564.000000    1.000000   \n",
       "\n",
       "       ecg repouso      fc max   exercicio     oldpeak       veias  \\\n",
       "count   303.000000  303.000000  303.000000  303.000000  303.000000   \n",
       "mean      0.528053  149.646865    0.326733    1.039604    0.729373   \n",
       "std       0.525860   22.905161    0.469794    1.161075    1.022606   \n",
       "min       0.000000   71.000000    0.000000    0.000000    0.000000   \n",
       "25%       0.000000  133.500000    0.000000    0.000000    0.000000   \n",
       "50%       1.000000  153.000000    0.000000    0.800000    0.000000   \n",
       "75%       1.000000  166.000000    1.000000    1.600000    1.000000   \n",
       "max       2.000000  202.000000    1.000000    6.200000    4.000000   \n",
       "\n",
       "       talessemia      output  \n",
       "count  303.000000  303.000000  \n",
       "mean     2.313531    0.544554  \n",
       "std      0.612277    0.498835  \n",
       "min      0.000000    0.000000  \n",
       "25%      2.000000    0.000000  \n",
       "50%      2.000000    1.000000  \n",
       "75%      3.000000    1.000000  \n",
       "max      3.000000    1.000000  "
      ]
     },
     "execution_count": 11,
     "metadata": {},
     "output_type": "execute_result"
    }
   ],
   "source": [
    "df.describe()"
   ]
  },
  {
   "cell_type": "code",
   "execution_count": 51,
   "id": "1a2fa031",
   "metadata": {
    "ExecuteTime": {
     "end_time": "2022-05-17T01:31:24.785104Z",
     "start_time": "2022-05-17T01:31:22.848007Z"
    }
   },
   "outputs": [
    {
     "data": {
      "text/plain": [
       "<AxesSubplot:>"
      ]
     },
     "execution_count": 51,
     "metadata": {},
     "output_type": "execute_result"
    },
    {
     "data": {
      "image/png": "[encoded data removed]",
      "text/plain": [
       "<Figure size 864x720 with 2 Axes>"
      ]
     },
     "metadata": {
      "needs_background": "light"
     },
     "output_type": "display_data"
    }
   ],
   "source": [
    "plt.figure(figsize=(12,10))\n",
    "sns.heatmap(df.corr(),annot=True,cmap=\"coolwarm\",linewidths=.5) #grafico de correlação das colunas "
   ]
  },
  {
   "cell_type": "code",
   "execution_count": 49,
   "id": "2534f787",
   "metadata": {
    "ExecuteTime": {
     "end_time": "2022-05-17T01:21:22.935973Z",
     "start_time": "2022-05-17T01:21:22.857238Z"
    }
   },
   "outputs": [
    {
     "data": {
      "application/vnd.plotly.v1+json": {
       "config": {
        "linkText": "Export to plot.ly",
        "plotlyServerURL": "https://plot.ly",
        "showLink": false
       },
       "data": [
        {
         "hoverinfo": "label",
         "labels": [
          "Sim",
          "Não"
         ],
         "marker": {
          "line": {
           "color": "black",
           "width": 2
          }
         },
         "pull": [
          0,
          0.1
         ],
         "textfont": {
          "size": 20
         },
         "textinfo": "percent",
         "textposition": "auto",
         "type": "pie",
         "values": [
          165,
          138
         ]
        }
       ],
       "layout": {
        "template": {
         "data": {
          "bar": [
           {
            "error_x": {
             "color": "#2a3f5f"
            },
            "error_y": {
             "color": "#2a3f5f"
            },
            "marker": {
             "line": {
              "color": "white",
              "width": 0.5
             },
             "pattern": {
              "fillmode": "overlay",
              "size": 10,
              "solidity": 0.2
             }
            },
            "type": "bar"
           }
          ],
          "barpolar": [
           {
            "marker": {
             "line": {
              "color": "white",
              "width": 0.5
             },
             "pattern": {
              "fillmode": "overlay",
              "size": 10,
              "solidity": 0.2
             }
            },
            "type": "barpolar"
           }
          ],
          "carpet": [
           {
            "aaxis": {
             "endlinecolor": "#2a3f5f",
             "gridcolor": "#C8D4E3",
             "linecolor": "#C8D4E3",
             "minorgridcolor": "#C8D4E3",
             "startlinecolor": "#2a3f5f"
            },
            "baxis": {
             "endlinecolor": "#2a3f5f",
             "gridcolor": "#C8D4E3",
             "linecolor": "#C8D4E3",
             "minorgridcolor": "#C8D4E3",
             "startlinecolor": "#2a3f5f"
            },
            "type": "carpet"
           }
          ],
          "choropleth": [
           {
            "colorbar": {
             "outlinewidth": 0,
             "ticks": ""
            },
            "type": "choropleth"
           }
          ],
          "contour": [
           {
            "colorbar": {
             "outlinewidth": 0,
             "ticks": ""
            },
            "colorscale": [
             [
              0,
              "#0d0887"
             ],
             [
              0.1111111111111111,
              "#46039f"
             ],
             [
              0.2222222222222222,
              "#7201a8"
             ],
             [
              0.3333333333333333,
              "#9c179e"
             ],
             [
              0.4444444444444444,
              "#bd3786"
             ],
             [
              0.5555555555555556,
              "#d8576b"
             ],
             [
              0.6666666666666666,
              "#ed7953"
             ],
             [
              0.7777777777777778,
              "#fb9f3a"
             ],
             [
              0.8888888888888888,
              "#fdca26"
             ],
             [
              1,
              "#f0f921"
             ]
            ],
            "type": "contour"
           }
          ],
          "contourcarpet": [
           {
            "colorbar": {
             "outlinewidth": 0,
             "ticks": ""
            },
            "type": "contourcarpet"
           }
          ],
          "heatmap": [
           {
            "colorbar": {
             "outlinewidth": 0,
             "ticks": ""
            },
            "colorscale": [
             [
              0,
              "#0d0887"
             ],
             [
              0.1111111111111111,
              "#46039f"
             ],
             [
              0.2222222222222222,
              "#7201a8"
             ],
             [
              0.3333333333333333,
              "#9c179e"
             ],
             [
              0.4444444444444444,
              "#bd3786"
             ],
             [
              0.5555555555555556,
              "#d8576b"
             ],
             [
              0.6666666666666666,
              "#ed7953"
             ],
             [
              0.7777777777777778,
              "#fb9f3a"
             ],
             [
              0.8888888888888888,
              "#fdca26"
             ],
             [
              1,
              "#f0f921"
             ]
            ],
            "type": "heatmap"
           }
          ],
          "heatmapgl": [
           {
            "colorbar": {
             "outlinewidth": 0,
             "ticks": ""
            },
            "colorscale": [
             [
              0,
              "#0d0887"
             ],
             [
              0.1111111111111111,
              "#46039f"
             ],
             [
              0.2222222222222222,
              "#7201a8"
             ],
             [
              0.3333333333333333,
              "#9c179e"
             ],
             [
              0.4444444444444444,
              "#bd3786"
             ],
             [
              0.5555555555555556,
              "#d8576b"
             ],
             [
              0.6666666666666666,
              "#ed7953"
             ],
             [
              0.7777777777777778,
              "#fb9f3a"
             ],
             [
              0.8888888888888888,
              "#fdca26"
             ],
             [
              1,
              "#f0f921"
             ]
            ],
            "type": "heatmapgl"
           }
          ],
          "histogram": [
           {
            "marker": {
             "pattern": {
              "fillmode": "overlay",
              "size": 10,
              "solidity": 0.2
             }
            },
            "type": "histogram"
           }
          ],
          "histogram2d": [
           {
            "colorbar": {
             "outlinewidth": 0,
             "ticks": ""
            },
            "colorscale": [
             [
              0,
              "#0d0887"
             ],
             [
              0.1111111111111111,
              "#46039f"
             ],
             [
              0.2222222222222222,
              "#7201a8"
             ],
             [
              0.3333333333333333,
              "#9c179e"
             ],
             [
              0.4444444444444444,
              "#bd3786"
             ],
             [
              0.5555555555555556,
              "#d8576b"
             ],
             [
              0.6666666666666666,
              "#ed7953"
             ],
             [
              0.7777777777777778,
              "#fb9f3a"
             ],
             [
              0.8888888888888888,
              "#fdca26"
             ],
             [
              1,
              "#f0f921"
             ]
            ],
            "type": "histogram2d"
           }
          ],
          "histogram2dcontour": [
           {
            "colorbar": {
             "outlinewidth": 0,
             "ticks": ""
            },
            "colorscale": [
             [
              0,
              "#0d0887"
             ],
             [
              0.1111111111111111,
              "#46039f"
             ],
             [
              0.2222222222222222,
              "#7201a8"
             ],
             [
              0.3333333333333333,
              "#9c179e"
             ],
             [
              0.4444444444444444,
              "#bd3786"
             ],
             [
              0.5555555555555556,
              "#d8576b"
             ],
             [
              0.6666666666666666,
              "#ed7953"
             ],
             [
              0.7777777777777778,
              "#fb9f3a"
             ],
             [
              0.8888888888888888,
              "#fdca26"
             ],
             [
              1,
              "#f0f921"
             ]
            ],
            "type": "histogram2dcontour"
           }
          ],
          "mesh3d": [
           {
            "colorbar": {
             "outlinewidth": 0,
             "ticks": ""
            },
            "type": "mesh3d"
           }
          ],
          "parcoords": [
           {
            "line": {
             "colorbar": {
              "outlinewidth": 0,
              "ticks": ""
             }
            },
            "type": "parcoords"
           }
          ],
          "pie": [
           {
            "automargin": true,
            "type": "pie"
           }
          ],
          "scatter": [
           {
            "fillpattern": {
             "fillmode": "overlay",
             "size": 10,
             "solidity": 0.2
            },
            "type": "scatter"
           }
          ],
          "scatter3d": [
           {
            "line": {
             "colorbar": {
              "outlinewidth": 0,
              "ticks": ""
             }
            },
            "marker": {
             "colorbar": {
              "outlinewidth": 0,
              "ticks": ""
             }
            },
            "type": "scatter3d"
           }
          ],
          "scattercarpet": [
           {
            "marker": {
             "colorbar": {
              "outlinewidth": 0,
              "ticks": ""
             }
            },
            "type": "scattercarpet"
           }
          ],
          "scattergeo": [
           {
            "marker": {
             "colorbar": {
              "outlinewidth": 0,
              "ticks": ""
             }
            },
            "type": "scattergeo"
           }
          ],
          "scattergl": [
           {
            "marker": {
             "colorbar": {
              "outlinewidth": 0,
              "ticks": ""
             }
            },
            "type": "scattergl"
           }
          ],
          "scattermapbox": [
           {
            "marker": {
             "colorbar": {
              "outlinewidth": 0,
              "ticks": ""
             }
            },
            "type": "scattermapbox"
           }
          ],
          "scatterpolar": [
           {
            "marker": {
             "colorbar": {
              "outlinewidth": 0,
              "ticks": ""
             }
            },
            "type": "scatterpolar"
           }
          ],
          "scatterpolargl": [
           {
            "marker": {
             "colorbar": {
              "outlinewidth": 0,
              "ticks": ""
             }
            },
            "type": "scatterpolargl"
           }
          ],
          "scatterternary": [
           {
            "marker": {
             "colorbar": {
              "outlinewidth": 0,
              "ticks": ""
             }
            },
            "type": "scatterternary"
           }
          ],
          "surface": [
           {
            "colorbar": {
             "outlinewidth": 0,
             "ticks": ""
            },
            "colorscale": [
             [
              0,
              "#0d0887"
             ],
             [
              0.1111111111111111,
              "#46039f"
             ],
             [
              0.2222222222222222,
              "#7201a8"
             ],
             [
              0.3333333333333333,
              "#9c179e"
             ],
             [
              0.4444444444444444,
              "#bd3786"
             ],
             [
              0.5555555555555556,
              "#d8576b"
             ],
             [
              0.6666666666666666,
              "#ed7953"
             ],
             [
              0.7777777777777778,
              "#fb9f3a"
             ],
             [
              0.8888888888888888,
              "#fdca26"
             ],
             [
              1,
              "#f0f921"
             ]
            ],
            "type": "surface"
           }
          ],
          "table": [
           {
            "cells": {
             "fill": {
              "color": "#EBF0F8"
             },
             "line": {
              "color": "white"
             }
            },
            "header": {
             "fill": {
              "color": "#C8D4E3"
             },
             "line": {
              "color": "white"
             }
            },
            "type": "table"
           }
          ]
         },
         "layout": {
          "annotationdefaults": {
           "arrowcolor": "#2a3f5f",
           "arrowhead": 0,
           "arrowwidth": 1
          },
          "autotypenumbers": "strict",
          "coloraxis": {
           "colorbar": {
            "outlinewidth": 0,
            "ticks": ""
           }
          },
          "colorscale": {
           "diverging": [
            [
             0,
             "#8e0152"
            ],
            [
             0.1,
             "#c51b7d"
            ],
            [
             0.2,
             "#de77ae"
            ],
            [
             0.3,
             "#f1b6da"
            ],
            [
             0.4,
             "#fde0ef"
            ],
            [
             0.5,
             "#f7f7f7"
            ],
            [
             0.6,
             "#e6f5d0"
            ],
            [
             0.7,
             "#b8e186"
            ],
            [
             0.8,
             "#7fbc41"
            ],
            [
             0.9,
             "#4d9221"
            ],
            [
             1,
             "#276419"
            ]
           ],
           "sequential": [
            [
             0,
             "#0d0887"
            ],
            [
             0.1111111111111111,
             "#46039f"
            ],
            [
             0.2222222222222222,
             "#7201a8"
            ],
            [
             0.3333333333333333,
             "#9c179e"
            ],
            [
             0.4444444444444444,
             "#bd3786"
            ],
            [
             0.5555555555555556,
             "#d8576b"
            ],
            [
             0.6666666666666666,
             "#ed7953"
            ],
            [
             0.7777777777777778,
             "#fb9f3a"
            ],
            [
             0.8888888888888888,
             "#fdca26"
            ],
            [
             1,
             "#f0f921"
            ]
           ],
           "sequentialminus": [
            [
             0,
             "#0d0887"
            ],
            [
             0.1111111111111111,
             "#46039f"
            ],
            [
             0.2222222222222222,
             "#7201a8"
            ],
            [
             0.3333333333333333,
             "#9c179e"
            ],
            [
             0.4444444444444444,
             "#bd3786"
            ],
            [
             0.5555555555555556,
             "#d8576b"
            ],
            [
             0.6666666666666666,
             "#ed7953"
            ],
            [
             0.7777777777777778,
             "#fb9f3a"
            ],
            [
             0.8888888888888888,
             "#fdca26"
            ],
            [
             1,
             "#f0f921"
            ]
           ]
          },
          "colorway": [
           "#636efa",
           "#EF553B",
           "#00cc96",
           "#ab63fa",
           "#FFA15A",
           "#19d3f3",
           "#FF6692",
           "#B6E880",
           "#FF97FF",
           "#FECB52"
          ],
          "font": {
           "color": "#2a3f5f"
          },
          "geo": {
           "bgcolor": "white",
           "lakecolor": "white",
           "landcolor": "white",
           "showlakes": true,
           "showland": true,
           "subunitcolor": "#C8D4E3"
          },
          "hoverlabel": {
           "align": "left"
          },
          "hovermode": "closest",
          "mapbox": {
           "style": "light"
          },
          "paper_bgcolor": "white",
          "plot_bgcolor": "white",
          "polar": {
           "angularaxis": {
            "gridcolor": "#EBF0F8",
            "linecolor": "#EBF0F8",
            "ticks": ""
           },
           "bgcolor": "white",
           "radialaxis": {
            "gridcolor": "#EBF0F8",
            "linecolor": "#EBF0F8",
            "ticks": ""
           }
          },
          "scene": {
           "xaxis": {
            "backgroundcolor": "white",
            "gridcolor": "#DFE8F3",
            "gridwidth": 2,
            "linecolor": "#EBF0F8",
            "showbackground": true,
            "ticks": "",
            "zerolinecolor": "#EBF0F8"
           },
           "yaxis": {
            "backgroundcolor": "white",
            "gridcolor": "#DFE8F3",
            "gridwidth": 2,
            "linecolor": "#EBF0F8",
            "showbackground": true,
            "ticks": "",
            "zerolinecolor": "#EBF0F8"
           },
           "zaxis": {
            "backgroundcolor": "white",
            "gridcolor": "#DFE8F3",
            "gridwidth": 2,
            "linecolor": "#EBF0F8",
            "showbackground": true,
            "ticks": "",
            "zerolinecolor": "#EBF0F8"
           }
          },
          "shapedefaults": {
           "line": {
            "color": "#2a3f5f"
           }
          },
          "ternary": {
           "aaxis": {
            "gridcolor": "#DFE8F3",
            "linecolor": "#A2B1C6",
            "ticks": ""
           },
           "baxis": {
            "gridcolor": "#DFE8F3",
            "linecolor": "#A2B1C6",
            "ticks": ""
           },
           "bgcolor": "white",
           "caxis": {
            "gridcolor": "#DFE8F3",
            "linecolor": "#A2B1C6",
            "ticks": ""
           }
          },
          "title": {
           "x": 0.05
          },
          "xaxis": {
           "automargin": true,
           "gridcolor": "#EBF0F8",
           "linecolor": "#EBF0F8",
           "ticks": "",
           "title": {
            "standoff": 15
           },
           "zerolinecolor": "#EBF0F8",
           "zerolinewidth": 2
          },
          "yaxis": {
           "automargin": true,
           "gridcolor": "#EBF0F8",
           "linecolor": "#EBF0F8",
           "ticks": "",
           "title": {
            "standoff": 15
           },
           "zerolinecolor": "#EBF0F8",
           "zerolinewidth": 2
          }
         }
        },
        "title": {
         "text": "Ataque cardiaco",
         "x": 0.5,
         "xanchor": "center",
         "y": 0.9,
         "yanchor": "top"
        },
        "xaxis": {
         "title": {
          "text": "idade"
         }
        },
        "yaxis": {
         "title": {
          "text": "fc max"
         }
        }
       }
      },
      "text/html": [
       "<div>                            <div id=\"84b25251-f323-41a9-bc4c-f16dd07ce6d5\" class=\"plotly-graph-div\" style=\"height:525px; width:100%;\"></div>            <script type=\"text/javascript\">                require([\"plotly\"], function(Plotly) {                    window.PLOTLYENV=window.PLOTLYENV || {};                                    if (document.getElementById(\"84b25251-f323-41a9-bc4c-f16dd07ce6d5\")) {                    Plotly.newPlot(                        \"84b25251-f323-41a9-bc4c-f16dd07ce6d5\",                        [{\"hoverinfo\":\"label\",\"labels\":[\"Sim\",\"N\\u00e3o\"],\"marker\":{\"line\":{\"color\":\"black\",\"width\":2}},\"pull\":[0,0.1],\"textfont\":{\"size\":20},\"textinfo\":\"percent\",\"textposition\":\"auto\",\"values\":[165,138],\"type\":\"pie\"}],                        {\"template\":{\"data\":{\"barpolar\":[{\"marker\":{\"line\":{\"color\":\"white\",\"width\":0.5},\"pattern\":{\"fillmode\":\"overlay\",\"size\":10,\"solidity\":0.2}},\"type\":\"barpolar\"}],\"bar\":[{\"error_x\":{\"color\":\"#2a3f5f\"},\"error_y\":{\"color\":\"#2a3f5f\"},\"marker\":{\"line\":{\"color\":\"white\",\"width\":0.5},\"pattern\":{\"fillmode\":\"overlay\",\"size\":10,\"solidity\":0.2}},\"type\":\"bar\"}],\"carpet\":[{\"aaxis\":{\"endlinecolor\":\"#2a3f5f\",\"gridcolor\":\"#C8D4E3\",\"linecolor\":\"#C8D4E3\",\"minorgridcolor\":\"#C8D4E3\",\"startlinecolor\":\"#2a3f5f\"},\"baxis\":{\"endlinecolor\":\"#2a3f5f\",\"gridcolor\":\"#C8D4E3\",\"linecolor\":\"#C8D4E3\",\"minorgridcolor\":\"#C8D4E3\",\"startlinecolor\":\"#2a3f5f\"},\"type\":\"carpet\"}],\"choropleth\":[{\"colorbar\":{\"outlinewidth\":0,\"ticks\":\"\"},\"type\":\"choropleth\"}],\"contourcarpet\":[{\"colorbar\":{\"outlinewidth\":0,\"ticks\":\"\"},\"type\":\"contourcarpet\"}],\"contour\":[{\"colorbar\":{\"outlinewidth\":0,\"ticks\":\"\"},\"colorscale\":[[0.0,\"#0d0887\"],[0.1111111111111111,\"#46039f\"],[0.2222222222222222,\"#7201a8\"],[0.3333333333333333,\"#9c179e\"],[0.4444444444444444,\"#bd3786\"],[0.5555555555555556,\"#d8576b\"],[0.6666666666666666,\"#ed7953\"],[0.7777777777777778,\"#fb9f3a\"],[0.8888888888888888,\"#fdca26\"],[1.0,\"#f0f921\"]],\"type\":\"contour\"}],\"heatmapgl\":[{\"colorbar\":{\"outlinewidth\":0,\"ticks\":\"\"},\"colorscale\":[[0.0,\"#0d0887\"],[0.1111111111111111,\"#46039f\"],[0.2222222222222222,\"#7201a8\"],[0.3333333333333333,\"#9c179e\"],[0.4444444444444444,\"#bd3786\"],[0.5555555555555556,\"#d8576b\"],[0.6666666666666666,\"#ed7953\"],[0.7777777777777778,\"#fb9f3a\"],[0.8888888888888888,\"#fdca26\"],[1.0,\"#f0f921\"]],\"type\":\"heatmapgl\"}],\"heatmap\":[{\"colorbar\":{\"outlinewidth\":0,\"ticks\":\"\"},\"colorscale\":[[0.0,\"#0d0887\"],[0.1111111111111111,\"#46039f\"],[0.2222222222222222,\"#7201a8\"],[0.3333333333333333,\"#9c179e\"],[0.4444444444444444,\"#bd3786\"],[0.5555555555555556,\"#d8576b\"],[0.6666666666666666,\"#ed7953\"],[0.7777777777777778,\"#fb9f3a\"],[0.8888888888888888,\"#fdca26\"],[1.0,\"#f0f921\"]],\"type\":\"heatmap\"}],\"histogram2dcontour\":[{\"colorbar\":{\"outlinewidth\":0,\"ticks\":\"\"},\"colorscale\":[[0.0,\"#0d0887\"],[0.1111111111111111,\"#46039f\"],[0.2222222222222222,\"#7201a8\"],[0.3333333333333333,\"#9c179e\"],[0.4444444444444444,\"#bd3786\"],[0.5555555555555556,\"#d8576b\"],[0.6666666666666666,\"#ed7953\"],[0.7777777777777778,\"#fb9f3a\"],[0.8888888888888888,\"#fdca26\"],[1.0,\"#f0f921\"]],\"type\":\"histogram2dcontour\"}],\"histogram2d\":[{\"colorbar\":{\"outlinewidth\":0,\"ticks\":\"\"},\"colorscale\":[[0.0,\"#0d0887\"],[0.1111111111111111,\"#46039f\"],[0.2222222222222222,\"#7201a8\"],[0.3333333333333333,\"#9c179e\"],[0.4444444444444444,\"#bd3786\"],[0.5555555555555556,\"#d8576b\"],[0.6666666666666666,\"#ed7953\"],[0.7777777777777778,\"#fb9f3a\"],[0.8888888888888888,\"#fdca26\"],[1.0,\"#f0f921\"]],\"type\":\"histogram2d\"}],\"histogram\":[{\"marker\":{\"pattern\":{\"fillmode\":\"overlay\",\"size\":10,\"solidity\":0.2}},\"type\":\"histogram\"}],\"mesh3d\":[{\"colorbar\":{\"outlinewidth\":0,\"ticks\":\"\"},\"type\":\"mesh3d\"}],\"parcoords\":[{\"line\":{\"colorbar\":{\"outlinewidth\":0,\"ticks\":\"\"}},\"type\":\"parcoords\"}],\"pie\":[{\"automargin\":true,\"type\":\"pie\"}],\"scatter3d\":[{\"line\":{\"colorbar\":{\"outlinewidth\":0,\"ticks\":\"\"}},\"marker\":{\"colorbar\":{\"outlinewidth\":0,\"ticks\":\"\"}},\"type\":\"scatter3d\"}],\"scattercarpet\":[{\"marker\":{\"colorbar\":{\"outlinewidth\":0,\"ticks\":\"\"}},\"type\":\"scattercarpet\"}],\"scattergeo\":[{\"marker\":{\"colorbar\":{\"outlinewidth\":0,\"ticks\":\"\"}},\"type\":\"scattergeo\"}],\"scattergl\":[{\"marker\":{\"colorbar\":{\"outlinewidth\":0,\"ticks\":\"\"}},\"type\":\"scattergl\"}],\"scattermapbox\":[{\"marker\":{\"colorbar\":{\"outlinewidth\":0,\"ticks\":\"\"}},\"type\":\"scattermapbox\"}],\"scatterpolargl\":[{\"marker\":{\"colorbar\":{\"outlinewidth\":0,\"ticks\":\"\"}},\"type\":\"scatterpolargl\"}],\"scatterpolar\":[{\"marker\":{\"colorbar\":{\"outlinewidth\":0,\"ticks\":\"\"}},\"type\":\"scatterpolar\"}],\"scatter\":[{\"fillpattern\":{\"fillmode\":\"overlay\",\"size\":10,\"solidity\":0.2},\"type\":\"scatter\"}],\"scatterternary\":[{\"marker\":{\"colorbar\":{\"outlinewidth\":0,\"ticks\":\"\"}},\"type\":\"scatterternary\"}],\"surface\":[{\"colorbar\":{\"outlinewidth\":0,\"ticks\":\"\"},\"colorscale\":[[0.0,\"#0d0887\"],[0.1111111111111111,\"#46039f\"],[0.2222222222222222,\"#7201a8\"],[0.3333333333333333,\"#9c179e\"],[0.4444444444444444,\"#bd3786\"],[0.5555555555555556,\"#d8576b\"],[0.6666666666666666,\"#ed7953\"],[0.7777777777777778,\"#fb9f3a\"],[0.8888888888888888,\"#fdca26\"],[1.0,\"#f0f921\"]],\"type\":\"surface\"}],\"table\":[{\"cells\":{\"fill\":{\"color\":\"#EBF0F8\"},\"line\":{\"color\":\"white\"}},\"header\":{\"fill\":{\"color\":\"#C8D4E3\"},\"line\":{\"color\":\"white\"}},\"type\":\"table\"}]},\"layout\":{\"annotationdefaults\":{\"arrowcolor\":\"#2a3f5f\",\"arrowhead\":0,\"arrowwidth\":1},\"autotypenumbers\":\"strict\",\"coloraxis\":{\"colorbar\":{\"outlinewidth\":0,\"ticks\":\"\"}},\"colorscale\":{\"diverging\":[[0,\"#8e0152\"],[0.1,\"#c51b7d\"],[0.2,\"#de77ae\"],[0.3,\"#f1b6da\"],[0.4,\"#fde0ef\"],[0.5,\"#f7f7f7\"],[0.6,\"#e6f5d0\"],[0.7,\"#b8e186\"],[0.8,\"#7fbc41\"],[0.9,\"#4d9221\"],[1,\"#276419\"]],\"sequential\":[[0.0,\"#0d0887\"],[0.1111111111111111,\"#46039f\"],[0.2222222222222222,\"#7201a8\"],[0.3333333333333333,\"#9c179e\"],[0.4444444444444444,\"#bd3786\"],[0.5555555555555556,\"#d8576b\"],[0.6666666666666666,\"#ed7953\"],[0.7777777777777778,\"#fb9f3a\"],[0.8888888888888888,\"#fdca26\"],[1.0,\"#f0f921\"]],\"sequentialminus\":[[0.0,\"#0d0887\"],[0.1111111111111111,\"#46039f\"],[0.2222222222222222,\"#7201a8\"],[0.3333333333333333,\"#9c179e\"],[0.4444444444444444,\"#bd3786\"],[0.5555555555555556,\"#d8576b\"],[0.6666666666666666,\"#ed7953\"],[0.7777777777777778,\"#fb9f3a\"],[0.8888888888888888,\"#fdca26\"],[1.0,\"#f0f921\"]]},\"colorway\":[\"#636efa\",\"#EF553B\",\"#00cc96\",\"#ab63fa\",\"#FFA15A\",\"#19d3f3\",\"#FF6692\",\"#B6E880\",\"#FF97FF\",\"#FECB52\"],\"font\":{\"color\":\"#2a3f5f\"},\"geo\":{\"bgcolor\":\"white\",\"lakecolor\":\"white\",\"landcolor\":\"white\",\"showlakes\":true,\"showland\":true,\"subunitcolor\":\"#C8D4E3\"},\"hoverlabel\":{\"align\":\"left\"},\"hovermode\":\"closest\",\"mapbox\":{\"style\":\"light\"},\"paper_bgcolor\":\"white\",\"plot_bgcolor\":\"white\",\"polar\":{\"angularaxis\":{\"gridcolor\":\"#EBF0F8\",\"linecolor\":\"#EBF0F8\",\"ticks\":\"\"},\"bgcolor\":\"white\",\"radialaxis\":{\"gridcolor\":\"#EBF0F8\",\"linecolor\":\"#EBF0F8\",\"ticks\":\"\"}},\"scene\":{\"xaxis\":{\"backgroundcolor\":\"white\",\"gridcolor\":\"#DFE8F3\",\"gridwidth\":2,\"linecolor\":\"#EBF0F8\",\"showbackground\":true,\"ticks\":\"\",\"zerolinecolor\":\"#EBF0F8\"},\"yaxis\":{\"backgroundcolor\":\"white\",\"gridcolor\":\"#DFE8F3\",\"gridwidth\":2,\"linecolor\":\"#EBF0F8\",\"showbackground\":true,\"ticks\":\"\",\"zerolinecolor\":\"#EBF0F8\"},\"zaxis\":{\"backgroundcolor\":\"white\",\"gridcolor\":\"#DFE8F3\",\"gridwidth\":2,\"linecolor\":\"#EBF0F8\",\"showbackground\":true,\"ticks\":\"\",\"zerolinecolor\":\"#EBF0F8\"}},\"shapedefaults\":{\"line\":{\"color\":\"#2a3f5f\"}},\"ternary\":{\"aaxis\":{\"gridcolor\":\"#DFE8F3\",\"linecolor\":\"#A2B1C6\",\"ticks\":\"\"},\"baxis\":{\"gridcolor\":\"#DFE8F3\",\"linecolor\":\"#A2B1C6\",\"ticks\":\"\"},\"bgcolor\":\"white\",\"caxis\":{\"gridcolor\":\"#DFE8F3\",\"linecolor\":\"#A2B1C6\",\"ticks\":\"\"}},\"title\":{\"x\":0.05},\"xaxis\":{\"automargin\":true,\"gridcolor\":\"#EBF0F8\",\"linecolor\":\"#EBF0F8\",\"ticks\":\"\",\"title\":{\"standoff\":15},\"zerolinecolor\":\"#EBF0F8\",\"zerolinewidth\":2},\"yaxis\":{\"automargin\":true,\"gridcolor\":\"#EBF0F8\",\"linecolor\":\"#EBF0F8\",\"ticks\":\"\",\"title\":{\"standoff\":15},\"zerolinecolor\":\"#EBF0F8\",\"zerolinewidth\":2}}},\"title\":{\"text\":\"Ataque cardiaco\",\"x\":0.5,\"xanchor\":\"center\",\"y\":0.9,\"yanchor\":\"top\"},\"xaxis\":{\"title\":{\"text\":\"idade\"}},\"yaxis\":{\"title\":{\"text\":\"fc max\"}}},                        {\"responsive\": true}                    ).then(function(){\n",
       "                            \n",
       "var gd = document.getElementById('84b25251-f323-41a9-bc4c-f16dd07ce6d5');\n",
       "var x = new MutationObserver(function (mutations, observer) {{\n",
       "        var display = window.getComputedStyle(gd).display;\n",
       "        if (!display || display === 'none') {{\n",
       "            console.log([gd, 'removed!']);\n",
       "            Plotly.purge(gd);\n",
       "            observer.disconnect();\n",
       "        }}\n",
       "}});\n",
       "\n",
       "// Listen for the removal of the full notebook cells\n",
       "var notebookContainer = gd.closest('#notebook-container');\n",
       "if (notebookContainer) {{\n",
       "    x.observe(notebookContainer, {childList: true});\n",
       "}}\n",
       "\n",
       "// Listen for the clearing of the current output cell\n",
       "var outputEl = gd.closest('.output');\n",
       "if (outputEl) {{\n",
       "    x.observe(outputEl, {childList: true});\n",
       "}}\n",
       "\n",
       "                        })                };                });            </script>        </div>"
      ]
     },
     "metadata": {},
     "output_type": "display_data"
    }
   ],
   "source": [
    "fig = go.Figure(data=[go.Pie(labels=['Sim','Não'],\n",
    "                             values=df['output'].value_counts()[0:5].values,\n",
    "                             pull=[0, 0.1])])\n",
    "\n",
    "fig.update_traces(hoverinfo='label', textinfo='percent', textfont_size=20,textposition ='auto',\n",
    "                  marker=dict(line=dict(color='black', width=2)))\n",
    "\n",
    "fig.update_layout(title=dict(text='Ataque cardiaco',\n",
    "                               y=0.9,x=0.5,xanchor= 'center',yanchor= 'top'),\n",
    "                               xaxis = dict(title='idade'),\n",
    "                               yaxis =dict(title='fc max'),template='plotly_white')\n",
    "\n",
    "iplot(fig)"
   ]
  },
  {
   "cell_type": "code",
   "execution_count": 13,
   "id": "e5533740",
   "metadata": {
    "ExecuteTime": {
     "end_time": "2022-05-17T01:08:07.939946Z",
     "start_time": "2022-05-17T01:08:07.620255Z"
    }
   },
   "outputs": [
    {
     "data": {
      "image/png": "[encoded data removed]",
      "text/plain": [
       "<Figure size 432x288 with 1 Axes>"
      ]
     },
     "metadata": {},
     "output_type": "display_data"
    }
   ],
   "source": [
    "# Definindo a quantidade\n",
    "labels = ['Menor que 120mg/dl','Maior que 120mg/dl' ]\n",
    "num = len(df.output.value_counts().index)\n",
    "# Criando a lista de cores\n",
    "listaHSV = [(x*1.0/num, 0.5, 0.5) for x in range(num)]\n",
    "listaRGB = list(map(lambda x: colorsys.hsv_to_rgb(*x), listaHSV))\n",
    "# Gráfico de Pizza\n",
    "fatias, texto = plt.pie(df.glicemia.value_counts(), colors = listaRGB, startangle = 90)\n",
    "plt.legend(fatias, labels, bbox_to_anchor = (1.05,1))\n",
    "plt.title(\"Glicemia\")\n",
    "plt.show()"
   ]
  },
  {
   "cell_type": "code",
   "execution_count": 13,
   "id": "1fa9ac5c",
   "metadata": {
    "ExecuteTime": {
     "end_time": "2022-05-17T00:01:24.979643Z",
     "start_time": "2022-05-17T00:01:24.727507Z"
    }
   },
   "outputs": [
    {
     "data": {
      "image/png": "[encoded data removed]",
      "text/plain": [
       "<Figure size 432x288 with 1 Axes>"
      ]
     },
     "metadata": {},
     "output_type": "display_data"
    }
   ],
   "source": [
    "# Definindo a quantidade\n",
    "labels = ['Masculino','Feminino']\n",
    "num = len(df.output.value_counts().index)\n",
    "# Criando a lista de cores\n",
    "listaHSV = [(x*1.0/num, 0.5, 0.5) for x in range(num)]\n",
    "listaRGB = list(map(lambda x: colorsys.hsv_to_rgb(*x), listaHSV))\n",
    "# Gráfico de Pizza\n",
    "fatias, texto = plt.pie(df.sexo.value_counts(), colors = listaRGB, startangle = 90)\n",
    "plt.legend(fatias, labels, bbox_to_anchor = (1.05,1))\n",
    "plt.title(\"Incidência por sexo\")\n",
    "plt.show()"
   ]
  },
  {
   "cell_type": "code",
   "execution_count": 55,
   "id": "9974a795",
   "metadata": {
    "ExecuteTime": {
     "end_time": "2022-05-17T01:35:13.060404Z",
     "start_time": "2022-05-17T01:35:12.431240Z"
    }
   },
   "outputs": [
    {
     "data": {
      "text/plain": [
       "<seaborn.axisgrid.FacetGrid at 0x2f4fa8fad90>"
      ]
     },
     "execution_count": 55,
     "metadata": {},
     "output_type": "execute_result"
    },
    {
     "data": {
      "image/png": "[encoded data removed]",
      "text/plain": [
       "<Figure size 432x216 with 2 Axes>"
      ]
     },
     "metadata": {
      "needs_background": "light"
     },
     "output_type": "display_data"
    }
   ],
   "source": [
    "a = sns.FacetGrid(data=df, col='output')\n",
    "a.map(plt.hist,'exercicio') #a relevancia dos exercicios é baixa"
   ]
  },
  {
   "cell_type": "code",
   "execution_count": 15,
   "id": "64a82dc5",
   "metadata": {
    "ExecuteTime": {
     "end_time": "2022-05-17T01:08:24.034115Z",
     "start_time": "2022-05-17T01:08:23.770048Z"
    }
   },
   "outputs": [
    {
     "data": {
      "text/plain": [
       "<AxesSubplot:xlabel='tipo', ylabel='count'>"
      ]
     },
     "execution_count": 15,
     "metadata": {},
     "output_type": "execute_result"
    },
    {
     "data": {
      "image/png": "[encoded data removed]",
      "text/plain": [
       "<Figure size 432x288 with 1 Axes>"
      ]
     },
     "metadata": {
      "needs_background": "light"
     },
     "output_type": "display_data"
    }
   ],
   "source": [
    "sns.countplot(df['tipo'],hue=df['output']) #a maior parte dos ataques cardiacos foram assintomaticos"
   ]
  },
  {
   "cell_type": "code",
   "execution_count": 71,
   "id": "a9587d76",
   "metadata": {
    "ExecuteTime": {
     "end_time": "2022-05-17T01:47:08.127340Z",
     "start_time": "2022-05-17T01:47:07.545530Z"
    }
   },
   "outputs": [
    {
     "data": {
      "text/plain": [
       "<seaborn.axisgrid.FacetGrid at 0x2f484b90fa0>"
      ]
     },
     "execution_count": 71,
     "metadata": {},
     "output_type": "execute_result"
    },
    {
     "data": {
      "image/png": "[encoded data removed]",
      "text/plain": [
       "<Figure size 594.05x360 with 1 Axes>"
      ]
     },
     "metadata": {
      "needs_background": "light"
     },
     "output_type": "display_data"
    }
   ],
   "source": [
    "sns.displot(df, x='colesterol', hue='output', kind=\"kde\",fill=True, palette='inferno', aspect=1.5)"
   ]
  },
  {
   "cell_type": "markdown",
   "id": "fb383a98",
   "metadata": {},
   "source": [
    "## Modelagem"
   ]
  },
  {
   "cell_type": "code",
   "execution_count": 16,
   "id": "bc1744d0",
   "metadata": {
    "ExecuteTime": {
     "end_time": "2022-05-17T01:08:28.815105Z",
     "start_time": "2022-05-17T01:08:28.800868Z"
    }
   },
   "outputs": [],
   "source": [
    "#X = df.drop('output', axis=1)\n",
    "#y = df['output']#"
   ]
  },
  {
   "cell_type": "code",
   "execution_count": 22,
   "id": "521d9f5d",
   "metadata": {
    "ExecuteTime": {
     "end_time": "2022-05-17T01:10:47.834650Z",
     "start_time": "2022-05-17T01:10:47.821507Z"
    }
   },
   "outputs": [],
   "source": [
    "data_train,data_test = train_test_split(df, test_size = 0.2)"
   ]
  },
  {
   "cell_type": "code",
   "execution_count": 34,
   "id": "1e66a50d",
   "metadata": {
    "ExecuteTime": {
     "end_time": "2022-05-17T01:13:18.498934Z",
     "start_time": "2022-05-17T01:13:16.143661Z"
    }
   },
   "outputs": [
    {
     "data": {
      "text/html": [
       "<style type=\"text/css\">\n",
       "#T_3fa08_row44_col1 {\n",
       "  background-color: lightgreen;\n",
       "}\n",
       "</style>\n",
       "<table id=\"T_3fa08\">\n",
       "  <thead>\n",
       "    <tr>\n",
       "      <th class=\"blank level0\" >&nbsp;</th>\n",
       "      <th id=\"T_3fa08_level0_col0\" class=\"col_heading level0 col0\" >Description</th>\n",
       "      <th id=\"T_3fa08_level0_col1\" class=\"col_heading level0 col1\" >Value</th>\n",
       "    </tr>\n",
       "  </thead>\n",
       "  <tbody>\n",
       "    <tr>\n",
       "      <th id=\"T_3fa08_level0_row0\" class=\"row_heading level0 row0\" >0</th>\n",
       "      <td id=\"T_3fa08_row0_col0\" class=\"data row0 col0\" >session_id</td>\n",
       "      <td id=\"T_3fa08_row0_col1\" class=\"data row0 col1\" >42</td>\n",
       "    </tr>\n",
       "    <tr>\n",
       "      <th id=\"T_3fa08_level0_row1\" class=\"row_heading level0 row1\" >1</th>\n",
       "      <td id=\"T_3fa08_row1_col0\" class=\"data row1 col0\" >Target</td>\n",
       "      <td id=\"T_3fa08_row1_col1\" class=\"data row1 col1\" >output</td>\n",
       "    </tr>\n",
       "    <tr>\n",
       "      <th id=\"T_3fa08_level0_row2\" class=\"row_heading level0 row2\" >2</th>\n",
       "      <td id=\"T_3fa08_row2_col0\" class=\"data row2 col0\" >Target Type</td>\n",
       "      <td id=\"T_3fa08_row2_col1\" class=\"data row2 col1\" >Binary</td>\n",
       "    </tr>\n",
       "    <tr>\n",
       "      <th id=\"T_3fa08_level0_row3\" class=\"row_heading level0 row3\" >3</th>\n",
       "      <td id=\"T_3fa08_row3_col0\" class=\"data row3 col0\" >Label Encoded</td>\n",
       "      <td id=\"T_3fa08_row3_col1\" class=\"data row3 col1\" >None</td>\n",
       "    </tr>\n",
       "    <tr>\n",
       "      <th id=\"T_3fa08_level0_row4\" class=\"row_heading level0 row4\" >4</th>\n",
       "      <td id=\"T_3fa08_row4_col0\" class=\"data row4 col0\" >Original Data</td>\n",
       "      <td id=\"T_3fa08_row4_col1\" class=\"data row4 col1\" >(242, 13)</td>\n",
       "    </tr>\n",
       "    <tr>\n",
       "      <th id=\"T_3fa08_level0_row5\" class=\"row_heading level0 row5\" >5</th>\n",
       "      <td id=\"T_3fa08_row5_col0\" class=\"data row5 col0\" >Missing Values</td>\n",
       "      <td id=\"T_3fa08_row5_col1\" class=\"data row5 col1\" >False</td>\n",
       "    </tr>\n",
       "    <tr>\n",
       "      <th id=\"T_3fa08_level0_row6\" class=\"row_heading level0 row6\" >6</th>\n",
       "      <td id=\"T_3fa08_row6_col0\" class=\"data row6 col0\" >Numeric Features</td>\n",
       "      <td id=\"T_3fa08_row6_col1\" class=\"data row6 col1\" >5</td>\n",
       "    </tr>\n",
       "    <tr>\n",
       "      <th id=\"T_3fa08_level0_row7\" class=\"row_heading level0 row7\" >7</th>\n",
       "      <td id=\"T_3fa08_row7_col0\" class=\"data row7 col0\" >Categorical Features</td>\n",
       "      <td id=\"T_3fa08_row7_col1\" class=\"data row7 col1\" >7</td>\n",
       "    </tr>\n",
       "    <tr>\n",
       "      <th id=\"T_3fa08_level0_row8\" class=\"row_heading level0 row8\" >8</th>\n",
       "      <td id=\"T_3fa08_row8_col0\" class=\"data row8 col0\" >Ordinal Features</td>\n",
       "      <td id=\"T_3fa08_row8_col1\" class=\"data row8 col1\" >False</td>\n",
       "    </tr>\n",
       "    <tr>\n",
       "      <th id=\"T_3fa08_level0_row9\" class=\"row_heading level0 row9\" >9</th>\n",
       "      <td id=\"T_3fa08_row9_col0\" class=\"data row9 col0\" >High Cardinality Features</td>\n",
       "      <td id=\"T_3fa08_row9_col1\" class=\"data row9 col1\" >False</td>\n",
       "    </tr>\n",
       "    <tr>\n",
       "      <th id=\"T_3fa08_level0_row10\" class=\"row_heading level0 row10\" >10</th>\n",
       "      <td id=\"T_3fa08_row10_col0\" class=\"data row10 col0\" >High Cardinality Method</td>\n",
       "      <td id=\"T_3fa08_row10_col1\" class=\"data row10 col1\" >None</td>\n",
       "    </tr>\n",
       "    <tr>\n",
       "      <th id=\"T_3fa08_level0_row11\" class=\"row_heading level0 row11\" >11</th>\n",
       "      <td id=\"T_3fa08_row11_col0\" class=\"data row11 col0\" >Transformed Train Set</td>\n",
       "      <td id=\"T_3fa08_row11_col1\" class=\"data row11 col1\" >(169, 24)</td>\n",
       "    </tr>\n",
       "    <tr>\n",
       "      <th id=\"T_3fa08_level0_row12\" class=\"row_heading level0 row12\" >12</th>\n",
       "      <td id=\"T_3fa08_row12_col0\" class=\"data row12 col0\" >Transformed Test Set</td>\n",
       "      <td id=\"T_3fa08_row12_col1\" class=\"data row12 col1\" >(73, 24)</td>\n",
       "    </tr>\n",
       "    <tr>\n",
       "      <th id=\"T_3fa08_level0_row13\" class=\"row_heading level0 row13\" >13</th>\n",
       "      <td id=\"T_3fa08_row13_col0\" class=\"data row13 col0\" >Shuffle Train-Test</td>\n",
       "      <td id=\"T_3fa08_row13_col1\" class=\"data row13 col1\" >True</td>\n",
       "    </tr>\n",
       "    <tr>\n",
       "      <th id=\"T_3fa08_level0_row14\" class=\"row_heading level0 row14\" >14</th>\n",
       "      <td id=\"T_3fa08_row14_col0\" class=\"data row14 col0\" >Stratify Train-Test</td>\n",
       "      <td id=\"T_3fa08_row14_col1\" class=\"data row14 col1\" >False</td>\n",
       "    </tr>\n",
       "    <tr>\n",
       "      <th id=\"T_3fa08_level0_row15\" class=\"row_heading level0 row15\" >15</th>\n",
       "      <td id=\"T_3fa08_row15_col0\" class=\"data row15 col0\" >Fold Generator</td>\n",
       "      <td id=\"T_3fa08_row15_col1\" class=\"data row15 col1\" >StratifiedKFold</td>\n",
       "    </tr>\n",
       "    <tr>\n",
       "      <th id=\"T_3fa08_level0_row16\" class=\"row_heading level0 row16\" >16</th>\n",
       "      <td id=\"T_3fa08_row16_col0\" class=\"data row16 col0\" >Fold Number</td>\n",
       "      <td id=\"T_3fa08_row16_col1\" class=\"data row16 col1\" >10</td>\n",
       "    </tr>\n",
       "    <tr>\n",
       "      <th id=\"T_3fa08_level0_row17\" class=\"row_heading level0 row17\" >17</th>\n",
       "      <td id=\"T_3fa08_row17_col0\" class=\"data row17 col0\" >CPU Jobs</td>\n",
       "      <td id=\"T_3fa08_row17_col1\" class=\"data row17 col1\" >-1</td>\n",
       "    </tr>\n",
       "    <tr>\n",
       "      <th id=\"T_3fa08_level0_row18\" class=\"row_heading level0 row18\" >18</th>\n",
       "      <td id=\"T_3fa08_row18_col0\" class=\"data row18 col0\" >Use GPU</td>\n",
       "      <td id=\"T_3fa08_row18_col1\" class=\"data row18 col1\" >False</td>\n",
       "    </tr>\n",
       "    <tr>\n",
       "      <th id=\"T_3fa08_level0_row19\" class=\"row_heading level0 row19\" >19</th>\n",
       "      <td id=\"T_3fa08_row19_col0\" class=\"data row19 col0\" >Log Experiment</td>\n",
       "      <td id=\"T_3fa08_row19_col1\" class=\"data row19 col1\" >False</td>\n",
       "    </tr>\n",
       "    <tr>\n",
       "      <th id=\"T_3fa08_level0_row20\" class=\"row_heading level0 row20\" >20</th>\n",
       "      <td id=\"T_3fa08_row20_col0\" class=\"data row20 col0\" >Experiment Name</td>\n",
       "      <td id=\"T_3fa08_row20_col1\" class=\"data row20 col1\" >clf-default-name</td>\n",
       "    </tr>\n",
       "    <tr>\n",
       "      <th id=\"T_3fa08_level0_row21\" class=\"row_heading level0 row21\" >21</th>\n",
       "      <td id=\"T_3fa08_row21_col0\" class=\"data row21 col0\" >USI</td>\n",
       "      <td id=\"T_3fa08_row21_col1\" class=\"data row21 col1\" >62f9</td>\n",
       "    </tr>\n",
       "    <tr>\n",
       "      <th id=\"T_3fa08_level0_row22\" class=\"row_heading level0 row22\" >22</th>\n",
       "      <td id=\"T_3fa08_row22_col0\" class=\"data row22 col0\" >Imputation Type</td>\n",
       "      <td id=\"T_3fa08_row22_col1\" class=\"data row22 col1\" >simple</td>\n",
       "    </tr>\n",
       "    <tr>\n",
       "      <th id=\"T_3fa08_level0_row23\" class=\"row_heading level0 row23\" >23</th>\n",
       "      <td id=\"T_3fa08_row23_col0\" class=\"data row23 col0\" >Iterative Imputation Iteration</td>\n",
       "      <td id=\"T_3fa08_row23_col1\" class=\"data row23 col1\" >None</td>\n",
       "    </tr>\n",
       "    <tr>\n",
       "      <th id=\"T_3fa08_level0_row24\" class=\"row_heading level0 row24\" >24</th>\n",
       "      <td id=\"T_3fa08_row24_col0\" class=\"data row24 col0\" >Numeric Imputer</td>\n",
       "      <td id=\"T_3fa08_row24_col1\" class=\"data row24 col1\" >mean</td>\n",
       "    </tr>\n",
       "    <tr>\n",
       "      <th id=\"T_3fa08_level0_row25\" class=\"row_heading level0 row25\" >25</th>\n",
       "      <td id=\"T_3fa08_row25_col0\" class=\"data row25 col0\" >Iterative Imputation Numeric Model</td>\n",
       "      <td id=\"T_3fa08_row25_col1\" class=\"data row25 col1\" >None</td>\n",
       "    </tr>\n",
       "    <tr>\n",
       "      <th id=\"T_3fa08_level0_row26\" class=\"row_heading level0 row26\" >26</th>\n",
       "      <td id=\"T_3fa08_row26_col0\" class=\"data row26 col0\" >Categorical Imputer</td>\n",
       "      <td id=\"T_3fa08_row26_col1\" class=\"data row26 col1\" >constant</td>\n",
       "    </tr>\n",
       "    <tr>\n",
       "      <th id=\"T_3fa08_level0_row27\" class=\"row_heading level0 row27\" >27</th>\n",
       "      <td id=\"T_3fa08_row27_col0\" class=\"data row27 col0\" >Iterative Imputation Categorical Model</td>\n",
       "      <td id=\"T_3fa08_row27_col1\" class=\"data row27 col1\" >None</td>\n",
       "    </tr>\n",
       "    <tr>\n",
       "      <th id=\"T_3fa08_level0_row28\" class=\"row_heading level0 row28\" >28</th>\n",
       "      <td id=\"T_3fa08_row28_col0\" class=\"data row28 col0\" >Unknown Categoricals Handling</td>\n",
       "      <td id=\"T_3fa08_row28_col1\" class=\"data row28 col1\" >least_frequent</td>\n",
       "    </tr>\n",
       "    <tr>\n",
       "      <th id=\"T_3fa08_level0_row29\" class=\"row_heading level0 row29\" >29</th>\n",
       "      <td id=\"T_3fa08_row29_col0\" class=\"data row29 col0\" >Normalize</td>\n",
       "      <td id=\"T_3fa08_row29_col1\" class=\"data row29 col1\" >False</td>\n",
       "    </tr>\n",
       "    <tr>\n",
       "      <th id=\"T_3fa08_level0_row30\" class=\"row_heading level0 row30\" >30</th>\n",
       "      <td id=\"T_3fa08_row30_col0\" class=\"data row30 col0\" >Normalize Method</td>\n",
       "      <td id=\"T_3fa08_row30_col1\" class=\"data row30 col1\" >None</td>\n",
       "    </tr>\n",
       "    <tr>\n",
       "      <th id=\"T_3fa08_level0_row31\" class=\"row_heading level0 row31\" >31</th>\n",
       "      <td id=\"T_3fa08_row31_col0\" class=\"data row31 col0\" >Transformation</td>\n",
       "      <td id=\"T_3fa08_row31_col1\" class=\"data row31 col1\" >False</td>\n",
       "    </tr>\n",
       "    <tr>\n",
       "      <th id=\"T_3fa08_level0_row32\" class=\"row_heading level0 row32\" >32</th>\n",
       "      <td id=\"T_3fa08_row32_col0\" class=\"data row32 col0\" >Transformation Method</td>\n",
       "      <td id=\"T_3fa08_row32_col1\" class=\"data row32 col1\" >None</td>\n",
       "    </tr>\n",
       "    <tr>\n",
       "      <th id=\"T_3fa08_level0_row33\" class=\"row_heading level0 row33\" >33</th>\n",
       "      <td id=\"T_3fa08_row33_col0\" class=\"data row33 col0\" >PCA</td>\n",
       "      <td id=\"T_3fa08_row33_col1\" class=\"data row33 col1\" >False</td>\n",
       "    </tr>\n",
       "    <tr>\n",
       "      <th id=\"T_3fa08_level0_row34\" class=\"row_heading level0 row34\" >34</th>\n",
       "      <td id=\"T_3fa08_row34_col0\" class=\"data row34 col0\" >PCA Method</td>\n",
       "      <td id=\"T_3fa08_row34_col1\" class=\"data row34 col1\" >None</td>\n",
       "    </tr>\n",
       "    <tr>\n",
       "      <th id=\"T_3fa08_level0_row35\" class=\"row_heading level0 row35\" >35</th>\n",
       "      <td id=\"T_3fa08_row35_col0\" class=\"data row35 col0\" >PCA Components</td>\n",
       "      <td id=\"T_3fa08_row35_col1\" class=\"data row35 col1\" >None</td>\n",
       "    </tr>\n",
       "    <tr>\n",
       "      <th id=\"T_3fa08_level0_row36\" class=\"row_heading level0 row36\" >36</th>\n",
       "      <td id=\"T_3fa08_row36_col0\" class=\"data row36 col0\" >Ignore Low Variance</td>\n",
       "      <td id=\"T_3fa08_row36_col1\" class=\"data row36 col1\" >False</td>\n",
       "    </tr>\n",
       "    <tr>\n",
       "      <th id=\"T_3fa08_level0_row37\" class=\"row_heading level0 row37\" >37</th>\n",
       "      <td id=\"T_3fa08_row37_col0\" class=\"data row37 col0\" >Combine Rare Levels</td>\n",
       "      <td id=\"T_3fa08_row37_col1\" class=\"data row37 col1\" >False</td>\n",
       "    </tr>\n",
       "    <tr>\n",
       "      <th id=\"T_3fa08_level0_row38\" class=\"row_heading level0 row38\" >38</th>\n",
       "      <td id=\"T_3fa08_row38_col0\" class=\"data row38 col0\" >Rare Level Threshold</td>\n",
       "      <td id=\"T_3fa08_row38_col1\" class=\"data row38 col1\" >None</td>\n",
       "    </tr>\n",
       "    <tr>\n",
       "      <th id=\"T_3fa08_level0_row39\" class=\"row_heading level0 row39\" >39</th>\n",
       "      <td id=\"T_3fa08_row39_col0\" class=\"data row39 col0\" >Numeric Binning</td>\n",
       "      <td id=\"T_3fa08_row39_col1\" class=\"data row39 col1\" >False</td>\n",
       "    </tr>\n",
       "    <tr>\n",
       "      <th id=\"T_3fa08_level0_row40\" class=\"row_heading level0 row40\" >40</th>\n",
       "      <td id=\"T_3fa08_row40_col0\" class=\"data row40 col0\" >Remove Outliers</td>\n",
       "      <td id=\"T_3fa08_row40_col1\" class=\"data row40 col1\" >False</td>\n",
       "    </tr>\n",
       "    <tr>\n",
       "      <th id=\"T_3fa08_level0_row41\" class=\"row_heading level0 row41\" >41</th>\n",
       "      <td id=\"T_3fa08_row41_col0\" class=\"data row41 col0\" >Outliers Threshold</td>\n",
       "      <td id=\"T_3fa08_row41_col1\" class=\"data row41 col1\" >None</td>\n",
       "    </tr>\n",
       "    <tr>\n",
       "      <th id=\"T_3fa08_level0_row42\" class=\"row_heading level0 row42\" >42</th>\n",
       "      <td id=\"T_3fa08_row42_col0\" class=\"data row42 col0\" >Remove Multicollinearity</td>\n",
       "      <td id=\"T_3fa08_row42_col1\" class=\"data row42 col1\" >False</td>\n",
       "    </tr>\n",
       "    <tr>\n",
       "      <th id=\"T_3fa08_level0_row43\" class=\"row_heading level0 row43\" >43</th>\n",
       "      <td id=\"T_3fa08_row43_col0\" class=\"data row43 col0\" >Multicollinearity Threshold</td>\n",
       "      <td id=\"T_3fa08_row43_col1\" class=\"data row43 col1\" >None</td>\n",
       "    </tr>\n",
       "    <tr>\n",
       "      <th id=\"T_3fa08_level0_row44\" class=\"row_heading level0 row44\" >44</th>\n",
       "      <td id=\"T_3fa08_row44_col0\" class=\"data row44 col0\" >Remove Perfect Collinearity</td>\n",
       "      <td id=\"T_3fa08_row44_col1\" class=\"data row44 col1\" >True</td>\n",
       "    </tr>\n",
       "    <tr>\n",
       "      <th id=\"T_3fa08_level0_row45\" class=\"row_heading level0 row45\" >45</th>\n",
       "      <td id=\"T_3fa08_row45_col0\" class=\"data row45 col0\" >Clustering</td>\n",
       "      <td id=\"T_3fa08_row45_col1\" class=\"data row45 col1\" >False</td>\n",
       "    </tr>\n",
       "    <tr>\n",
       "      <th id=\"T_3fa08_level0_row46\" class=\"row_heading level0 row46\" >46</th>\n",
       "      <td id=\"T_3fa08_row46_col0\" class=\"data row46 col0\" >Clustering Iteration</td>\n",
       "      <td id=\"T_3fa08_row46_col1\" class=\"data row46 col1\" >None</td>\n",
       "    </tr>\n",
       "    <tr>\n",
       "      <th id=\"T_3fa08_level0_row47\" class=\"row_heading level0 row47\" >47</th>\n",
       "      <td id=\"T_3fa08_row47_col0\" class=\"data row47 col0\" >Polynomial Features</td>\n",
       "      <td id=\"T_3fa08_row47_col1\" class=\"data row47 col1\" >False</td>\n",
       "    </tr>\n",
       "    <tr>\n",
       "      <th id=\"T_3fa08_level0_row48\" class=\"row_heading level0 row48\" >48</th>\n",
       "      <td id=\"T_3fa08_row48_col0\" class=\"data row48 col0\" >Polynomial Degree</td>\n",
       "      <td id=\"T_3fa08_row48_col1\" class=\"data row48 col1\" >None</td>\n",
       "    </tr>\n",
       "    <tr>\n",
       "      <th id=\"T_3fa08_level0_row49\" class=\"row_heading level0 row49\" >49</th>\n",
       "      <td id=\"T_3fa08_row49_col0\" class=\"data row49 col0\" >Trignometry Features</td>\n",
       "      <td id=\"T_3fa08_row49_col1\" class=\"data row49 col1\" >False</td>\n",
       "    </tr>\n",
       "    <tr>\n",
       "      <th id=\"T_3fa08_level0_row50\" class=\"row_heading level0 row50\" >50</th>\n",
       "      <td id=\"T_3fa08_row50_col0\" class=\"data row50 col0\" >Polynomial Threshold</td>\n",
       "      <td id=\"T_3fa08_row50_col1\" class=\"data row50 col1\" >None</td>\n",
       "    </tr>\n",
       "    <tr>\n",
       "      <th id=\"T_3fa08_level0_row51\" class=\"row_heading level0 row51\" >51</th>\n",
       "      <td id=\"T_3fa08_row51_col0\" class=\"data row51 col0\" >Group Features</td>\n",
       "      <td id=\"T_3fa08_row51_col1\" class=\"data row51 col1\" >False</td>\n",
       "    </tr>\n",
       "    <tr>\n",
       "      <th id=\"T_3fa08_level0_row52\" class=\"row_heading level0 row52\" >52</th>\n",
       "      <td id=\"T_3fa08_row52_col0\" class=\"data row52 col0\" >Feature Selection</td>\n",
       "      <td id=\"T_3fa08_row52_col1\" class=\"data row52 col1\" >False</td>\n",
       "    </tr>\n",
       "    <tr>\n",
       "      <th id=\"T_3fa08_level0_row53\" class=\"row_heading level0 row53\" >53</th>\n",
       "      <td id=\"T_3fa08_row53_col0\" class=\"data row53 col0\" >Feature Selection Method</td>\n",
       "      <td id=\"T_3fa08_row53_col1\" class=\"data row53 col1\" >classic</td>\n",
       "    </tr>\n",
       "    <tr>\n",
       "      <th id=\"T_3fa08_level0_row54\" class=\"row_heading level0 row54\" >54</th>\n",
       "      <td id=\"T_3fa08_row54_col0\" class=\"data row54 col0\" >Features Selection Threshold</td>\n",
       "      <td id=\"T_3fa08_row54_col1\" class=\"data row54 col1\" >None</td>\n",
       "    </tr>\n",
       "    <tr>\n",
       "      <th id=\"T_3fa08_level0_row55\" class=\"row_heading level0 row55\" >55</th>\n",
       "      <td id=\"T_3fa08_row55_col0\" class=\"data row55 col0\" >Feature Interaction</td>\n",
       "      <td id=\"T_3fa08_row55_col1\" class=\"data row55 col1\" >False</td>\n",
       "    </tr>\n",
       "    <tr>\n",
       "      <th id=\"T_3fa08_level0_row56\" class=\"row_heading level0 row56\" >56</th>\n",
       "      <td id=\"T_3fa08_row56_col0\" class=\"data row56 col0\" >Feature Ratio</td>\n",
       "      <td id=\"T_3fa08_row56_col1\" class=\"data row56 col1\" >False</td>\n",
       "    </tr>\n",
       "    <tr>\n",
       "      <th id=\"T_3fa08_level0_row57\" class=\"row_heading level0 row57\" >57</th>\n",
       "      <td id=\"T_3fa08_row57_col0\" class=\"data row57 col0\" >Interaction Threshold</td>\n",
       "      <td id=\"T_3fa08_row57_col1\" class=\"data row57 col1\" >None</td>\n",
       "    </tr>\n",
       "    <tr>\n",
       "      <th id=\"T_3fa08_level0_row58\" class=\"row_heading level0 row58\" >58</th>\n",
       "      <td id=\"T_3fa08_row58_col0\" class=\"data row58 col0\" >Fix Imbalance</td>\n",
       "      <td id=\"T_3fa08_row58_col1\" class=\"data row58 col1\" >False</td>\n",
       "    </tr>\n",
       "    <tr>\n",
       "      <th id=\"T_3fa08_level0_row59\" class=\"row_heading level0 row59\" >59</th>\n",
       "      <td id=\"T_3fa08_row59_col0\" class=\"data row59 col0\" >Fix Imbalance Method</td>\n",
       "      <td id=\"T_3fa08_row59_col1\" class=\"data row59 col1\" >SMOTE</td>\n",
       "    </tr>\n",
       "  </tbody>\n",
       "</table>\n"
      ],
      "text/plain": [
       "<pandas.io.formats.style.Styler at 0x2f4fa9988b0>"
      ]
     },
     "metadata": {},
     "output_type": "display_data"
    }
   ],
   "source": [
    "classification = setup(data = data_train, target = 'output', session_id=42) "
   ]
  },
  {
   "cell_type": "code",
   "execution_count": 35,
   "id": "6f44c704",
   "metadata": {
    "ExecuteTime": {
     "end_time": "2022-05-17T01:13:33.654780Z",
     "start_time": "2022-05-17T01:13:21.095048Z"
    }
   },
   "outputs": [
    {
     "data": {
      "text/html": [
       "<style type=\"text/css\">\n",
       "#T_62efa th {\n",
       "  text-align: left;\n",
       "}\n",
       "#T_62efa_row0_col0, #T_62efa_row0_col3, #T_62efa_row1_col0, #T_62efa_row1_col1, #T_62efa_row1_col2, #T_62efa_row1_col3, #T_62efa_row1_col4, #T_62efa_row1_col5, #T_62efa_row1_col6, #T_62efa_row1_col7, #T_62efa_row2_col0, #T_62efa_row2_col1, #T_62efa_row2_col2, #T_62efa_row2_col3, #T_62efa_row2_col4, #T_62efa_row2_col5, #T_62efa_row2_col6, #T_62efa_row2_col7, #T_62efa_row3_col0, #T_62efa_row3_col1, #T_62efa_row3_col2, #T_62efa_row3_col3, #T_62efa_row3_col4, #T_62efa_row3_col5, #T_62efa_row3_col6, #T_62efa_row3_col7, #T_62efa_row4_col0, #T_62efa_row4_col1, #T_62efa_row4_col2, #T_62efa_row4_col3, #T_62efa_row4_col4, #T_62efa_row4_col5, #T_62efa_row4_col6, #T_62efa_row4_col7, #T_62efa_row5_col0, #T_62efa_row5_col1, #T_62efa_row5_col2, #T_62efa_row5_col3, #T_62efa_row5_col4, #T_62efa_row5_col5, #T_62efa_row5_col6, #T_62efa_row5_col7, #T_62efa_row6_col0, #T_62efa_row6_col1, #T_62efa_row6_col2, #T_62efa_row6_col3, #T_62efa_row6_col4, #T_62efa_row6_col5, #T_62efa_row6_col6, #T_62efa_row6_col7, #T_62efa_row7_col0, #T_62efa_row7_col1, #T_62efa_row7_col2, #T_62efa_row7_col3, #T_62efa_row7_col4, #T_62efa_row7_col5, #T_62efa_row7_col6, #T_62efa_row7_col7, #T_62efa_row8_col0, #T_62efa_row8_col1, #T_62efa_row8_col2, #T_62efa_row8_col3, #T_62efa_row8_col4, #T_62efa_row8_col5, #T_62efa_row8_col6, #T_62efa_row8_col7, #T_62efa_row9_col0, #T_62efa_row9_col1, #T_62efa_row9_col2, #T_62efa_row9_col3, #T_62efa_row9_col4, #T_62efa_row9_col5, #T_62efa_row9_col6, #T_62efa_row9_col7, #T_62efa_row10_col0, #T_62efa_row10_col1, #T_62efa_row10_col2, #T_62efa_row10_col3, #T_62efa_row10_col4, #T_62efa_row10_col5, #T_62efa_row10_col6, #T_62efa_row10_col7, #T_62efa_row11_col0, #T_62efa_row11_col1, #T_62efa_row11_col2, #T_62efa_row11_col4, #T_62efa_row11_col5, #T_62efa_row11_col6, #T_62efa_row11_col7, #T_62efa_row12_col0, #T_62efa_row12_col1, #T_62efa_row12_col2, #T_62efa_row12_col3, #T_62efa_row12_col4, #T_62efa_row12_col5, #T_62efa_row12_col6, #T_62efa_row12_col7, #T_62efa_row13_col0, #T_62efa_row13_col1, #T_62efa_row13_col2, #T_62efa_row13_col3, #T_62efa_row13_col4, #T_62efa_row13_col5, #T_62efa_row13_col6, #T_62efa_row13_col7 {\n",
       "  text-align: left;\n",
       "}\n",
       "#T_62efa_row0_col1, #T_62efa_row0_col2, #T_62efa_row0_col4, #T_62efa_row0_col5, #T_62efa_row0_col6, #T_62efa_row0_col7, #T_62efa_row11_col3 {\n",
       "  text-align: left;\n",
       "  background-color: yellow;\n",
       "}\n",
       "#T_62efa_row0_col8, #T_62efa_row1_col8, #T_62efa_row2_col8, #T_62efa_row3_col8, #T_62efa_row5_col8, #T_62efa_row6_col8, #T_62efa_row7_col8, #T_62efa_row8_col8, #T_62efa_row9_col8, #T_62efa_row10_col8, #T_62efa_row12_col8, #T_62efa_row13_col8 {\n",
       "  text-align: left;\n",
       "  background-color: lightgrey;\n",
       "}\n",
       "#T_62efa_row4_col8, #T_62efa_row11_col8 {\n",
       "  text-align: left;\n",
       "  background-color: yellow;\n",
       "  background-color: lightgrey;\n",
       "}\n",
       "</style>\n",
       "<table id=\"T_62efa\">\n",
       "  <thead>\n",
       "    <tr>\n",
       "      <th class=\"blank level0\" >&nbsp;</th>\n",
       "      <th id=\"T_62efa_level0_col0\" class=\"col_heading level0 col0\" >Model</th>\n",
       "      <th id=\"T_62efa_level0_col1\" class=\"col_heading level0 col1\" >Accuracy</th>\n",
       "      <th id=\"T_62efa_level0_col2\" class=\"col_heading level0 col2\" >AUC</th>\n",
       "      <th id=\"T_62efa_level0_col3\" class=\"col_heading level0 col3\" >Recall</th>\n",
       "      <th id=\"T_62efa_level0_col4\" class=\"col_heading level0 col4\" >Prec.</th>\n",
       "      <th id=\"T_62efa_level0_col5\" class=\"col_heading level0 col5\" >F1</th>\n",
       "      <th id=\"T_62efa_level0_col6\" class=\"col_heading level0 col6\" >Kappa</th>\n",
       "      <th id=\"T_62efa_level0_col7\" class=\"col_heading level0 col7\" >MCC</th>\n",
       "      <th id=\"T_62efa_level0_col8\" class=\"col_heading level0 col8\" >TT (Sec)</th>\n",
       "    </tr>\n",
       "  </thead>\n",
       "  <tbody>\n",
       "    <tr>\n",
       "      <th id=\"T_62efa_level0_row0\" class=\"row_heading level0 row0\" >lr</th>\n",
       "      <td id=\"T_62efa_row0_col0\" class=\"data row0 col0\" >Logistic Regression</td>\n",
       "      <td id=\"T_62efa_row0_col1\" class=\"data row0 col1\" >0.8224</td>\n",
       "      <td id=\"T_62efa_row0_col2\" class=\"data row0 col2\" >0.8803</td>\n",
       "      <td id=\"T_62efa_row0_col3\" class=\"data row0 col3\" >0.8878</td>\n",
       "      <td id=\"T_62efa_row0_col4\" class=\"data row0 col4\" >0.8253</td>\n",
       "      <td id=\"T_62efa_row0_col5\" class=\"data row0 col5\" >0.8520</td>\n",
       "      <td id=\"T_62efa_row0_col6\" class=\"data row0 col6\" >0.6292</td>\n",
       "      <td id=\"T_62efa_row0_col7\" class=\"data row0 col7\" >0.6423</td>\n",
       "      <td id=\"T_62efa_row0_col8\" class=\"data row0 col8\" >0.0650</td>\n",
       "    </tr>\n",
       "    <tr>\n",
       "      <th id=\"T_62efa_level0_row1\" class=\"row_heading level0 row1\" >nb</th>\n",
       "      <td id=\"T_62efa_row1_col0\" class=\"data row1 col0\" >Naive Bayes</td>\n",
       "      <td id=\"T_62efa_row1_col1\" class=\"data row1 col1\" >0.7993</td>\n",
       "      <td id=\"T_62efa_row1_col2\" class=\"data row1 col2\" >0.8367</td>\n",
       "      <td id=\"T_62efa_row1_col3\" class=\"data row1 col3\" >0.8789</td>\n",
       "      <td id=\"T_62efa_row1_col4\" class=\"data row1 col4\" >0.8060</td>\n",
       "      <td id=\"T_62efa_row1_col5\" class=\"data row1 col5\" >0.8380</td>\n",
       "      <td id=\"T_62efa_row1_col6\" class=\"data row1 col6\" >0.5747</td>\n",
       "      <td id=\"T_62efa_row1_col7\" class=\"data row1 col7\" >0.5833</td>\n",
       "      <td id=\"T_62efa_row1_col8\" class=\"data row1 col8\" >0.0060</td>\n",
       "    </tr>\n",
       "    <tr>\n",
       "      <th id=\"T_62efa_level0_row2\" class=\"row_heading level0 row2\" >rf</th>\n",
       "      <td id=\"T_62efa_row2_col0\" class=\"data row2 col0\" >Random Forest Classifier</td>\n",
       "      <td id=\"T_62efa_row2_col1\" class=\"data row2 col1\" >0.7871</td>\n",
       "      <td id=\"T_62efa_row2_col2\" class=\"data row2 col2\" >0.8749</td>\n",
       "      <td id=\"T_62efa_row2_col3\" class=\"data row2 col3\" >0.8478</td>\n",
       "      <td id=\"T_62efa_row2_col4\" class=\"data row2 col4\" >0.8208</td>\n",
       "      <td id=\"T_62efa_row2_col5\" class=\"data row2 col5\" >0.8231</td>\n",
       "      <td id=\"T_62efa_row2_col6\" class=\"data row2 col6\" >0.5549</td>\n",
       "      <td id=\"T_62efa_row2_col7\" class=\"data row2 col7\" >0.5819</td>\n",
       "      <td id=\"T_62efa_row2_col8\" class=\"data row2 col8\" >0.1490</td>\n",
       "    </tr>\n",
       "    <tr>\n",
       "      <th id=\"T_62efa_level0_row3\" class=\"row_heading level0 row3\" >et</th>\n",
       "      <td id=\"T_62efa_row3_col0\" class=\"data row3 col0\" >Extra Trees Classifier</td>\n",
       "      <td id=\"T_62efa_row3_col1\" class=\"data row3 col1\" >0.7757</td>\n",
       "      <td id=\"T_62efa_row3_col2\" class=\"data row3 col2\" >0.8496</td>\n",
       "      <td id=\"T_62efa_row3_col3\" class=\"data row3 col3\" >0.8378</td>\n",
       "      <td id=\"T_62efa_row3_col4\" class=\"data row3 col4\" >0.7938</td>\n",
       "      <td id=\"T_62efa_row3_col5\" class=\"data row3 col5\" >0.8108</td>\n",
       "      <td id=\"T_62efa_row3_col6\" class=\"data row3 col6\" >0.5345</td>\n",
       "      <td id=\"T_62efa_row3_col7\" class=\"data row3 col7\" >0.5477</td>\n",
       "      <td id=\"T_62efa_row3_col8\" class=\"data row3 col8\" >0.1200</td>\n",
       "    </tr>\n",
       "    <tr>\n",
       "      <th id=\"T_62efa_level0_row4\" class=\"row_heading level0 row4\" >ridge</th>\n",
       "      <td id=\"T_62efa_row4_col0\" class=\"data row4 col0\" >Ridge Classifier</td>\n",
       "      <td id=\"T_62efa_row4_col1\" class=\"data row4 col1\" >0.7754</td>\n",
       "      <td id=\"T_62efa_row4_col2\" class=\"data row4 col2\" >0.0000</td>\n",
       "      <td id=\"T_62efa_row4_col3\" class=\"data row4 col3\" >0.8578</td>\n",
       "      <td id=\"T_62efa_row4_col4\" class=\"data row4 col4\" >0.7854</td>\n",
       "      <td id=\"T_62efa_row4_col5\" class=\"data row4 col5\" >0.8138</td>\n",
       "      <td id=\"T_62efa_row4_col6\" class=\"data row4 col6\" >0.5309</td>\n",
       "      <td id=\"T_62efa_row4_col7\" class=\"data row4 col7\" >0.5526</td>\n",
       "      <td id=\"T_62efa_row4_col8\" class=\"data row4 col8\" >0.0050</td>\n",
       "    </tr>\n",
       "    <tr>\n",
       "      <th id=\"T_62efa_level0_row5\" class=\"row_heading level0 row5\" >lda</th>\n",
       "      <td id=\"T_62efa_row5_col0\" class=\"data row5 col0\" >Linear Discriminant Analysis</td>\n",
       "      <td id=\"T_62efa_row5_col1\" class=\"data row5 col1\" >0.7577</td>\n",
       "      <td id=\"T_62efa_row5_col2\" class=\"data row5 col2\" >0.8662</td>\n",
       "      <td id=\"T_62efa_row5_col3\" class=\"data row5 col3\" >0.8378</td>\n",
       "      <td id=\"T_62efa_row5_col4\" class=\"data row5 col4\" >0.7771</td>\n",
       "      <td id=\"T_62efa_row5_col5\" class=\"data row5 col5\" >0.7993</td>\n",
       "      <td id=\"T_62efa_row5_col6\" class=\"data row5 col6\" >0.4952</td>\n",
       "      <td id=\"T_62efa_row5_col7\" class=\"data row5 col7\" >0.5171</td>\n",
       "      <td id=\"T_62efa_row5_col8\" class=\"data row5 col8\" >0.0080</td>\n",
       "    </tr>\n",
       "    <tr>\n",
       "      <th id=\"T_62efa_level0_row6\" class=\"row_heading level0 row6\" >gbc</th>\n",
       "      <td id=\"T_62efa_row6_col0\" class=\"data row6 col0\" >Gradient Boosting Classifier</td>\n",
       "      <td id=\"T_62efa_row6_col1\" class=\"data row6 col1\" >0.7401</td>\n",
       "      <td id=\"T_62efa_row6_col2\" class=\"data row6 col2\" >0.8073</td>\n",
       "      <td id=\"T_62efa_row6_col3\" class=\"data row6 col3\" >0.7978</td>\n",
       "      <td id=\"T_62efa_row6_col4\" class=\"data row6 col4\" >0.7884</td>\n",
       "      <td id=\"T_62efa_row6_col5\" class=\"data row6 col5\" >0.7799</td>\n",
       "      <td id=\"T_62efa_row6_col6\" class=\"data row6 col6\" >0.4600</td>\n",
       "      <td id=\"T_62efa_row6_col7\" class=\"data row6 col7\" >0.4899</td>\n",
       "      <td id=\"T_62efa_row6_col8\" class=\"data row6 col8\" >0.0500</td>\n",
       "    </tr>\n",
       "    <tr>\n",
       "      <th id=\"T_62efa_level0_row7\" class=\"row_heading level0 row7\" >lightgbm</th>\n",
       "      <td id=\"T_62efa_row7_col0\" class=\"data row7 col0\" >Light Gradient Boosting Machine</td>\n",
       "      <td id=\"T_62efa_row7_col1\" class=\"data row7 col1\" >0.7397</td>\n",
       "      <td id=\"T_62efa_row7_col2\" class=\"data row7 col2\" >0.8345</td>\n",
       "      <td id=\"T_62efa_row7_col3\" class=\"data row7 col3\" >0.7867</td>\n",
       "      <td id=\"T_62efa_row7_col4\" class=\"data row7 col4\" >0.7754</td>\n",
       "      <td id=\"T_62efa_row7_col5\" class=\"data row7 col5\" >0.7741</td>\n",
       "      <td id=\"T_62efa_row7_col6\" class=\"data row7 col6\" >0.4668</td>\n",
       "      <td id=\"T_62efa_row7_col7\" class=\"data row7 col7\" >0.4831</td>\n",
       "      <td id=\"T_62efa_row7_col8\" class=\"data row7 col8\" >0.0170</td>\n",
       "    </tr>\n",
       "    <tr>\n",
       "      <th id=\"T_62efa_level0_row8\" class=\"row_heading level0 row8\" >ada</th>\n",
       "      <td id=\"T_62efa_row8_col0\" class=\"data row8 col0\" >Ada Boost Classifier</td>\n",
       "      <td id=\"T_62efa_row8_col1\" class=\"data row8 col1\" >0.7272</td>\n",
       "      <td id=\"T_62efa_row8_col2\" class=\"data row8 col2\" >0.7598</td>\n",
       "      <td id=\"T_62efa_row8_col3\" class=\"data row8 col3\" >0.7944</td>\n",
       "      <td id=\"T_62efa_row8_col4\" class=\"data row8 col4\" >0.7600</td>\n",
       "      <td id=\"T_62efa_row8_col5\" class=\"data row8 col5\" >0.7709</td>\n",
       "      <td id=\"T_62efa_row8_col6\" class=\"data row8 col6\" >0.4320</td>\n",
       "      <td id=\"T_62efa_row8_col7\" class=\"data row8 col7\" >0.4435</td>\n",
       "      <td id=\"T_62efa_row8_col8\" class=\"data row8 col8\" >0.0620</td>\n",
       "    </tr>\n",
       "    <tr>\n",
       "      <th id=\"T_62efa_level0_row9\" class=\"row_heading level0 row9\" >dt</th>\n",
       "      <td id=\"T_62efa_row9_col0\" class=\"data row9 col0\" >Decision Tree Classifier</td>\n",
       "      <td id=\"T_62efa_row9_col1\" class=\"data row9 col1\" >0.7096</td>\n",
       "      <td id=\"T_62efa_row9_col2\" class=\"data row9 col2\" >0.7069</td>\n",
       "      <td id=\"T_62efa_row9_col3\" class=\"data row9 col3\" >0.7244</td>\n",
       "      <td id=\"T_62efa_row9_col4\" class=\"data row9 col4\" >0.7698</td>\n",
       "      <td id=\"T_62efa_row9_col5\" class=\"data row9 col5\" >0.7336</td>\n",
       "      <td id=\"T_62efa_row9_col6\" class=\"data row9 col6\" >0.4115</td>\n",
       "      <td id=\"T_62efa_row9_col7\" class=\"data row9 col7\" >0.4269</td>\n",
       "      <td id=\"T_62efa_row9_col8\" class=\"data row9 col8\" >0.0060</td>\n",
       "    </tr>\n",
       "    <tr>\n",
       "      <th id=\"T_62efa_level0_row10\" class=\"row_heading level0 row10\" >knn</th>\n",
       "      <td id=\"T_62efa_row10_col0\" class=\"data row10 col0\" >K Neighbors Classifier</td>\n",
       "      <td id=\"T_62efa_row10_col1\" class=\"data row10 col1\" >0.6272</td>\n",
       "      <td id=\"T_62efa_row10_col2\" class=\"data row10 col2\" >0.6597</td>\n",
       "      <td id=\"T_62efa_row10_col3\" class=\"data row10 col3\" >0.7256</td>\n",
       "      <td id=\"T_62efa_row10_col4\" class=\"data row10 col4\" >0.6569</td>\n",
       "      <td id=\"T_62efa_row10_col5\" class=\"data row10 col5\" >0.6827</td>\n",
       "      <td id=\"T_62efa_row10_col6\" class=\"data row10 col6\" >0.2264</td>\n",
       "      <td id=\"T_62efa_row10_col7\" class=\"data row10 col7\" >0.2412</td>\n",
       "      <td id=\"T_62efa_row10_col8\" class=\"data row10 col8\" >0.0160</td>\n",
       "    </tr>\n",
       "    <tr>\n",
       "      <th id=\"T_62efa_level0_row11\" class=\"row_heading level0 row11\" >dummy</th>\n",
       "      <td id=\"T_62efa_row11_col0\" class=\"data row11 col0\" >Dummy Classifier</td>\n",
       "      <td id=\"T_62efa_row11_col1\" class=\"data row11 col1\" >0.5798</td>\n",
       "      <td id=\"T_62efa_row11_col2\" class=\"data row11 col2\" >0.5000</td>\n",
       "      <td id=\"T_62efa_row11_col3\" class=\"data row11 col3\" >1.0000</td>\n",
       "      <td id=\"T_62efa_row11_col4\" class=\"data row11 col4\" >0.5798</td>\n",
       "      <td id=\"T_62efa_row11_col5\" class=\"data row11 col5\" >0.7338</td>\n",
       "      <td id=\"T_62efa_row11_col6\" class=\"data row11 col6\" >0.0000</td>\n",
       "      <td id=\"T_62efa_row11_col7\" class=\"data row11 col7\" >0.0000</td>\n",
       "      <td id=\"T_62efa_row11_col8\" class=\"data row11 col8\" >0.0050</td>\n",
       "    </tr>\n",
       "    <tr>\n",
       "      <th id=\"T_62efa_level0_row12\" class=\"row_heading level0 row12\" >svm</th>\n",
       "      <td id=\"T_62efa_row12_col0\" class=\"data row12 col0\" >SVM - Linear Kernel</td>\n",
       "      <td id=\"T_62efa_row12_col1\" class=\"data row12 col1\" >0.5614</td>\n",
       "      <td id=\"T_62efa_row12_col2\" class=\"data row12 col2\" >0.0000</td>\n",
       "      <td id=\"T_62efa_row12_col3\" class=\"data row12 col3\" >0.7100</td>\n",
       "      <td id=\"T_62efa_row12_col4\" class=\"data row12 col4\" >0.5145</td>\n",
       "      <td id=\"T_62efa_row12_col5\" class=\"data row12 col5\" >0.5602</td>\n",
       "      <td id=\"T_62efa_row12_col6\" class=\"data row12 col6\" >0.0352</td>\n",
       "      <td id=\"T_62efa_row12_col7\" class=\"data row12 col7\" >0.0487</td>\n",
       "      <td id=\"T_62efa_row12_col8\" class=\"data row12 col8\" >0.0070</td>\n",
       "    </tr>\n",
       "    <tr>\n",
       "      <th id=\"T_62efa_level0_row13\" class=\"row_heading level0 row13\" >qda</th>\n",
       "      <td id=\"T_62efa_row13_col0\" class=\"data row13 col0\" >Quadratic Discriminant Analysis</td>\n",
       "      <td id=\"T_62efa_row13_col1\" class=\"data row13 col1\" >0.5559</td>\n",
       "      <td id=\"T_62efa_row13_col2\" class=\"data row13 col2\" >0.4783</td>\n",
       "      <td id=\"T_62efa_row13_col3\" class=\"data row13 col3\" >0.4244</td>\n",
       "      <td id=\"T_62efa_row13_col4\" class=\"data row13 col4\" >0.6183</td>\n",
       "      <td id=\"T_62efa_row13_col5\" class=\"data row13 col5\" >0.4660</td>\n",
       "      <td id=\"T_62efa_row13_col6\" class=\"data row13 col6\" >0.1364</td>\n",
       "      <td id=\"T_62efa_row13_col7\" class=\"data row13 col7\" >0.1540</td>\n",
       "      <td id=\"T_62efa_row13_col8\" class=\"data row13 col8\" >0.0060</td>\n",
       "    </tr>\n",
       "  </tbody>\n",
       "</table>\n"
      ],
      "text/plain": [
       "<pandas.io.formats.style.Styler at 0x2f4fa49eaf0>"
      ]
     },
     "metadata": {},
     "output_type": "display_data"
    }
   ],
   "source": [
    "best_model = compare_models()"
   ]
  },
  {
   "cell_type": "code",
   "execution_count": 36,
   "id": "1b328b0b",
   "metadata": {
    "ExecuteTime": {
     "end_time": "2022-05-17T01:13:43.123782Z",
     "start_time": "2022-05-17T01:13:43.105340Z"
    }
   },
   "outputs": [
    {
     "name": "stdout",
     "output_type": "stream",
     "text": [
      "LogisticRegression(C=1.0, class_weight=None, dual=False, fit_intercept=True,\n",
      "                   intercept_scaling=1, l1_ratio=None, max_iter=1000,\n",
      "                   multi_class='auto', n_jobs=None, penalty='l2',\n",
      "                   random_state=42, solver='lbfgs', tol=0.0001, verbose=0,\n",
      "                   warm_start=False)\n"
     ]
    }
   ],
   "source": [
    "print(best_model)"
   ]
  },
  {
   "cell_type": "code",
   "execution_count": 37,
   "id": "a8a8b664",
   "metadata": {
    "ExecuteTime": {
     "end_time": "2022-05-17T01:13:54.334186Z",
     "start_time": "2022-05-17T01:13:52.884005Z"
    }
   },
   "outputs": [
    {
     "data": {
      "text/html": [
       "<style type=\"text/css\">\n",
       "#T_752da_row10_col0, #T_752da_row10_col1, #T_752da_row10_col2, #T_752da_row10_col3, #T_752da_row10_col4, #T_752da_row10_col5, #T_752da_row10_col6 {\n",
       "  background: yellow;\n",
       "}\n",
       "</style>\n",
       "<table id=\"T_752da\">\n",
       "  <thead>\n",
       "    <tr>\n",
       "      <th class=\"blank level0\" >&nbsp;</th>\n",
       "      <th id=\"T_752da_level0_col0\" class=\"col_heading level0 col0\" >Accuracy</th>\n",
       "      <th id=\"T_752da_level0_col1\" class=\"col_heading level0 col1\" >AUC</th>\n",
       "      <th id=\"T_752da_level0_col2\" class=\"col_heading level0 col2\" >Recall</th>\n",
       "      <th id=\"T_752da_level0_col3\" class=\"col_heading level0 col3\" >Prec.</th>\n",
       "      <th id=\"T_752da_level0_col4\" class=\"col_heading level0 col4\" >F1</th>\n",
       "      <th id=\"T_752da_level0_col5\" class=\"col_heading level0 col5\" >Kappa</th>\n",
       "      <th id=\"T_752da_level0_col6\" class=\"col_heading level0 col6\" >MCC</th>\n",
       "    </tr>\n",
       "    <tr>\n",
       "      <th class=\"index_name level0\" >Fold</th>\n",
       "      <th class=\"blank col0\" >&nbsp;</th>\n",
       "      <th class=\"blank col1\" >&nbsp;</th>\n",
       "      <th class=\"blank col2\" >&nbsp;</th>\n",
       "      <th class=\"blank col3\" >&nbsp;</th>\n",
       "      <th class=\"blank col4\" >&nbsp;</th>\n",
       "      <th class=\"blank col5\" >&nbsp;</th>\n",
       "      <th class=\"blank col6\" >&nbsp;</th>\n",
       "    </tr>\n",
       "  </thead>\n",
       "  <tbody>\n",
       "    <tr>\n",
       "      <th id=\"T_752da_level0_row0\" class=\"row_heading level0 row0\" >0</th>\n",
       "      <td id=\"T_752da_row0_col0\" class=\"data row0 col0\" >0.8824</td>\n",
       "      <td id=\"T_752da_row0_col1\" class=\"data row0 col1\" >0.8889</td>\n",
       "      <td id=\"T_752da_row0_col2\" class=\"data row0 col2\" >1.0000</td>\n",
       "      <td id=\"T_752da_row0_col3\" class=\"data row0 col3\" >0.8182</td>\n",
       "      <td id=\"T_752da_row0_col4\" class=\"data row0 col4\" >0.9000</td>\n",
       "      <td id=\"T_752da_row0_col5\" class=\"data row0 col5\" >0.7606</td>\n",
       "      <td id=\"T_752da_row0_col6\" class=\"data row0 col6\" >0.7833</td>\n",
       "    </tr>\n",
       "    <tr>\n",
       "      <th id=\"T_752da_level0_row1\" class=\"row_heading level0 row1\" >1</th>\n",
       "      <td id=\"T_752da_row1_col0\" class=\"data row1 col0\" >0.8824</td>\n",
       "      <td id=\"T_752da_row1_col1\" class=\"data row1 col1\" >0.9286</td>\n",
       "      <td id=\"T_752da_row1_col2\" class=\"data row1 col2\" >1.0000</td>\n",
       "      <td id=\"T_752da_row1_col3\" class=\"data row1 col3\" >0.8333</td>\n",
       "      <td id=\"T_752da_row1_col4\" class=\"data row1 col4\" >0.9091</td>\n",
       "      <td id=\"T_752da_row1_col5\" class=\"data row1 col5\" >0.7463</td>\n",
       "      <td id=\"T_752da_row1_col6\" class=\"data row1 col6\" >0.7715</td>\n",
       "    </tr>\n",
       "    <tr>\n",
       "      <th id=\"T_752da_level0_row2\" class=\"row_heading level0 row2\" >2</th>\n",
       "      <td id=\"T_752da_row2_col0\" class=\"data row2 col0\" >0.8824</td>\n",
       "      <td id=\"T_752da_row2_col1\" class=\"data row2 col1\" >0.9571</td>\n",
       "      <td id=\"T_752da_row2_col2\" class=\"data row2 col2\" >0.9000</td>\n",
       "      <td id=\"T_752da_row2_col3\" class=\"data row2 col3\" >0.9000</td>\n",
       "      <td id=\"T_752da_row2_col4\" class=\"data row2 col4\" >0.9000</td>\n",
       "      <td id=\"T_752da_row2_col5\" class=\"data row2 col5\" >0.7571</td>\n",
       "      <td id=\"T_752da_row2_col6\" class=\"data row2 col6\" >0.7571</td>\n",
       "    </tr>\n",
       "    <tr>\n",
       "      <th id=\"T_752da_level0_row3\" class=\"row_heading level0 row3\" >3</th>\n",
       "      <td id=\"T_752da_row3_col0\" class=\"data row3 col0\" >0.8824</td>\n",
       "      <td id=\"T_752da_row3_col1\" class=\"data row3 col1\" >0.9714</td>\n",
       "      <td id=\"T_752da_row3_col2\" class=\"data row3 col2\" >0.9000</td>\n",
       "      <td id=\"T_752da_row3_col3\" class=\"data row3 col3\" >0.9000</td>\n",
       "      <td id=\"T_752da_row3_col4\" class=\"data row3 col4\" >0.9000</td>\n",
       "      <td id=\"T_752da_row3_col5\" class=\"data row3 col5\" >0.7571</td>\n",
       "      <td id=\"T_752da_row3_col6\" class=\"data row3 col6\" >0.7571</td>\n",
       "    </tr>\n",
       "    <tr>\n",
       "      <th id=\"T_752da_level0_row4\" class=\"row_heading level0 row4\" >4</th>\n",
       "      <td id=\"T_752da_row4_col0\" class=\"data row4 col0\" >0.8235</td>\n",
       "      <td id=\"T_752da_row4_col1\" class=\"data row4 col1\" >0.8286</td>\n",
       "      <td id=\"T_752da_row4_col2\" class=\"data row4 col2\" >0.8000</td>\n",
       "      <td id=\"T_752da_row4_col3\" class=\"data row4 col3\" >0.8889</td>\n",
       "      <td id=\"T_752da_row4_col4\" class=\"data row4 col4\" >0.8421</td>\n",
       "      <td id=\"T_752da_row4_col5\" class=\"data row4 col5\" >0.6434</td>\n",
       "      <td id=\"T_752da_row4_col6\" class=\"data row4 col6\" >0.6480</td>\n",
       "    </tr>\n",
       "    <tr>\n",
       "      <th id=\"T_752da_level0_row5\" class=\"row_heading level0 row5\" >5</th>\n",
       "      <td id=\"T_752da_row5_col0\" class=\"data row5 col0\" >0.6471</td>\n",
       "      <td id=\"T_752da_row5_col1\" class=\"data row5 col1\" >0.7286</td>\n",
       "      <td id=\"T_752da_row5_col2\" class=\"data row5 col2\" >0.7000</td>\n",
       "      <td id=\"T_752da_row5_col3\" class=\"data row5 col3\" >0.7000</td>\n",
       "      <td id=\"T_752da_row5_col4\" class=\"data row5 col4\" >0.7000</td>\n",
       "      <td id=\"T_752da_row5_col5\" class=\"data row5 col5\" >0.2714</td>\n",
       "      <td id=\"T_752da_row5_col6\" class=\"data row5 col6\" >0.2714</td>\n",
       "    </tr>\n",
       "    <tr>\n",
       "      <th id=\"T_752da_level0_row6\" class=\"row_heading level0 row6\" >6</th>\n",
       "      <td id=\"T_752da_row6_col0\" class=\"data row6 col0\" >0.8235</td>\n",
       "      <td id=\"T_752da_row6_col1\" class=\"data row6 col1\" >0.9571</td>\n",
       "      <td id=\"T_752da_row6_col2\" class=\"data row6 col2\" >0.9000</td>\n",
       "      <td id=\"T_752da_row6_col3\" class=\"data row6 col3\" >0.8182</td>\n",
       "      <td id=\"T_752da_row6_col4\" class=\"data row6 col4\" >0.8571</td>\n",
       "      <td id=\"T_752da_row6_col5\" class=\"data row6 col5\" >0.6277</td>\n",
       "      <td id=\"T_752da_row6_col6\" class=\"data row6 col6\" >0.6326</td>\n",
       "    </tr>\n",
       "    <tr>\n",
       "      <th id=\"T_752da_level0_row7\" class=\"row_heading level0 row7\" >7</th>\n",
       "      <td id=\"T_752da_row7_col0\" class=\"data row7 col0\" >0.8235</td>\n",
       "      <td id=\"T_752da_row7_col1\" class=\"data row7 col1\" >0.7857</td>\n",
       "      <td id=\"T_752da_row7_col2\" class=\"data row7 col2\" >1.0000</td>\n",
       "      <td id=\"T_752da_row7_col3\" class=\"data row7 col3\" >0.7692</td>\n",
       "      <td id=\"T_752da_row7_col4\" class=\"data row7 col4\" >0.8696</td>\n",
       "      <td id=\"T_752da_row7_col5\" class=\"data row7 col5\" >0.6107</td>\n",
       "      <td id=\"T_752da_row7_col6\" class=\"data row7 col6\" >0.6630</td>\n",
       "    </tr>\n",
       "    <tr>\n",
       "      <th id=\"T_752da_level0_row8\" class=\"row_heading level0 row8\" >8</th>\n",
       "      <td id=\"T_752da_row8_col0\" class=\"data row8 col0\" >0.7647</td>\n",
       "      <td id=\"T_752da_row8_col1\" class=\"data row8 col1\" >0.9000</td>\n",
       "      <td id=\"T_752da_row8_col2\" class=\"data row8 col2\" >0.9000</td>\n",
       "      <td id=\"T_752da_row8_col3\" class=\"data row8 col3\" >0.7500</td>\n",
       "      <td id=\"T_752da_row8_col4\" class=\"data row8 col4\" >0.8182</td>\n",
       "      <td id=\"T_752da_row8_col5\" class=\"data row8 col5\" >0.4925</td>\n",
       "      <td id=\"T_752da_row8_col6\" class=\"data row8 col6\" >0.5092</td>\n",
       "    </tr>\n",
       "    <tr>\n",
       "      <th id=\"T_752da_level0_row9\" class=\"row_heading level0 row9\" >9</th>\n",
       "      <td id=\"T_752da_row9_col0\" class=\"data row9 col0\" >0.8125</td>\n",
       "      <td id=\"T_752da_row9_col1\" class=\"data row9 col1\" >0.8571</td>\n",
       "      <td id=\"T_752da_row9_col2\" class=\"data row9 col2\" >0.7778</td>\n",
       "      <td id=\"T_752da_row9_col3\" class=\"data row9 col3\" >0.8750</td>\n",
       "      <td id=\"T_752da_row9_col4\" class=\"data row9 col4\" >0.8235</td>\n",
       "      <td id=\"T_752da_row9_col5\" class=\"data row9 col5\" >0.6250</td>\n",
       "      <td id=\"T_752da_row9_col6\" class=\"data row9 col6\" >0.6299</td>\n",
       "    </tr>\n",
       "    <tr>\n",
       "      <th id=\"T_752da_level0_row10\" class=\"row_heading level0 row10\" >Mean</th>\n",
       "      <td id=\"T_752da_row10_col0\" class=\"data row10 col0\" >0.8224</td>\n",
       "      <td id=\"T_752da_row10_col1\" class=\"data row10 col1\" >0.8803</td>\n",
       "      <td id=\"T_752da_row10_col2\" class=\"data row10 col2\" >0.8878</td>\n",
       "      <td id=\"T_752da_row10_col3\" class=\"data row10 col3\" >0.8253</td>\n",
       "      <td id=\"T_752da_row10_col4\" class=\"data row10 col4\" >0.8520</td>\n",
       "      <td id=\"T_752da_row10_col5\" class=\"data row10 col5\" >0.6292</td>\n",
       "      <td id=\"T_752da_row10_col6\" class=\"data row10 col6\" >0.6423</td>\n",
       "    </tr>\n",
       "    <tr>\n",
       "      <th id=\"T_752da_level0_row11\" class=\"row_heading level0 row11\" >Std</th>\n",
       "      <td id=\"T_752da_row11_col0\" class=\"data row11 col0\" >0.0697</td>\n",
       "      <td id=\"T_752da_row11_col1\" class=\"data row11 col1\" >0.0762</td>\n",
       "      <td id=\"T_752da_row11_col2\" class=\"data row11 col2\" >0.0967</td>\n",
       "      <td id=\"T_752da_row11_col3\" class=\"data row11 col3\" >0.0651</td>\n",
       "      <td id=\"T_752da_row11_col4\" class=\"data row11 col4\" >0.0597</td>\n",
       "      <td id=\"T_752da_row11_col5\" class=\"data row11 col5\" >0.1452</td>\n",
       "      <td id=\"T_752da_row11_col6\" class=\"data row11 col6\" >0.1480</td>\n",
       "    </tr>\n",
       "  </tbody>\n",
       "</table>\n"
      ],
      "text/plain": [
       "<pandas.io.formats.style.Styler at 0x2f4fa9049d0>"
      ]
     },
     "metadata": {},
     "output_type": "display_data"
    }
   ],
   "source": [
    "lr = create_model('lr')"
   ]
  },
  {
   "cell_type": "code",
   "execution_count": 38,
   "id": "5bb00758",
   "metadata": {
    "ExecuteTime": {
     "end_time": "2022-05-17T01:14:00.856854Z",
     "start_time": "2022-05-17T01:14:00.331865Z"
    }
   },
   "outputs": [
    {
     "data": {
      "image/png": "[encoded data removed]",
      "text/plain": [
       "<Figure size 432x288 with 1 Axes>"
      ]
     },
     "metadata": {
      "needs_background": "light"
     },
     "output_type": "display_data"
    }
   ],
   "source": [
    "plot_model(lr, plot = 'confusion_matrix')"
   ]
  },
  {
   "cell_type": "code",
   "execution_count": 39,
   "id": "703eaac8",
   "metadata": {
    "ExecuteTime": {
     "end_time": "2022-05-17T01:14:06.947873Z",
     "start_time": "2022-05-17T01:14:06.251040Z"
    }
   },
   "outputs": [
    {
     "data": {
      "image/png": "[encoded data removed]",
      "text/plain": [
       "<Figure size 432x288 with 1 Axes>"
      ]
     },
     "metadata": {
      "needs_background": "light"
     },
     "output_type": "display_data"
    }
   ],
   "source": [
    "plot_model(lr, plot = 'auc')"
   ]
  },
  {
   "cell_type": "code",
   "execution_count": 40,
   "id": "396de687",
   "metadata": {
    "ExecuteTime": {
     "end_time": "2022-05-17T01:14:13.501822Z",
     "start_time": "2022-05-17T01:14:12.950477Z"
    }
   },
   "outputs": [
    {
     "data": {
      "image/png": "[encoded data removed]",
      "text/plain": [
       "<Figure size 800x500 with 1 Axes>"
      ]
     },
     "metadata": {
      "needs_background": "light"
     },
     "output_type": "display_data"
    }
   ],
   "source": [
    "plot_model(lr, plot='feature')"
   ]
  },
  {
   "cell_type": "code",
   "execution_count": 41,
   "id": "5f49c694",
   "metadata": {
    "ExecuteTime": {
     "end_time": "2022-05-17T01:14:35.208569Z",
     "start_time": "2022-05-17T01:14:33.035180Z"
    }
   },
   "outputs": [],
   "source": [
    "final_lr = finalize_model(lr)"
   ]
  },
  {
   "cell_type": "code",
   "execution_count": 42,
   "id": "aa05f261",
   "metadata": {
    "ExecuteTime": {
     "end_time": "2022-05-17T01:14:39.233918Z",
     "start_time": "2022-05-17T01:14:38.627587Z"
    }
   },
   "outputs": [
    {
     "data": {
      "text/html": [
       "<style type=\"text/css\">\n",
       "</style>\n",
       "<table id=\"T_55fcb\">\n",
       "  <thead>\n",
       "    <tr>\n",
       "      <th class=\"blank level0\" >&nbsp;</th>\n",
       "      <th id=\"T_55fcb_level0_col0\" class=\"col_heading level0 col0\" >Model</th>\n",
       "      <th id=\"T_55fcb_level0_col1\" class=\"col_heading level0 col1\" >Accuracy</th>\n",
       "      <th id=\"T_55fcb_level0_col2\" class=\"col_heading level0 col2\" >AUC</th>\n",
       "      <th id=\"T_55fcb_level0_col3\" class=\"col_heading level0 col3\" >Recall</th>\n",
       "      <th id=\"T_55fcb_level0_col4\" class=\"col_heading level0 col4\" >Prec.</th>\n",
       "      <th id=\"T_55fcb_level0_col5\" class=\"col_heading level0 col5\" >F1</th>\n",
       "      <th id=\"T_55fcb_level0_col6\" class=\"col_heading level0 col6\" >Kappa</th>\n",
       "      <th id=\"T_55fcb_level0_col7\" class=\"col_heading level0 col7\" >MCC</th>\n",
       "    </tr>\n",
       "  </thead>\n",
       "  <tbody>\n",
       "    <tr>\n",
       "      <th id=\"T_55fcb_level0_row0\" class=\"row_heading level0 row0\" >0</th>\n",
       "      <td id=\"T_55fcb_row0_col0\" class=\"data row0 col0\" >Logistic Regression</td>\n",
       "      <td id=\"T_55fcb_row0_col1\" class=\"data row0 col1\" >0.8852</td>\n",
       "      <td id=\"T_55fcb_row0_col2\" class=\"data row0 col2\" >0.9297</td>\n",
       "      <td id=\"T_55fcb_row0_col3\" class=\"data row0 col3\" >0.9286</td>\n",
       "      <td id=\"T_55fcb_row0_col4\" class=\"data row0 col4\" >0.8387</td>\n",
       "      <td id=\"T_55fcb_row0_col5\" class=\"data row0 col5\" >0.8814</td>\n",
       "      <td id=\"T_55fcb_row0_col6\" class=\"data row0 col6\" >0.7708</td>\n",
       "      <td id=\"T_55fcb_row0_col7\" class=\"data row0 col7\" >0.7745</td>\n",
       "    </tr>\n",
       "  </tbody>\n",
       "</table>\n"
      ],
      "text/plain": [
       "<pandas.io.formats.style.Styler at 0x2f4f6a283d0>"
      ]
     },
     "metadata": {},
     "output_type": "display_data"
    },
    {
     "data": {
      "text/html": [
       "<div>\n",
       "<style scoped>\n",
       "    .dataframe tbody tr th:only-of-type {\n",
       "        vertical-align: middle;\n",
       "    }\n",
       "\n",
       "    .dataframe tbody tr th {\n",
       "        vertical-align: top;\n",
       "    }\n",
       "\n",
       "    .dataframe thead th {\n",
       "        text-align: right;\n",
       "    }\n",
       "</style>\n",
       "<table border=\"1\" class=\"dataframe\">\n",
       "  <thead>\n",
       "    <tr style=\"text-align: right;\">\n",
       "      <th></th>\n",
       "      <th>idade</th>\n",
       "      <th>sexo</th>\n",
       "      <th>tipo</th>\n",
       "      <th>pa repouso</th>\n",
       "      <th>colesterol</th>\n",
       "      <th>glicemia</th>\n",
       "      <th>ecg repouso</th>\n",
       "      <th>fc max</th>\n",
       "      <th>exercicio</th>\n",
       "      <th>oldpeak</th>\n",
       "      <th>veias</th>\n",
       "      <th>talessemia</th>\n",
       "      <th>output</th>\n",
       "      <th>Label</th>\n",
       "      <th>Score</th>\n",
       "    </tr>\n",
       "  </thead>\n",
       "  <tbody>\n",
       "    <tr>\n",
       "      <th>128</th>\n",
       "      <td>52</td>\n",
       "      <td>0</td>\n",
       "      <td>2</td>\n",
       "      <td>136</td>\n",
       "      <td>196</td>\n",
       "      <td>0</td>\n",
       "      <td>0</td>\n",
       "      <td>169</td>\n",
       "      <td>0</td>\n",
       "      <td>0.1</td>\n",
       "      <td>0</td>\n",
       "      <td>2</td>\n",
       "      <td>1</td>\n",
       "      <td>1</td>\n",
       "      <td>0.9825</td>\n",
       "    </tr>\n",
       "    <tr>\n",
       "      <th>265</th>\n",
       "      <td>66</td>\n",
       "      <td>1</td>\n",
       "      <td>0</td>\n",
       "      <td>112</td>\n",
       "      <td>212</td>\n",
       "      <td>0</td>\n",
       "      <td>0</td>\n",
       "      <td>132</td>\n",
       "      <td>1</td>\n",
       "      <td>0.1</td>\n",
       "      <td>1</td>\n",
       "      <td>2</td>\n",
       "      <td>0</td>\n",
       "      <td>0</td>\n",
       "      <td>0.7629</td>\n",
       "    </tr>\n",
       "    <tr>\n",
       "      <th>99</th>\n",
       "      <td>53</td>\n",
       "      <td>1</td>\n",
       "      <td>2</td>\n",
       "      <td>130</td>\n",
       "      <td>246</td>\n",
       "      <td>1</td>\n",
       "      <td>0</td>\n",
       "      <td>173</td>\n",
       "      <td>0</td>\n",
       "      <td>0.0</td>\n",
       "      <td>3</td>\n",
       "      <td>2</td>\n",
       "      <td>1</td>\n",
       "      <td>1</td>\n",
       "      <td>0.8514</td>\n",
       "    </tr>\n",
       "    <tr>\n",
       "      <th>25</th>\n",
       "      <td>71</td>\n",
       "      <td>0</td>\n",
       "      <td>1</td>\n",
       "      <td>160</td>\n",
       "      <td>302</td>\n",
       "      <td>0</td>\n",
       "      <td>1</td>\n",
       "      <td>162</td>\n",
       "      <td>0</td>\n",
       "      <td>0.4</td>\n",
       "      <td>2</td>\n",
       "      <td>2</td>\n",
       "      <td>1</td>\n",
       "      <td>1</td>\n",
       "      <td>0.6744</td>\n",
       "    </tr>\n",
       "    <tr>\n",
       "      <th>148</th>\n",
       "      <td>44</td>\n",
       "      <td>1</td>\n",
       "      <td>2</td>\n",
       "      <td>120</td>\n",
       "      <td>226</td>\n",
       "      <td>0</td>\n",
       "      <td>1</td>\n",
       "      <td>169</td>\n",
       "      <td>0</td>\n",
       "      <td>0.0</td>\n",
       "      <td>0</td>\n",
       "      <td>2</td>\n",
       "      <td>1</td>\n",
       "      <td>1</td>\n",
       "      <td>0.9769</td>\n",
       "    </tr>\n",
       "    <tr>\n",
       "      <th>...</th>\n",
       "      <td>...</td>\n",
       "      <td>...</td>\n",
       "      <td>...</td>\n",
       "      <td>...</td>\n",
       "      <td>...</td>\n",
       "      <td>...</td>\n",
       "      <td>...</td>\n",
       "      <td>...</td>\n",
       "      <td>...</td>\n",
       "      <td>...</td>\n",
       "      <td>...</td>\n",
       "      <td>...</td>\n",
       "      <td>...</td>\n",
       "      <td>...</td>\n",
       "      <td>...</td>\n",
       "    </tr>\n",
       "    <tr>\n",
       "      <th>46</th>\n",
       "      <td>44</td>\n",
       "      <td>1</td>\n",
       "      <td>2</td>\n",
       "      <td>140</td>\n",
       "      <td>235</td>\n",
       "      <td>0</td>\n",
       "      <td>0</td>\n",
       "      <td>180</td>\n",
       "      <td>0</td>\n",
       "      <td>0.0</td>\n",
       "      <td>0</td>\n",
       "      <td>2</td>\n",
       "      <td>1</td>\n",
       "      <td>1</td>\n",
       "      <td>0.9630</td>\n",
       "    </tr>\n",
       "    <tr>\n",
       "      <th>121</th>\n",
       "      <td>59</td>\n",
       "      <td>1</td>\n",
       "      <td>0</td>\n",
       "      <td>138</td>\n",
       "      <td>271</td>\n",
       "      <td>0</td>\n",
       "      <td>0</td>\n",
       "      <td>182</td>\n",
       "      <td>0</td>\n",
       "      <td>0.0</td>\n",
       "      <td>0</td>\n",
       "      <td>2</td>\n",
       "      <td>1</td>\n",
       "      <td>1</td>\n",
       "      <td>0.8520</td>\n",
       "    </tr>\n",
       "    <tr>\n",
       "      <th>180</th>\n",
       "      <td>55</td>\n",
       "      <td>1</td>\n",
       "      <td>0</td>\n",
       "      <td>132</td>\n",
       "      <td>353</td>\n",
       "      <td>0</td>\n",
       "      <td>1</td>\n",
       "      <td>132</td>\n",
       "      <td>1</td>\n",
       "      <td>1.2</td>\n",
       "      <td>1</td>\n",
       "      <td>3</td>\n",
       "      <td>0</td>\n",
       "      <td>0</td>\n",
       "      <td>0.9709</td>\n",
       "    </tr>\n",
       "    <tr>\n",
       "      <th>300</th>\n",
       "      <td>68</td>\n",
       "      <td>1</td>\n",
       "      <td>0</td>\n",
       "      <td>144</td>\n",
       "      <td>193</td>\n",
       "      <td>1</td>\n",
       "      <td>1</td>\n",
       "      <td>141</td>\n",
       "      <td>0</td>\n",
       "      <td>3.4</td>\n",
       "      <td>2</td>\n",
       "      <td>3</td>\n",
       "      <td>0</td>\n",
       "      <td>0</td>\n",
       "      <td>0.9894</td>\n",
       "    </tr>\n",
       "    <tr>\n",
       "      <th>291</th>\n",
       "      <td>58</td>\n",
       "      <td>1</td>\n",
       "      <td>0</td>\n",
       "      <td>114</td>\n",
       "      <td>318</td>\n",
       "      <td>0</td>\n",
       "      <td>2</td>\n",
       "      <td>140</td>\n",
       "      <td>0</td>\n",
       "      <td>4.4</td>\n",
       "      <td>3</td>\n",
       "      <td>1</td>\n",
       "      <td>0</td>\n",
       "      <td>0</td>\n",
       "      <td>0.9843</td>\n",
       "    </tr>\n",
       "  </tbody>\n",
       "</table>\n",
       "<p>61 rows × 15 columns</p>\n",
       "</div>"
      ],
      "text/plain": [
       "     idade  sexo  tipo  pa repouso  colesterol  glicemia  ecg repouso  fc max  \\\n",
       "128     52     0     2         136         196         0            0     169   \n",
       "265     66     1     0         112         212         0            0     132   \n",
       "99      53     1     2         130         246         1            0     173   \n",
       "25      71     0     1         160         302         0            1     162   \n",
       "148     44     1     2         120         226         0            1     169   \n",
       "..     ...   ...   ...         ...         ...       ...          ...     ...   \n",
       "46      44     1     2         140         235         0            0     180   \n",
       "121     59     1     0         138         271         0            0     182   \n",
       "180     55     1     0         132         353         0            1     132   \n",
       "300     68     1     0         144         193         1            1     141   \n",
       "291     58     1     0         114         318         0            2     140   \n",
       "\n",
       "     exercicio  oldpeak  veias  talessemia  output  Label   Score  \n",
       "128          0      0.1      0           2       1      1  0.9825  \n",
       "265          1      0.1      1           2       0      0  0.7629  \n",
       "99           0      0.0      3           2       1      1  0.8514  \n",
       "25           0      0.4      2           2       1      1  0.6744  \n",
       "148          0      0.0      0           2       1      1  0.9769  \n",
       "..         ...      ...    ...         ...     ...    ...     ...  \n",
       "46           0      0.0      0           2       1      1  0.9630  \n",
       "121          0      0.0      0           2       1      1  0.8520  \n",
       "180          1      1.2      1           3       0      0  0.9709  \n",
       "300          0      3.4      2           3       0      0  0.9894  \n",
       "291          0      4.4      3           1       0      0  0.9843  \n",
       "\n",
       "[61 rows x 15 columns]"
      ]
     },
     "execution_count": 42,
     "metadata": {},
     "output_type": "execute_result"
    }
   ],
   "source": [
    "predict_model(final_lr, data=data_test)"
   ]
  },
  {
   "cell_type": "code",
   "execution_count": null,
   "id": "8a1fd66f",
   "metadata": {},
   "outputs": [],
   "source": []
  }
 ],
 "metadata": {
  "kernelspec": {
   "display_name": "pycaret",
   "language": "python",
   "name": "pycaret"
  },
  "language_info": {
   "codemirror_mode": {
    "name": "ipython",
    "version": 3
   },
   "file_extension": ".py",
   "mimetype": "text/x-python",
   "name": "python",
   "nbconvert_exporter": "python",
   "pygments_lexer": "ipython3",
   "version": "3.8.13"
  },
  "toc": {
   "base_numbering": 1,
   "nav_menu": {},
   "number_sections": true,
   "sideBar": true,
   "skip_h1_title": false,
   "title_cell": "Table of Contents",
   "title_sidebar": "Contents",
   "toc_cell": false,
   "toc_position": {},
   "toc_section_display": true,
   "toc_window_display": false
  }
 },
 "nbformat": 4,
 "nbformat_minor": 5
}
